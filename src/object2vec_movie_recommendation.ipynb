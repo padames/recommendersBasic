{
 "cells": [
  {
   "cell_type": "markdown",
   "metadata": {},
   "source": [
    "# An Introduction to SageMaker ObjectToVec model for MovieLens recommendation\n",
    "\n",
    "\n",
    "1. [Background](#Background)\n",
    "1. [Data exploration and preparation](#Data-exploration-and-preparation)\n",
    "1. [Rating prediction task](#Rating-prediction-task)\n",
    "1. [Recommendation task](#Recommendation-task)\n",
    "1. [Movie retrieval in the embedding space](#Movie-retrieval-in-the-embedding-space)"
   ]
  },
  {
   "cell_type": "markdown",
   "metadata": {},
   "source": [
    "# Background\n",
    "\n",
    "### ObjectToVec\n",
    "*Object2Vec* is a highly customizable multi-purpose algorithm that can learn embeddings of pairs of objects. The embeddings are learned such that it preserves their pairwise **similarities** in the original space.\n",
    "- **Similarity** is user-defined: users need to provide the algorithm with pairs of objects that they define as similar (1) or dissimilar (0); alternatively, the users can define similarity in a continuous sense (provide a real-valued similarity score)\n",
    "- The learned embeddings can be used to efficiently compute nearest neighbors of objects, as well as to visualize natural clusters of related objects in the embedding space. In addition, the embeddings can also be used as features of the corresponding objects in downstream supervised tasks such as classification or regression"
   ]
  },
  {
   "cell_type": "markdown",
   "metadata": {},
   "source": [
    "## In this notebook example:\n",
    "We demonstrate how Object2Vec can be used to solve problems arising in recommendation systems. Specifically,\n",
    "\n",
    "- We provide the algorithm with (UserID, MovieID) pairs; for each such pair, we also provide a \"label\" that tells the algorithm whether the user and movie are similar or not\n",
    "\n",
    "     * When the labels are real-valued, we use the algorithm to predict the exact ratings of a movie given a user\n",
    "     * When the labels are binary, we use the algorithm to recommendation movies to users\n",
    "\n",
    "- The diagram below shows the customization of our model to the problem of predicting movie ratings, using a dataset that provides `(UserID, ItemID, Rating)` samples. Here, ratings are real-valued"
   ]
  },
  {
   "cell_type": "markdown",
   "metadata": {},
   "source": [
    "<img style=\"float:middle\" src=\"image_ml_rating.png\" width=\"480\">"
   ]
  },
  {
   "cell_type": "markdown",
   "metadata": {},
   "source": [
    "### Dataset\n",
    "- We use the MovieLens 100k dataset: https://grouplens.org/datasets/movielens/100k/"
   ]
  },
  {
   "cell_type": "markdown",
   "metadata": {},
   "source": [
    "### Use cases\n",
    "\n",
    "- Task 1: Rating prediction (regression)\n",
    "- Task 2: Movie recommendation (classification)\n",
    "- Task 3: Nearest-neighbor movie retrieval in the learned embedding space"
   ]
  },
  {
   "cell_type": "markdown",
   "metadata": {},
   "source": [
    "### Before running the notebook\n",
    "- Please use a Python 3 kernel for the notebook\n",
    "- Please make sure you have `jsonlines` package installed (if not, you can run the command below to install it)"
   ]
  },
  {
   "cell_type": "code",
   "execution_count": 1,
   "metadata": {},
   "outputs": [
    {
     "name": "stdout",
     "output_type": "stream",
     "text": [
      "Collecting jsonlines\n",
      "  Downloading https://files.pythonhosted.org/packages/4f/9a/ab96291470e305504aa4b7a2e0ec132e930da89eb3ca7a82fbe03167c131/jsonlines-1.2.0-py2.py3-none-any.whl\n",
      "Requirement already satisfied: six in /home/ec2-user/anaconda3/envs/amazonei_tensorflow_p36/lib/python3.6/site-packages (from jsonlines) (1.11.0)\n",
      "Installing collected packages: jsonlines\n",
      "Successfully installed jsonlines-1.2.0\n",
      "\u001b[33mYou are using pip version 10.0.1, however version 20.1 is available.\n",
      "You should consider upgrading via the 'pip install --upgrade pip' command.\u001b[0m\n"
     ]
    }
   ],
   "source": [
    "!pip install jsonlines"
   ]
  },
  {
   "cell_type": "code",
   "execution_count": 27,
   "metadata": {},
   "outputs": [],
   "source": [
    "import os\n",
    "import sys\n",
    "import csv, jsonlines\n",
    "import numpy as np\n",
    "import copy\n",
    "import random"
   ]
  },
  {
   "cell_type": "code",
   "execution_count": 28,
   "metadata": {},
   "outputs": [],
   "source": [
    "%matplotlib inline\n",
    "import matplotlib.pyplot as plt"
   ]
  },
  {
   "cell_type": "markdown",
   "metadata": {},
   "source": [
    "# Data exploration and preparation"
   ]
  },
  {
   "cell_type": "markdown",
   "metadata": {},
   "source": [
    "### License\n",
    "Please be aware of the following requirements about ackonwledgment, copyright and availability, cited from the [data set description page](http://files.grouplens.org/datasets/movielens/ml-100k-README.txt).\n",
    ">The data set may be used for any research\n",
    "purposes under the following conditions:\n",
    "     * The user may not state or imply any endorsement from the\n",
    "       University of Minnesota or the GroupLens Research Group.\n",
    "     * The user must acknowledge the use of the data set in\n",
    "       publications resulting from the use of the data set\n",
    "       (see below for citation information).\n",
    "     * The user may not redistribute the data without separate\n",
    "       permission.\n",
    "     * The user may not use this information for any commercial or\n",
    "       revenue-bearing purposes without first obtaining permission\n",
    "       from a faculty member of the GroupLens Research Project at the\n",
    "       University of Minnesota.\n",
    "If you have any further questions or comments, please contact GroupLens \\<grouplens-info@cs.umn.edu\\>. "
   ]
  },
  {
   "cell_type": "code",
   "execution_count": 29,
   "metadata": {},
   "outputs": [
    {
     "name": "stdout",
     "output_type": "stream",
     "text": [
      "Archive:  ml-100k.zip\n",
      "  inflating: k.zip                   \n"
     ]
    },
    {
     "name": "stderr",
     "output_type": "stream",
     "text": [
      "  % Total    % Received % Xferd  Average Speed   Time    Time     Time  Current\n",
      "                                 Dload  Upload   Total   Spent    Left  Speed\n",
      "\r",
      "  0     0    0     0    0     0      0      0 --:--:-- --:--:-- --:--:--     0\r",
      "  1 4808k    1 69225    0     0   224k      0  0:00:21 --:--:--  0:00:21  223k\r",
      "100 4808k  100 4808k    0     0  8136k      0 --:--:-- --:--:-- --:--:-- 8122k\n",
      "replace ml-100k/allbut.pl? [y]es, [n]o, [A]ll, [N]one, [r]ename: new name: replace ml-100k/mku.sh? [y]es, [n]o, [A]ll, [N]one, [r]ename:  NULL\n",
      "(EOF or read error, treating as \"[N]one\" ...)\n"
     ]
    }
   ],
   "source": [
    "%%bash\n",
    "\n",
    "curl -o ml-100k.zip http://files.grouplens.org/datasets/movielens/ml-100k.zip\n",
    "unzip ml-100k.zip\n",
    "rm ml-100k.zip"
   ]
  },
  {
   "cell_type": "markdown",
   "metadata": {},
   "source": [
    "Let's first create some utility functions for data exploration and preprocessing"
   ]
  },
  {
   "cell_type": "code",
   "execution_count": 30,
   "metadata": {},
   "outputs": [],
   "source": [
    "## some utility functions\n",
    "\n",
    "def load_csv_data(filename, delimiter, verbose=True):\n",
    "    \"\"\"\n",
    "    input: a file readable as csv and separated by a delimiter\n",
    "    and has format users - movies - ratings - etc\n",
    "    output: a list, where each row of the list is of the form\n",
    "    {'in0':userID, 'in1':movieID, 'label':rating}\n",
    "    \"\"\"\n",
    "    to_data_list = list()\n",
    "    users = list()\n",
    "    movies = list()\n",
    "    ratings = list()\n",
    "    unique_users = set()\n",
    "    unique_movies = set()\n",
    "    with open(filename, 'r') as csvfile:\n",
    "        reader = csv.reader(csvfile, delimiter=delimiter)\n",
    "        for count, row in enumerate(reader):\n",
    "            #if count!=0:\n",
    "            to_data_list.append({'in0':[int(row[0])], 'in1':[int(row[1])], 'label':float(row[2])})\n",
    "            users.append(row[0])\n",
    "            movies.append(row[1])\n",
    "            ratings.append(float(row[2]))\n",
    "            unique_users.add(row[0])\n",
    "            unique_movies.add(row[1])\n",
    "    if verbose:\n",
    "        print(\"In file {}, there are {} ratings\".format(filename, len(ratings)))\n",
    "        print(\"The ratings have mean: {}, median: {}, and variance: {}\".format(\n",
    "                                            round(np.mean(ratings), 2), \n",
    "                                            round(np.median(ratings), 2), \n",
    "                                            round(np.var(ratings), 2)))\n",
    "        print(\"There are {} unique users and {} unique movies\".format(len(unique_users), len(unique_movies)))\n",
    "    return to_data_list\n",
    "\n",
    "\n",
    "def csv_to_augmented_data_dict(filename, delimiter):\n",
    "    \"\"\"\n",
    "    Input: a file that must be readable as csv and separated by delimiter (to make columns)\n",
    "    has format users - movies - ratings - etc\n",
    "    Output:\n",
    "      Users dictionary: keys as user ID's; each key corresponds to a list of movie ratings by that user\n",
    "      Movies dictionary: keys as movie ID's; each key corresponds a list of ratings of that movie by different users\n",
    "    \"\"\"\n",
    "    to_users_dict = dict() \n",
    "    to_movies_dict = dict()\n",
    "    with open(filename, 'r') as csvfile:\n",
    "        reader = csv.reader(csvfile, delimiter=delimiter)\n",
    "        for count, row in enumerate(reader):\n",
    "            #if count!=0:\n",
    "            if row[0] not in to_users_dict:\n",
    "                to_users_dict[row[0]] = [(row[1], row[2])]\n",
    "            else:\n",
    "                to_users_dict[row[0]].append((row[1], row[2]))\n",
    "            if row[1] not in to_movies_dict:\n",
    "                to_movies_dict[row[1]] = list(row[0])\n",
    "            else:\n",
    "                to_movies_dict[row[1]].append(row[0])\n",
    "    return to_users_dict, to_movies_dict\n",
    "\n",
    "\n",
    "def user_dict_to_data_list(user_dict):\n",
    "    # turn user_dict format to data list format (acceptable to the algorithm)\n",
    "    data_list = list()\n",
    "    for user, movie_rating_list in user_dict.items():\n",
    "        for movie, rating in movie_rating_list:\n",
    "            data_list.append({'in0':[int(user)], 'in1':[int(movie)], 'label':float(rating)})\n",
    "    return data_list\n",
    "\n",
    "def divide_user_dicts(user_dict, sp_ratio_dict):\n",
    "    \"\"\"\n",
    "    Input: A user dictionary, a ration dictionary\n",
    "         - format of sp_ratio_dict = {'train':0.8, \"test\":0.2}\n",
    "    Output: \n",
    "        A dictionary of dictionaries, with key corresponding to key provided by sp_ratio_dict\n",
    "        and each key corresponds to a subdivded user dictionary\n",
    "    \"\"\"\n",
    "    ratios = [val for _, val in sp_ratio_dict.items()]\n",
    "    assert np.sum(ratios) == 1, \"the sampling ratios must sum to 1!\"\n",
    "    divided_dict = {}\n",
    "    for user, movie_rating_list in user_dict.items():\n",
    "        sub_movies_ptr = 0\n",
    "        sub_movies_list = []\n",
    "        #movie_list, _ = zip(*movie_rating_list)\n",
    "        #print(movie_list)\n",
    "        for i, ratio in enumerate(ratios):\n",
    "            if i < len(ratios)-1:\n",
    "                sub_movies_ptr_end = sub_movies_ptr + int(len(movie_rating_list)*ratio)\n",
    "                sub_movies_list.append(movie_rating_list[sub_movies_ptr:sub_movies_ptr_end])\n",
    "                sub_movies_ptr = sub_movies_ptr_end\n",
    "            else:\n",
    "                sub_movies_list.append(movie_rating_list[sub_movies_ptr:])\n",
    "        for subset_name in sp_ratio_dict.keys():\n",
    "            if subset_name not in divided_dict:\n",
    "                divided_dict[subset_name] = {user: sub_movies_list.pop(0)}\n",
    "            else:\n",
    "                #access sub-dictionary\n",
    "                divided_dict[subset_name][user] = sub_movies_list.pop(0)\n",
    "    \n",
    "    return divided_dict\n",
    "\n",
    "def write_csv_to_jsonl(jsonl_fname, csv_fname, csv_delimiter):\n",
    "    \"\"\"\n",
    "    Input: a file readable as csv and separated by delimiter (to make columns)\n",
    "        - has format users - movies - ratings - etc\n",
    "    Output: a jsonline file converted from the csv file\n",
    "    \"\"\"\n",
    "    with jsonlines.open(jsonl_fname, mode='w') as writer:\n",
    "        with open(csv_fname, 'r') as csvfile:\n",
    "            reader = csv.reader(csvfile, delimiter=csv_delimiter)\n",
    "            for count, row in enumerate(reader):\n",
    "                #print(row)\n",
    "                #if count!=0:\n",
    "                writer.write({'in0':[int(row[0])], 'in1':[int(row[1])], 'label':float(row[2])})\n",
    "        print('Created {} jsonline file'.format(jsonl_fname))\n",
    "                    \n",
    "    \n",
    "def write_data_list_to_jsonl(data_list, to_fname):\n",
    "    \"\"\"\n",
    "    Input: a data list, where each row of the list is a Python dictionary taking form\n",
    "    {'in0':userID, 'in1':movieID, 'label':rating}\n",
    "    Output: save the list as a jsonline file\n",
    "    \"\"\"\n",
    "    with jsonlines.open(to_fname, mode='w') as writer:\n",
    "        for row in data_list:\n",
    "            #print(row)\n",
    "            writer.write({'in0':row['in0'], 'in1':row['in1'], 'label':row['label']})\n",
    "    print(\"Created {} jsonline file\".format(to_fname))\n",
    "\n",
    "def data_list_to_inference_format(data_list, binarize=True, label_thres=3):\n",
    "    \"\"\"\n",
    "    Input: a data list\n",
    "    Output: test data and label, acceptable by SageMaker for inference\n",
    "    \"\"\"\n",
    "    data_ = [({\"in0\":row['in0'], 'in1':row['in1']}, row['label']) for row in data_list]\n",
    "    data, label = zip(*data_)\n",
    "    infer_data = {\"instances\":data}\n",
    "    if binarize:\n",
    "        label = get_binarized_label(list(label), label_thres)\n",
    "    return infer_data, label\n",
    "\n",
    "\n",
    "def get_binarized_label(data_list, thres):\n",
    "    \"\"\"\n",
    "    Input: data list\n",
    "    Output: a binarized data list for recommendation task\n",
    "    \"\"\"\n",
    "    for i, row in enumerate(data_list):\n",
    "        if type(row) is dict:\n",
    "            #if i < 10:\n",
    "                #print(row['label'])\n",
    "            if row['label'] > thres:\n",
    "                #print(row)\n",
    "                data_list[i]['label'] = 1\n",
    "            else:\n",
    "                data_list[i]['label'] = 0\n",
    "        else:\n",
    "            if row > thres:\n",
    "                data_list[i] = 1\n",
    "            else:\n",
    "                data_list[i] = 0\n",
    "    return data_list\n"
   ]
  },
  {
   "cell_type": "code",
   "execution_count": 31,
   "metadata": {},
   "outputs": [
    {
     "name": "stdout",
     "output_type": "stream",
     "text": [
      "Training path: ml-100k/ua.base\n",
      "In file ml-100k/ua.base, there are 90570 ratings\n",
      "The ratings have mean: 3.52, median: 4.0, and variance: 1.27\n",
      "There are 943 unique users and 1680 unique movies\n",
      "In file ml-100k/ua.test, there are 9430 ratings\n",
      "The ratings have mean: 3.59, median: 4.0, and variance: 1.25\n",
      "There are 943 unique users and 1129 unique movies\n"
     ]
    }
   ],
   "source": [
    "## Load data and shuffle\n",
    "from pprint import pprint\n",
    "prefix = 'ml-100k'\n",
    "train_path = os.path.join(prefix, 'ua.base')\n",
    "valid_path = os.path.join(prefix, 'ua.test')\n",
    "test_path = os.path.join(prefix, 'ub.test')\n",
    "print(f\"Training path: {train_path}\")\n",
    "train_data_list = load_csv_data(train_path, '\\t')\n",
    "# print(\"Train data list: \")\n",
    "# pprint(train_data_list)\n",
    "random.shuffle(train_data_list)\n",
    "validation_data_list = load_csv_data(valid_path, '\\t')\n",
    "random.shuffle(validation_data_list)"
   ]
  },
  {
   "cell_type": "code",
   "execution_count": 32,
   "metadata": {},
   "outputs": [],
   "source": [
    "to_users_dict, to_movies_dict = csv_to_augmented_data_dict(train_path, '\\t')"
   ]
  },
  {
   "cell_type": "code",
   "execution_count": 33,
   "metadata": {},
   "outputs": [],
   "source": [
    "# to_users_dict"
   ]
  },
  {
   "cell_type": "code",
   "execution_count": 34,
   "metadata": {},
   "outputs": [],
   "source": [
    "# to_movies_dict"
   ]
  },
  {
   "cell_type": "markdown",
   "metadata": {},
   "source": [
    "### We perform some data exploration"
   ]
  },
  {
   "cell_type": "code",
   "execution_count": 38,
   "metadata": {},
   "outputs": [
    {
     "name": "stdout",
     "output_type": "stream",
     "text": [
      "The min, max, and median 'movies per user' is 10, 727, and 55.0\n",
      "The min, max, and median 'users per movie' is 1, 495, and 25.0\n",
      "In the training set\n",
      "There are 213 users with no more than 20 movies\n",
      "There are 12 movies with no more than 2 user\n"
     ]
    },
    {
     "data": {
      "text/plain": [
       "Text(0.5, 1.0, 'Users per movie')"
      ]
     },
     "execution_count": 38,
     "metadata": {},
     "output_type": "execute_result"
    },
    {
     "data": {
      "image/png": "[encoded data removed]",
      "text/plain": [
       "<Figure size 432x288 with 1 Axes>"
      ]
     },
     "metadata": {},
     "output_type": "display_data"
    },
    {
     "data": {
      "image/png": "[encoded data removed]",
      "text/plain": [
       "<Figure size 432x288 with 1 Axes>"
      ]
     },
     "metadata": {},
     "output_type": "display_data"
    }
   ],
   "source": [
    "## Calculate min, max, median of number of movies per user\n",
    "movies_per_user = [len(val) for key, val in to_users_dict.items()]\n",
    "\n",
    "print(\"The min, max, and median 'movies per user' is {}, {}, and {}\".format(np.amin(movies_per_user),\n",
    "                                                                         np.amax(movies_per_user),\n",
    "                                                                         np.median(movies_per_user)))\n",
    "users_per_movie = [len(val) for key, val in to_movies_dict.items()]\n",
    "print(\"The min, max, and median 'users per movie' is {}, {}, and {}\".format(np.amin(users_per_movie),\n",
    "                                                                         np.amax(users_per_movie),\n",
    "                                                                          np.median(users_per_movie)))\n",
    "\n",
    "\n",
    "count = 0\n",
    "n_movies_lower_bound = 20\n",
    "for n_movies in movies_per_user:\n",
    "    if n_movies <= n_movies_lower_bound:\n",
    "        count += 1\n",
    "print(\"In the training set\")\n",
    "print('There are {} users with no more than {} movies'.format(count, n_movies_lower_bound))\n",
    "#\n",
    "count = 0\n",
    "n_users_lower_bound = 2\n",
    "for n_users in users_per_movie:\n",
    "    if n_users <= n_users_lower_bound:\n",
    "        count += 1\n",
    "print('There are {} movies with no more than {} user'.format(count, n_users_lower_bound))\n",
    "\n",
    "\n",
    "## figures\n",
    "\n",
    "f = plt.figure(1)\n",
    "plt.hist(movies_per_user)\n",
    "plt.title(\"Movies per user\")\n",
    "##\n",
    "g = plt.figure(2)\n",
    "plt.hist(users_per_movie)\n",
    "plt.title(\"Users per movie\")"
   ]
  },
  {
   "cell_type": "markdown",
   "metadata": {},
   "source": [
    "Since the number of movies with an extremely small number of users (<3) is negligible compared to the total number of movies, we will not remove movies from the data set (same applies for users) "
   ]
  },
  {
   "cell_type": "code",
   "execution_count": 39,
   "metadata": {},
   "outputs": [
    {
     "name": "stdout",
     "output_type": "stream",
     "text": [
      "Created train_r.jsonl jsonline file\n",
      "Created validation_r.jsonl jsonline file\n"
     ]
    }
   ],
   "source": [
    "## Save training and validation data locally for rating-prediction (regression) task\n",
    "\n",
    "write_data_list_to_jsonl(copy.deepcopy(train_data_list), 'train_r.jsonl')\n",
    "write_data_list_to_jsonl(copy.deepcopy(validation_data_list), 'validation_r.jsonl')"
   ]
  },
  {
   "cell_type": "code",
   "execution_count": 40,
   "metadata": {},
   "outputs": [
    {
     "name": "stdout",
     "output_type": "stream",
     "text": [
      "Created train_c.jsonl jsonline file\n",
      "Created validation_c.jsonl jsonline file\n"
     ]
    }
   ],
   "source": [
    "## Save training and validation data locally for recommendation (classification) task\n",
    "\n",
    "### binarize the data \n",
    "\n",
    "train_c = get_binarized_label(copy.deepcopy(train_data_list), 3.0)\n",
    "valid_c = get_binarized_label(copy.deepcopy(validation_data_list), 3.0)\n",
    "\n",
    "write_data_list_to_jsonl(train_c, 'train_c.jsonl')\n",
    "write_data_list_to_jsonl(valid_c, 'validation_c.jsonl')"
   ]
  },
  {
   "cell_type": "code",
   "execution_count": 41,
   "metadata": {},
   "outputs": [
    {
     "name": "stderr",
     "output_type": "stream",
     "text": [
      "IOPub data rate exceeded.\n",
      "The notebook server will temporarily stop sending output\n",
      "to the client in order to avoid crashing it.\n",
      "To change this limit, set the config variable\n",
      "`--NotebookApp.iopub_data_rate_limit`.\n",
      "\n",
      "Current values:\n",
      "NotebookApp.iopub_data_rate_limit=1000000.0 (bytes/sec)\n",
      "NotebookApp.rate_limit_window=3.0 (secs)\n",
      "\n"
     ]
    }
   ],
   "source": [
    "#Print before and after binary operation for reference\n",
    "# print(\"Before binarization\")\n",
    "# print(train_data_list)\n",
    "print(\"After binarization\")\n",
    "print(train_c)"
   ]
  },
  {
   "cell_type": "markdown",
   "metadata": {},
   "source": [
    "**We check whether the two classes are balanced after binarization**"
   ]
  },
  {
   "cell_type": "code",
   "execution_count": 42,
   "metadata": {},
   "outputs": [
    {
     "name": "stdout",
     "output_type": "stream",
     "text": [
      "There are 0.5510213094843768 fraction of positive ratings in train_c.jsonl\n",
      "There are 0.5799575821845175 fraction of positive ratings in validation_c.jsonl\n"
     ]
    }
   ],
   "source": [
    "train_c_label = [row['label'] for row in train_c]\n",
    "valid_c_label = [row['label'] for row in valid_c]\n",
    "\n",
    "print(\"There are {} fraction of positive ratings in train_c.jsonl\".format(\n",
    "                                np.count_nonzero(train_c_label)/len(train_c_label)))\n",
    "print(\"There are {} fraction of positive ratings in validation_c.jsonl\".format(\n",
    "                                np.sum(valid_c_label)/len(valid_c_label)))"
   ]
  },
  {
   "cell_type": "markdown",
   "metadata": {},
   "source": [
    "# Rating prediction task "
   ]
  },
  {
   "cell_type": "code",
   "execution_count": 43,
   "metadata": {},
   "outputs": [],
   "source": [
    "def get_mse_loss(res, labels):\n",
    "    if type(res) is dict:\n",
    "        res = res['predictions']\n",
    "    assert len(res)==len(labels), 'result and label length mismatch!'\n",
    "    loss = 0\n",
    "    for row, label in zip(res, labels):\n",
    "        if type(row)is dict:\n",
    "            loss += (row['scores'][0]-label)**2\n",
    "        else:\n",
    "            loss += (row-label)**2\n",
    "    return round(loss/float(len(labels)), 2)"
   ]
  },
  {
   "cell_type": "code",
   "execution_count": 44,
   "metadata": {},
   "outputs": [],
   "source": [
    "valid_r_data, valid_r_label = data_list_to_inference_format(copy.deepcopy(validation_data_list), binarize=False)"
   ]
  },
  {
   "cell_type": "code",
   "execution_count": 45,
   "metadata": {},
   "outputs": [],
   "source": [
    "# valid_r_data"
   ]
  },
  {
   "cell_type": "markdown",
   "metadata": {},
   "source": [
    "#### We first test the problem on two baseline algorithms"
   ]
  },
  {
   "cell_type": "markdown",
   "metadata": {},
   "source": [
    "## Baseline 1\n",
    "\n",
    "A naive approach to predict movie ratings on unseen data is to use the global average of the user predictions in the training data"
   ]
  },
  {
   "cell_type": "code",
   "execution_count": 46,
   "metadata": {},
   "outputs": [
    {
     "name": "stdout",
     "output_type": "stream",
     "text": [
      "The Baseline 1 (global rating average) prediction is 3.52\n",
      "The validation mse loss of the Baseline 1 is 1.26\n"
     ]
    }
   ],
   "source": [
    "train_r_label = [row['label'] for row in copy.deepcopy(train_data_list)]\n",
    "\n",
    "bs1_prediction = round(np.mean(train_r_label), 2)\n",
    "print('The Baseline 1 (global rating average) prediction is {}'.format(bs1_prediction))\n",
    "print(\"The validation mse loss of the Baseline 1 is {}\".format(\n",
    "                                     get_mse_loss(len(valid_r_label)*[bs1_prediction], valid_r_label)))"
   ]
  },
  {
   "cell_type": "markdown",
   "metadata": {},
   "source": [
    "## Baseline 2"
   ]
  },
  {
   "cell_type": "markdown",
   "metadata": {},
   "source": [
    "Now we use a better baseline, which is to perform prediction on unseen data based on the user-averaged ratings of movies on training data"
   ]
  },
  {
   "cell_type": "code",
   "execution_count": 47,
   "metadata": {},
   "outputs": [],
   "source": [
    "def bs2_predictor(test_data, user_dict, is_classification=False, thres=3):\n",
    "    test_data = copy.deepcopy(test_data['instances'])\n",
    "    predictions = list()\n",
    "    for row in test_data:\n",
    "        userID = str(row[\"in0\"][0])\n",
    "        # predict movie ID based on local average of user's prediction\n",
    "        local_movies, local_ratings = zip(*user_dict[userID])\n",
    "        local_ratings = [float(score) for score in local_ratings]\n",
    "        predictions.append(np.mean(local_ratings))\n",
    "        if is_classification:\n",
    "            predictions[-1] = int(predictions[-1] > 3)\n",
    "    return predictions"
   ]
  },
  {
   "cell_type": "code",
   "execution_count": 48,
   "metadata": {},
   "outputs": [
    {
     "name": "stdout",
     "output_type": "stream",
     "text": [
      "The validation loss of the Baseline 2 (user-based rating average) is 1.09\n"
     ]
    }
   ],
   "source": [
    "bs2_prediction = bs2_predictor(valid_r_data, to_users_dict, is_classification=False)\n",
    "print(\"The validation loss of the Baseline 2 (user-based rating average) is {}\".format(\n",
    "                                     get_mse_loss(bs2_prediction, valid_r_label)))"
   ]
  },
  {
   "cell_type": "markdown",
   "metadata": {},
   "source": [
    "Next, we will use *Object2Vec* to predict the movie ratings"
   ]
  },
  {
   "cell_type": "markdown",
   "metadata": {},
   "source": [
    "## Model training and inference"
   ]
  },
  {
   "cell_type": "markdown",
   "metadata": {},
   "source": [
    "#### Define S3 bucket that hosts data and model, and upload data to S3"
   ]
  },
  {
   "cell_type": "code",
   "execution_count": 49,
   "metadata": {
    "tags": [
     "parameters"
    ]
   },
   "outputs": [],
   "source": [
    "import boto3 \n",
    "import os\n",
    " \n",
    "bucket = 'sagemaker-data-sou' # Customize your own bucket name\n",
    "input_prefix = 'object2vec/movielens/input'\n",
    "output_prefix = 'object2vec/movielens/output'"
   ]
  },
  {
   "cell_type": "markdown",
   "metadata": {},
   "source": [
    "#### Upload data to S3 and make data paths"
   ]
  },
  {
   "cell_type": "code",
   "execution_count": 50,
   "metadata": {},
   "outputs": [
    {
     "name": "stdout",
     "output_type": "stream",
     "text": [
      "Uploaded train data to s3://sagemaker-data-sou/object2vec/movielens/input/rating/train/train_r.jsonl and defined input path\n",
      "Uploaded validation data to s3://sagemaker-data-sou/object2vec/movielens/input/rating/validation/validation_r.jsonl and defined input path\n",
      "Trained model will be saved at s3://sagemaker-data-sou/object2vec/movielens/output\n"
     ]
    }
   ],
   "source": [
    "from sagemaker.session import s3_input\n",
    "\n",
    "s3_client = boto3.client('s3')\n",
    "input_paths = {}\n",
    "output_path = os.path.join('s3://', bucket, output_prefix)\n",
    "\n",
    "for data_name in ['train', 'validation']:\n",
    "    pre_key = os.path.join(input_prefix, 'rating', f'{data_name}')\n",
    "    fname = '{}_r.jsonl'.format(data_name)\n",
    "    data_path = os.path.join('s3://', bucket, pre_key, fname)\n",
    "    s3_client.upload_file(fname, bucket, os.path.join(pre_key, fname))\n",
    "    input_paths[data_name] = s3_input(data_path, distribution='ShardedByS3Key', content_type='application/jsonlines')\n",
    "    print('Uploaded {} data to {} and defined input path'.format(data_name, data_path))\n",
    "\n",
    "print('Trained model will be saved at', output_path)"
   ]
  },
  {
   "cell_type": "markdown",
   "metadata": {},
   "source": [
    "### Get ObjectToVec algorithm image"
   ]
  },
  {
   "cell_type": "code",
   "execution_count": 54,
   "metadata": {},
   "outputs": [
    {
     "name": "stdout",
     "output_type": "stream",
     "text": [
      "arn:aws:iam::017801987097:role/service-role/AmazonSageMaker-ExecutionRole-20200505T175453\n"
     ]
    },
    {
     "data": {
      "text/plain": [
       "'382416733822.dkr.ecr.us-east-1.amazonaws.com/object2vec:1'"
      ]
     },
     "execution_count": 54,
     "metadata": {},
     "output_type": "execute_result"
    }
   ],
   "source": [
    "import sagemaker\n",
    "from sagemaker import get_execution_role\n",
    "\n",
    "sess = sagemaker.Session()\n",
    "\n",
    "role = get_execution_role()\n",
    "print(role)\n",
    "\n",
    "## Get docker image of ObjectToVec algorithm\n",
    "from sagemaker.amazon.amazon_estimator import get_image_uri\n",
    "container = get_image_uri(boto3.Session().region_name, 'object2vec')\n",
    "container"
   ]
  },
  {
   "cell_type": "markdown",
   "metadata": {},
   "source": [
    "#### Input paths"
   ]
  },
  {
   "cell_type": "code",
   "execution_count": 55,
   "metadata": {},
   "outputs": [
    {
     "data": {
      "text/plain": [
       "{'train': <sagemaker.inputs.s3_input at 0x7f9d79d77240>,\n",
       " 'validation': <sagemaker.inputs.s3_input at 0x7f9db4e8f978>}"
      ]
     },
     "execution_count": 55,
     "metadata": {},
     "output_type": "execute_result"
    }
   ],
   "source": [
    "input_paths"
   ]
  },
  {
   "cell_type": "markdown",
   "metadata": {},
   "source": [
    "### Training"
   ]
  },
  {
   "cell_type": "markdown",
   "metadata": {},
   "source": [
    "#### We first define training hyperparameters"
   ]
  },
  {
   "cell_type": "code",
   "execution_count": 56,
   "metadata": {},
   "outputs": [],
   "source": [
    "hyperparameters = {\n",
    "    \"_kvstore\": \"device\",\n",
    "    \"_num_gpus\": \"auto\",\n",
    "    \"_num_kv_servers\": \"auto\",\n",
    "    \"bucket_width\": 0,\n",
    "    \"early_stopping_patience\": 3,\n",
    "    \"early_stopping_tolerance\": 0.01,\n",
    "    \"enc0_cnn_filter_width\": 3,\n",
    "    \"enc0_layers\": \"auto\",\n",
    "    \"enc0_max_seq_len\": 1,\n",
    "    \"enc0_network\": \"pooled_embedding\",\n",
    "    \"enc0_token_embedding_dim\": 300,\n",
    "    \"enc0_vocab_size\": 944,\n",
    "    \"enc1_layers\": \"auto\",\n",
    "    \"enc1_max_seq_len\": 1,\n",
    "    \"enc1_network\": \"pooled_embedding\",\n",
    "    \"enc1_token_embedding_dim\": 300,\n",
    "    \"enc1_vocab_size\": 1684,\n",
    "    \"enc_dim\": 1024,\n",
    "    \"epochs\": 20,\n",
    "    \"learning_rate\": 0.001,\n",
    "    \"mini_batch_size\": 64,\n",
    "    \"mlp_activation\": \"tanh\",\n",
    "    \"mlp_dim\": 256,\n",
    "    \"mlp_layers\": 1,\n",
    "    \"num_classes\": 2,\n",
    "    \"optimizer\": \"adam\",\n",
    "    \"output_layer\": \"mean_squared_error\"\n",
    "}"
   ]
  },
  {
   "cell_type": "code",
   "execution_count": 57,
   "metadata": {},
   "outputs": [
    {
     "name": "stdout",
     "output_type": "stream",
     "text": [
      "2020-05-06 02:06:45 Starting - Starting the training job...\n",
      "2020-05-06 02:06:54 Starting - Launching requested ML instances......\n",
      "2020-05-06 02:08:04 Starting - Preparing the instances for training...\n",
      "2020-05-06 02:08:39 Downloading - Downloading input data...\n",
      "2020-05-06 02:08:53 Training - Downloading the training image.....\u001b[34mDocker entrypoint called with argument(s): train\u001b[0m\n",
      "\u001b[34mRunning default environment configuration script\u001b[0m\n",
      "\u001b[34m[05/06/2020 02:09:54 INFO 140406565504832] Reading default configuration from /opt/amazon/lib/python2.7/site-packages/algorithm/default-input.json: {u'comparator_list': u'hadamard, concat, abs_diff', u'enc0_vocab_file': u'', u'output_layer': u'softmax', u'enc0_cnn_filter_width': 3, u'epochs': 30, u'mlp_dim': 512, u'enc0_freeze_pretrained_embedding': u'true', u'mlp_layers': 2, u'_num_kv_servers': u'auto', u'weight_decay': 0, u'enc0_pretrained_embedding_file': u'', u'token_embedding_storage_type': u'dense', u'enc0_token_embedding_dim': 300, u'tied_token_embedding_weight': u'false', u'learning_rate': 0.0004, u'enc1_cnn_filter_width': 3, u'negative_sampling_rate': 0, u'enc0_network': u'hcnn', u'enc1_layers': u'auto', u'early_stopping_patience': 3, u'optimizer': u'adam', u'_tuning_objective_metric': u'', u'early_stopping_tolerance': 0.01, u'dropout': 0, u'bucket_width': 0, u'enc_dim': 4096, u'enc1_vocab_file': u'', u'enc1_freeze_pretrained_embedding': u'true', u'enc0_layers': u'auto', u'mini_batch_size': 32, u'enc1_pretrained_embedding_file': u'', u'num_classes': 2, u'_num_gpus': u'auto', u'enc1_token_embedding_dim': 300, u'mlp_activation': u'linear', u'enc1_network': u'enc0', u'_kvstore': u'auto_gpu'}\u001b[0m\n",
      "\u001b[34m[05/06/2020 02:09:54 INFO 140406565504832] Reading provided configuration from /opt/ml/input/config/hyperparameters.json: {u'output_layer': u'mean_squared_error', u'enc0_cnn_filter_width': u'3', u'epochs': u'20', u'mlp_dim': u'256', u'mlp_layers': u'1', u'_num_kv_servers': u'auto', u'mini_batch_size': u'64', u'enc0_token_embedding_dim': u'300', u'enc1_network': u'pooled_embedding', u'enc0_network': u'pooled_embedding', u'enc1_layers': u'auto', u'early_stopping_patience': u'3', u'optimizer': u'adam', u'enc1_max_seq_len': u'1', u'early_stopping_tolerance': u'0.01', u'learning_rate': u'0.001', u'bucket_width': u'0', u'enc_dim': u'1024', u'enc0_layers': u'auto', u'enc0_max_seq_len': u'1', u'num_classes': u'2', u'_num_gpus': u'auto', u'mlp_activation': u'tanh', u'enc1_token_embedding_dim': u'300', u'_kvstore': u'device', u'enc1_vocab_size': u'1684', u'enc0_vocab_size': u'944'}\u001b[0m\n",
      "\u001b[34m[05/06/2020 02:09:54 INFO 140406565504832] Final configuration: {u'comparator_list': u'hadamard, concat, abs_diff', u'enc0_vocab_file': u'', u'output_layer': u'mean_squared_error', u'enc0_cnn_filter_width': u'3', u'epochs': u'20', u'mlp_dim': u'256', u'enc0_freeze_pretrained_embedding': u'true', u'mlp_layers': u'1', u'_num_kv_servers': u'auto', u'weight_decay': 0, u'enc0_pretrained_embedding_file': u'', u'enc0_max_seq_len': u'1', u'token_embedding_storage_type': u'dense', u'enc0_token_embedding_dim': u'300', u'tied_token_embedding_weight': u'false', u'learning_rate': u'0.001', u'enc1_cnn_filter_width': 3, u'negative_sampling_rate': 0, u'enc0_network': u'pooled_embedding', u'enc1_layers': u'auto', u'early_stopping_patience': u'3', u'optimizer': u'adam', u'enc1_max_seq_len': u'1', u'_tuning_objective_metric': u'', u'early_stopping_tolerance': u'0.01', u'dropout': 0, u'bucket_width': u'0', u'enc_dim': u'1024', u'enc1_vocab_file': u'', u'enc1_freeze_pretrained_embedding': u'true', u'enc0_layers': u'auto', u'mini_batch_size': u'64', u'enc1_pretrained_embedding_file': u'', u'num_classes': u'2', u'_num_gpus': u'auto', u'enc1_token_embedding_dim': u'300', u'mlp_activation': u'tanh', u'enc1_network': u'pooled_embedding', u'_kvstore': u'device', u'enc1_vocab_size': u'1684', u'enc0_vocab_size': u'944'}\u001b[0m\n",
      "\u001b[34mProcess 1 is a worker.\u001b[0m\n",
      "\u001b[34m[05/06/2020 02:09:54 INFO 140406565504832] Using default worker.\u001b[0m\n",
      "\u001b[34m[05/06/2020 02:09:54 INFO 140406565504832] Loaded iterator creator application/jsonlines for content type ('application/jsonlines', '1.0')\u001b[0m\n",
      "\u001b[34m[05/06/2020 02:09:54 INFO 140406565504832] create_iter params {u'comparator_list': u'hadamard, concat, abs_diff', u'enc0_vocab_file': u'', u'output_layer': u'mean_squared_error', u'enc0_cnn_filter_width': u'3', u'epochs': u'20', u'mlp_dim': u'256', u'enc0_freeze_pretrained_embedding': u'true', u'mlp_layers': u'1', u'_num_kv_servers': u'auto', u'weight_decay': 0, u'enc0_pretrained_embedding_file': u'', u'enc0_max_seq_len': u'1', u'token_embedding_storage_type': u'dense', u'enc0_token_embedding_dim': u'300', u'tied_token_embedding_weight': u'false', u'learning_rate': u'0.001', u'enc1_cnn_filter_width': 3, u'negative_sampling_rate': 0, u'enc0_network': u'pooled_embedding', u'enc1_layers': u'auto', u'early_stopping_patience': u'3', u'optimizer': u'adam', u'enc1_max_seq_len': u'1', u'_tuning_objective_metric': u'', u'early_stopping_tolerance': u'0.01', u'dropout': 0, u'bucket_width': u'0', u'enc_dim': u'1024', u'enc1_vocab_file': u'', u'enc1_freeze_pretrained_embedding': u'true', u'enc0_layers': u'auto', u'mini_batch_size': u'64', u'enc1_pretrained_embedding_file': u'', u'num_classes': u'2', u'_num_gpus': u'auto', u'enc1_token_embedding_dim': u'300', u'mlp_activation': u'tanh', u'enc1_network': u'pooled_embedding', u'_kvstore': u'device', u'enc1_vocab_size': u'1684', u'enc0_vocab_size': u'944'}\u001b[0m\n",
      "\u001b[34m[05/06/2020 02:09:54 INFO 140406565504832] create_iter content_params {}\u001b[0m\n",
      "\u001b[34m[05/06/2020 02:09:54 INFO 140406565504832] Parameters of encoders: [{u'layers': u'auto', u'vocab_size': u'944', u'network': u'pooled_embedding', u'vocab_file': u'', u'cnn_filter_width': u'3', u'token_embedding_dim': u'300', u'max_seq_len': u'1', u'freeze_pretrained_embedding': u'true', u'pretrained_embedding_file': u''}, {u'layers': u'auto', u'vocab_size': u'1684', u'network': u'pooled_embedding', u'vocab_file': u'', u'cnn_filter_width': 3, u'token_embedding_dim': u'300', u'max_seq_len': u'1', u'freeze_pretrained_embedding': u'true', u'pretrained_embedding_file': u''}]\u001b[0m\n",
      "\u001b[34m[05/06/2020 02:09:54 INFO 140406565504832] output_layer is set to mean_squared_error. Ignoring the hyperparameter 'num_classes'.\u001b[0m\n",
      "\u001b[34m[05/06/2020 02:09:54 INFO 140406565504832] Inconsistent enc_dim and token_embedding_dim found for token-embedding-encoder: 1024 vs 300. Setting token embedding dim to be 1024\u001b[0m\n",
      "\u001b[34m[05/06/2020 02:09:54 INFO 140406565504832] Inconsistent enc_dim and token_embedding_dim found for token-embedding-encoder: 1024 vs 300. Setting token embedding dim to be 1024\u001b[0m\n",
      "\u001b[34m[05/06/2020 02:09:54 INFO 140406565504832] Encoder configs: [{'vocab_size': 944, 'enc_index': 0, 'pretrained_embedding_file_path': None, 'vocab_dict': None, 'token_embedding_dim': 1024, 'vocab_file': '', 'freeze_pretrained_embedding': True, 'num_layers': 1, 'is_train': True, 'dropout': 0.0, 'pretrained_embedding_file': ''}, {'vocab_size': 1684, 'enc_index': 1, 'pretrained_embedding_file_path': None, 'vocab_dict': None, 'token_embedding_dim': 1024, 'vocab_file': '', 'freeze_pretrained_embedding': True, 'num_layers': 1, 'is_train': True, 'dropout': 0.0, 'pretrained_embedding_file': ''}]\u001b[0m\n",
      "\u001b[34m[05/06/2020 02:09:54 INFO 140406565504832] Config: {'comparator_list': ['hadamard', 'concat', 'abs_diff'], 'epochs': 20, 'mini_batch_size': 64, 'optimizer': 'adam', 'output_layer': 'mean_squared_error', 'token_embedding_storage_type': 'dense', 'mlp_dim': 256, 'early_stopping_tolerance': 0.01, 'dropout': 0.0, 'bucket_width': 0, 'enc_dim': 1024, 'negative_sampling_rate': 0, 'early_stopping_patience': 3, 'learning_rate': 0.001, 'max_seq_lens': [1, 1], 'tied_token_embedding_weight': False, 'enc_configs': [{'vocab_size': 944, 'enc_index': 0, 'pretrained_embedding_file_path': None, 'vocab_dict': None, 'token_embedding_dim': 1024, 'vocab_file': '', 'freeze_pretrained_embedding': True, 'num_layers': 1, 'is_train': True, 'dropout': 0.0, 'pretrained_embedding_file': ''}, {'vocab_size': 1684, 'enc_index': 1, 'pretrained_embedding_file_path': None, 'vocab_dict': None, 'token_embedding_dim': 1024, 'vocab_file': '', 'freeze_pretrained_embedding': True, 'num_layers': 1, 'is_train': True, 'dropout': 0.0, 'pretrained_embedding_file': ''}], 'mlp_layers': 1, 'weight_decay': 0.0, 'mlp_activation': 'tanh', 'num_classes': None}\u001b[0m\n",
      "\u001b[34m[05/06/2020 02:09:54 INFO 140406565504832] use bucketing: False\u001b[0m\n",
      "\u001b[34m[05/06/2020 02:09:54 INFO 140406565504832] Creating data iterator for /opt/ml/input/data/train\u001b[0m\n",
      "\u001b[34m[05/06/2020 02:09:56 INFO 140406565504832] Source words: 90570\u001b[0m\n",
      "\u001b[34m[05/06/2020 02:09:56 INFO 140406565504832] Target words: 90570\u001b[0m\n",
      "\u001b[34m[05/06/2020 02:09:56 INFO 140406565504832] Total: 90570 samples in 1 buckets\u001b[0m\n",
      "\u001b[34m[05/06/2020 02:09:56 INFO 140406565504832] Bucket of (1, 1) : 90570 samples in 1415 batches of 64, approx 64.0 words/batch\u001b[0m\n",
      "\u001b[34m[05/06/2020 02:09:56 INFO 140406565504832] 0 sentence pairs discarded\u001b[0m\n",
      "\u001b[34m[05/06/2020 02:09:56 INFO 140406565504832] fill up mode: replicate\u001b[0m\n",
      "\u001b[34m[05/06/2020 02:09:56 INFO 140406565504832] \u001b[0m\n",
      "\u001b[34m[05/06/2020 02:09:56 INFO 140406565504832] Negative sampling not used\u001b[0m\n",
      "\u001b[34m[05/06/2020 02:09:56 INFO 140406565504832] Replicating 54 random sentences from bucket (1, 1) to size it to multiple of 64\u001b[0m\n",
      "\u001b[34m[05/06/2020 02:09:56 INFO 140406565504832] Bucket batch sizes: [BucketBatchSize(batch_size=64, average_words_per_batch=64)]\u001b[0m\n",
      "\u001b[34m[05/06/2020 02:09:56 INFO 140406565504832] create_iter params {u'comparator_list': u'hadamard, concat, abs_diff', u'enc0_vocab_file': u'', u'output_layer': u'mean_squared_error', u'enc0_cnn_filter_width': u'3', u'epochs': u'20', u'mlp_dim': u'256', u'enc0_freeze_pretrained_embedding': u'true', u'mlp_layers': u'1', u'_num_kv_servers': u'auto', u'weight_decay': 0, u'enc0_pretrained_embedding_file': u'', u'enc0_max_seq_len': u'1', u'token_embedding_storage_type': u'dense', u'enc0_token_embedding_dim': u'300', u'tied_token_embedding_weight': u'false', u'learning_rate': u'0.001', u'enc1_cnn_filter_width': 3, u'negative_sampling_rate': 0, u'enc0_network': u'pooled_embedding', u'enc1_layers': u'auto', u'early_stopping_patience': u'3', u'optimizer': u'adam', u'enc1_max_seq_len': u'1', u'_tuning_objective_metric': u'', u'early_stopping_tolerance': u'0.01', u'dropout': 0, u'bucket_width': u'0', u'enc_dim': u'1024', u'enc1_vocab_file': u'', u'enc1_freeze_pretrained_embedding': u'true', u'enc0_layers': u'auto', u'mini_batch_size': u'64', u'enc1_pretrained_embedding_file': u'', u'num_classes': u'2', u'_num_gpus': u'auto', u'enc1_token_embedding_dim': u'300', u'mlp_activation': u'tanh', u'enc1_network': u'pooled_embedding', u'_kvstore': u'device', u'enc1_vocab_size': u'1684', u'enc0_vocab_size': u'944'}\u001b[0m\n",
      "\u001b[34m[05/06/2020 02:09:56 INFO 140406565504832] create_iter content_params {}\u001b[0m\n",
      "\u001b[34m[05/06/2020 02:09:56 INFO 140406565504832] Parameters of encoders: [{u'layers': u'auto', u'vocab_size': u'944', u'network': u'pooled_embedding', u'vocab_file': u'', u'cnn_filter_width': u'3', u'token_embedding_dim': u'300', u'max_seq_len': u'1', u'freeze_pretrained_embedding': u'true', u'pretrained_embedding_file': u''}, {u'layers': u'auto', u'vocab_size': u'1684', u'network': u'pooled_embedding', u'vocab_file': u'', u'cnn_filter_width': 3, u'token_embedding_dim': u'300', u'max_seq_len': u'1', u'freeze_pretrained_embedding': u'true', u'pretrained_embedding_file': u''}]\u001b[0m\n",
      "\u001b[34m[05/06/2020 02:09:56 INFO 140406565504832] output_layer is set to mean_squared_error. Ignoring the hyperparameter 'num_classes'.\u001b[0m\n",
      "\u001b[34m[05/06/2020 02:09:56 INFO 140406565504832] Inconsistent enc_dim and token_embedding_dim found for token-embedding-encoder: 1024 vs 300. Setting token embedding dim to be 1024\u001b[0m\n",
      "\u001b[34m[05/06/2020 02:09:56 INFO 140406565504832] Inconsistent enc_dim and token_embedding_dim found for token-embedding-encoder: 1024 vs 300. Setting token embedding dim to be 1024\u001b[0m\n",
      "\u001b[34m[05/06/2020 02:09:56 INFO 140406565504832] Encoder configs: [{'vocab_size': 944, 'enc_index': 0, 'pretrained_embedding_file_path': None, 'vocab_dict': None, 'token_embedding_dim': 1024, 'vocab_file': '', 'freeze_pretrained_embedding': True, 'num_layers': 1, 'is_train': True, 'dropout': 0.0, 'pretrained_embedding_file': ''}, {'vocab_size': 1684, 'enc_index': 1, 'pretrained_embedding_file_path': None, 'vocab_dict': None, 'token_embedding_dim': 1024, 'vocab_file': '', 'freeze_pretrained_embedding': True, 'num_layers': 1, 'is_train': True, 'dropout': 0.0, 'pretrained_embedding_file': ''}]\u001b[0m\n",
      "\u001b[34m[05/06/2020 02:09:56 INFO 140406565504832] Config: {'comparator_list': ['hadamard', 'concat', 'abs_diff'], 'epochs': 20, 'mini_batch_size': 64, 'optimizer': 'adam', 'output_layer': 'mean_squared_error', 'token_embedding_storage_type': 'dense', 'mlp_dim': 256, 'early_stopping_tolerance': 0.01, 'dropout': 0.0, 'bucket_width': 0, 'enc_dim': 1024, 'negative_sampling_rate': 0, 'early_stopping_patience': 3, 'learning_rate': 0.001, 'max_seq_lens': [1, 1], 'tied_token_embedding_weight': False, 'enc_configs': [{'vocab_size': 944, 'enc_index': 0, 'pretrained_embedding_file_path': None, 'vocab_dict': None, 'token_embedding_dim': 1024, 'vocab_file': '', 'freeze_pretrained_embedding': True, 'num_layers': 1, 'is_train': True, 'dropout': 0.0, 'pretrained_embedding_file': ''}, {'vocab_size': 1684, 'enc_index': 1, 'pretrained_embedding_file_path': None, 'vocab_dict': None, 'token_embedding_dim': 1024, 'vocab_file': '', 'freeze_pretrained_embedding': True, 'num_layers': 1, 'is_train': True, 'dropout': 0.0, 'pretrained_embedding_file': ''}], 'mlp_layers': 1, 'weight_decay': 0.0, 'mlp_activation': 'tanh', 'num_classes': None}\u001b[0m\n",
      "\u001b[34m[05/06/2020 02:09:56 INFO 140406565504832] use bucketing: False\u001b[0m\n",
      "\u001b[34m[05/06/2020 02:09:56 INFO 140406565504832] Creating data iterator for /opt/ml/input/data/validation\u001b[0m\n",
      "\u001b[34m[05/06/2020 02:09:56 INFO 140406565504832] Source words: 9430\u001b[0m\n",
      "\u001b[34m[05/06/2020 02:09:56 INFO 140406565504832] Target words: 9430\u001b[0m\n",
      "\u001b[34m[05/06/2020 02:09:56 INFO 140406565504832] Total: 9430 samples in 1 buckets\u001b[0m\n",
      "\u001b[34m[05/06/2020 02:09:56 INFO 140406565504832] Bucket of (1, 1) : 9430 samples in 147 batches of 64, approx 64.0 words/batch\u001b[0m\n",
      "\u001b[34m[05/06/2020 02:09:56 INFO 140406565504832] 0 sentence pairs discarded\u001b[0m\n",
      "\u001b[34m[05/06/2020 02:09:56 INFO 140406565504832] fill up mode: replicate\u001b[0m\n",
      "\u001b[34m[05/06/2020 02:09:56 INFO 140406565504832] \u001b[0m\n",
      "\u001b[34m[05/06/2020 02:09:56 INFO 140406565504832] Negative sampling not used\u001b[0m\n",
      "\u001b[34m[05/06/2020 02:09:56 INFO 140406565504832] Replicating 42 random sentences from bucket (1, 1) to size it to multiple of 64\u001b[0m\n",
      "\u001b[34m[05/06/2020 02:09:56 INFO 140406565504832] Parameters of encoders: [{u'layers': u'auto', u'vocab_size': u'944', u'network': u'pooled_embedding', u'vocab_file': u'', u'cnn_filter_width': u'3', u'token_embedding_dim': u'300', u'max_seq_len': u'1', u'freeze_pretrained_embedding': u'true', u'pretrained_embedding_file': u''}, {u'layers': u'auto', u'vocab_size': u'1684', u'network': u'pooled_embedding', u'vocab_file': u'', u'cnn_filter_width': 3, u'token_embedding_dim': u'300', u'max_seq_len': u'1', u'freeze_pretrained_embedding': u'true', u'pretrained_embedding_file': u''}]\u001b[0m\n",
      "\u001b[34m[05/06/2020 02:09:56 INFO 140406565504832] output_layer is set to mean_squared_error. Ignoring the hyperparameter 'num_classes'.\u001b[0m\n",
      "\u001b[34m[05/06/2020 02:09:56 INFO 140406565504832] Inconsistent enc_dim and token_embedding_dim found for token-embedding-encoder: 1024 vs 300. Setting token embedding dim to be 1024\u001b[0m\n",
      "\u001b[34m[05/06/2020 02:09:56 INFO 140406565504832] Inconsistent enc_dim and token_embedding_dim found for token-embedding-encoder: 1024 vs 300. Setting token embedding dim to be 1024\u001b[0m\n",
      "\u001b[34m[05/06/2020 02:09:56 INFO 140406565504832] Encoder configs: [{'vocab_size': 944, 'enc_index': 0, 'pretrained_embedding_file_path': None, 'vocab_dict': None, 'token_embedding_dim': 1024, 'vocab_file': '', 'freeze_pretrained_embedding': True, 'num_layers': 1, 'is_train': True, 'dropout': 0.0, 'pretrained_embedding_file': ''}, {'vocab_size': 1684, 'enc_index': 1, 'pretrained_embedding_file_path': None, 'vocab_dict': None, 'token_embedding_dim': 1024, 'vocab_file': '', 'freeze_pretrained_embedding': True, 'num_layers': 1, 'is_train': True, 'dropout': 0.0, 'pretrained_embedding_file': ''}]\u001b[0m\n",
      "\u001b[34m[05/06/2020 02:09:56 INFO 140406565504832] Config: {'comparator_list': ['hadamard', 'concat', 'abs_diff'], 'epochs': 20, 'mini_batch_size': 64, 'optimizer': 'adam', 'output_layer': 'mean_squared_error', 'token_embedding_storage_type': 'dense', 'mlp_dim': 256, 'early_stopping_tolerance': 0.01, 'dropout': 0.0, 'bucket_width': 0, 'enc_dim': 1024, 'negative_sampling_rate': 0, 'early_stopping_patience': 3, 'learning_rate': 0.001, 'max_seq_lens': [1, 1], 'tied_token_embedding_weight': False, 'enc_configs': [{'vocab_size': 944, 'enc_index': 0, 'pretrained_embedding_file_path': None, 'vocab_dict': None, 'token_embedding_dim': 1024, 'vocab_file': '', 'freeze_pretrained_embedding': True, 'num_layers': 1, 'is_train': True, 'dropout': 0.0, 'pretrained_embedding_file': ''}, {'vocab_size': 1684, 'enc_index': 1, 'pretrained_embedding_file_path': None, 'vocab_dict': None, 'token_embedding_dim': 1024, 'vocab_file': '', 'freeze_pretrained_embedding': True, 'num_layers': 1, 'is_train': True, 'dropout': 0.0, 'pretrained_embedding_file': ''}], 'mlp_layers': 1, 'weight_decay': 0.0, 'mlp_activation': 'tanh', 'num_classes': None}\u001b[0m\n",
      "\u001b[34m[05/06/2020 02:09:56 INFO 140406565504832] Creating new state\u001b[0m\n",
      "\u001b[34m[05/06/2020 02:09:56 INFO 140406565504832] params {u'comparator_list': u'hadamard, concat, abs_diff', u'enc0_vocab_file': u'', u'output_layer': u'mean_squared_error', u'enc0_cnn_filter_width': u'3', u'epochs': u'20', u'mlp_dim': u'256', u'enc0_freeze_pretrained_embedding': u'true', u'mlp_layers': u'1', u'_num_kv_servers': u'auto', u'weight_decay': 0, u'enc0_pretrained_embedding_file': u'', u'enc0_max_seq_len': u'1', u'token_embedding_storage_type': u'dense', u'enc0_token_embedding_dim': u'300', u'tied_token_embedding_weight': u'false', u'learning_rate': u'0.001', u'enc1_cnn_filter_width': 3, u'negative_sampling_rate': 0, u'enc0_network': u'pooled_embedding', u'enc1_layers': u'auto', u'early_stopping_patience': u'3', u'optimizer': u'adam', u'enc1_max_seq_len': u'1', u'_tuning_objective_metric': u'', u'early_stopping_tolerance': u'0.01', u'dropout': 0, u'bucket_width': u'0', u'enc_dim': u'1024', 'default_bucket_key': (1, 1), u'enc1_vocab_file': u'', u'enc1_freeze_pretrained_embedding': u'true', u'enc0_layers': u'auto', u'mini_batch_size': u'64', u'enc1_pretrained_embedding_file': u'', u'num_classes': u'2', u'_num_gpus': u'auto', u'enc1_token_embedding_dim': u'300', u'mlp_activation': u'tanh', u'enc1_network': u'pooled_embedding', u'_kvstore': u'device', u'enc1_vocab_size': u'1684', u'enc0_vocab_size': u'944'}\u001b[0m\n",
      "\u001b[34m[05/06/2020 02:09:56 INFO 140406565504832] default_bucket_key (1, 1)\u001b[0m\n",
      "\u001b[34m[05/06/2020 02:09:56 INFO 140406565504832] nvidia-smi took: 0.0251240730286 secs to identify 0 gpus\u001b[0m\n",
      "\u001b[34m[05/06/2020 02:09:56 INFO 140406565504832] Number of GPUs being used: 0\u001b[0m\n",
      "\u001b[34m[05/06/2020 02:09:56 INFO 140406565504832] context [cpu(0)]\u001b[0m\n",
      "\u001b[34m[05/06/2020 02:09:56 INFO 140406565504832] Create Store: device\u001b[0m\n",
      "\u001b[34m[05/06/2020 02:09:56 INFO 140406565504832] Number of GPUs being used: 0\u001b[0m\n",
      "\u001b[34m[05/06/2020 02:09:56 WARNING 140406565504832] dense token embedding is used in a multi-gpu setting...consider changing 'token_embedding_storage_type' to 'row_sparse'\u001b[0m\n",
      "\u001b[34m[05/06/2020 02:09:56 INFO 140406565504832] data_names: ['source', 'target']\u001b[0m\n",
      "\u001b[34m[05/06/2020 02:09:56 INFO 140406565504832] label_names: ['out_layer_label']\u001b[0m\n",
      "\u001b[34m________________________________________________________________________________________________________________________\u001b[0m\n",
      "\u001b[34mLayer (type)                                        Output Shape            Param #     Previous Layer                  \u001b[0m\n",
      "\u001b[34m========================================================================================================================\u001b[0m\n",
      "\u001b[34msource(null)                                        1                       0                                           \u001b[0m\n",
      "\u001b[34m________________________________________________________________________________________________________________________\u001b[0m\n",
      "\u001b[34membed_0(Embedding)                                  1x1024                  0           source                          \u001b[0m\n",
      "\u001b[34m________________________________________________________________________________________________________________________\u001b[0m\n",
      "\u001b[34m_not_equal_scalar0(_not_equal_scalar)               1                       0           source                          \u001b[0m\n",
      "\u001b[34m________________________________________________________________________________________________________________________\u001b[0m\n",
      "\u001b[34mreshape0(Reshape)                                   1x1                     0           _not_equal_scalar0              \u001b[0m\n",
      "\u001b[34m________________________________________________________________________________________________________________________\u001b[0m\n",
      "\u001b[34mbroadcast_mul0(broadcast_mul)                       1x1024                  0           embed_0                         \n",
      "                                                                                        reshape0                        \u001b[0m\n",
      "\u001b[34m________________________________________________________________________________________________________________________\u001b[0m\n",
      "\u001b[34msum0(sum)                                           1024                    0           broadcast_mul0                  \u001b[0m\n",
      "\u001b[34m________________________________________________________________________________________________________________________\u001b[0m\n",
      "\u001b[34msum1(sum)                                           1                       0           reshape0                        \u001b[0m\n",
      "\u001b[34m________________________________________________________________________________________________________________________\u001b[0m\n",
      "\u001b[34mzeros_like0(zeros_like)                             1                       0           sum1                            \u001b[0m\n",
      "\u001b[34m________________________________________________________________________________________________________________________\u001b[0m\n",
      "\u001b[34m_equal0(_equal)                                     1                       0           sum1                            \n",
      "                                                                                        zeros_like0                     \u001b[0m\n",
      "\u001b[34m________________________________________________________________________________________________________________________\u001b[0m\n",
      "\u001b[34m_plus0(elemwise_add)                                1                       0           sum1                            \n",
      "                                                                                        _equal0                         \u001b[0m\n",
      "\u001b[34m________________________________________________________________________________________________________________________\u001b[0m\n",
      "\u001b[34mbroadcast_div0(broadcast_div)                       1024                    0           sum0                            \n",
      "                                                                                        _plus0                          \u001b[0m\n",
      "\u001b[34m________________________________________________________________________________________________________________________\u001b[0m\n",
      "\u001b[34mdropout0(Dropout)                                   1024                    0           broadcast_div0                  \u001b[0m\n",
      "\u001b[34m________________________________________________________________________________________________________________________\u001b[0m\n",
      "\u001b[34membed_1(Embedding)                                  1x1024                  0                                           \u001b[0m\n",
      "\u001b[34m________________________________________________________________________________________________________________________\u001b[0m\n",
      "\u001b[34m_not_equal_scalar1(_not_equal_scalar)               1                       0                                           \u001b[0m\n",
      "\u001b[34m________________________________________________________________________________________________________________________\u001b[0m\n",
      "\u001b[34mreshape1(Reshape)                                   1x1                     0           _not_equal_scalar1              \u001b[0m\n",
      "\u001b[34m________________________________________________________________________________________________________________________\u001b[0m\n",
      "\u001b[34mbroadcast_mul1(broadcast_mul)                       1x1024                  0           embed_1                         \n",
      "                                                                                        reshape1                        \u001b[0m\n",
      "\u001b[34m________________________________________________________________________________________________________________________\u001b[0m\n",
      "\u001b[34msum2(sum)                                           1024                    0           broadcast_mul1                  \u001b[0m\n",
      "\u001b[34m________________________________________________________________________________________________________________________\u001b[0m\n",
      "\u001b[34msum3(sum)                                           1                       0           reshape1                        \u001b[0m\n",
      "\u001b[34m________________________________________________________________________________________________________________________\u001b[0m\n",
      "\u001b[34mzeros_like1(zeros_like)                             1                       0           sum3                            \u001b[0m\n",
      "\u001b[34m________________________________________________________________________________________________________________________\u001b[0m\n",
      "\u001b[34m_equal1(_equal)                                     1                       0           sum3                            \n",
      "                                                                                        zeros_like1                     \u001b[0m\n",
      "\u001b[34m________________________________________________________________________________________________________________________\u001b[0m\n",
      "\u001b[34m_plus1(elemwise_add)                                1                       0           sum3                            \n",
      "                                                                                        _equal1                         \u001b[0m\n",
      "\u001b[34m________________________________________________________________________________________________________________________\u001b[0m\n",
      "\u001b[34mbroadcast_div1(broadcast_div)                       1024                    0           sum2                            \n",
      "                                                                                        _plus1                          \u001b[0m\n",
      "\u001b[34m________________________________________________________________________________________________________________________\u001b[0m\n",
      "\u001b[34mdropout1(Dropout)                                   1024                    0           broadcast_div1                  \u001b[0m\n",
      "\u001b[34m________________________________________________________________________________________________________________________\u001b[0m\n",
      "\u001b[34m_mul0(elemwise_mul)                                 1024                    0           dropout0                        \n",
      "                                                                                        dropout1                        \u001b[0m\n",
      "\u001b[34m________________________________________________________________________________________________________________________\u001b[0m\n",
      "\u001b[34m_minus0(elemwise_sub)                               1024                    0           dropout0                        \n",
      "                                                                                        dropout1                        \u001b[0m\n",
      "\u001b[34m________________________________________________________________________________________________________________________\u001b[0m\n",
      "\u001b[34mabs0(abs)                                           1024                    0           _minus0                         \u001b[0m\n",
      "\u001b[34m________________________________________________________________________________________________________________________\u001b[0m\n",
      "\u001b[34mconcat0(Concat)                                     4096                    0           _mul0                           \n",
      "                                                                                        dropout0                        \n",
      "                                                                                        dropout1                        \n",
      "                                                                                        abs0                            \u001b[0m\n",
      "\u001b[34m________________________________________________________________________________________________________________________\u001b[0m\n",
      "\u001b[34mmlp_fc0(FullyConnected)                             256                     1048832     concat0                         \u001b[0m\n",
      "\u001b[34m________________________________________________________________________________________________________________________\u001b[0m\n",
      "\u001b[34mactivation0(Activation)                             256                     0           mlp_fc0                         \u001b[0m\n",
      "\u001b[34m________________________________________________________________________________________________________________________\u001b[0m\n",
      "\u001b[34mdropout2(Dropout)                                   256                     0           activation0                     \u001b[0m\n",
      "\u001b[34m________________________________________________________________________________________________________________________\u001b[0m\n",
      "\u001b[34moutput_layer(FullyConnected)                        1                       257         dropout2                        \u001b[0m\n",
      "\u001b[34m________________________________________________________________________________________________________________________\u001b[0m\n",
      "\u001b[34mout_layer(LinearRegressionOutput)                   1                       0           output_layer                    \u001b[0m\n",
      "\u001b[34m========================================================================================================================\u001b[0m\n",
      "\u001b[34mTotal params: 1049089\u001b[0m\n",
      "\u001b[34m________________________________________________________________________________________________________________________\u001b[0m\n",
      "\u001b[34m[05/06/2020 02:09:56 INFO 140406565504832] data_shapes [DataDesc[source,(64, 1),<type 'numpy.float32'>,NTC], DataDesc[target,(64, 1),<type 'numpy.float32'>,NTC]]\u001b[0m\n",
      "\u001b[34m[05/06/2020 02:09:56 INFO 140406565504832] label_shapes [DataDesc[out_layer_label,(64,),<type 'numpy.float32'>,NTC]]\u001b[0m\n",
      "\u001b[34m[05/06/2020 02:09:56 INFO 140406565504832] fixed_param_names: []\u001b[0m\n",
      "\u001b[34m[05/06/2020 02:09:56 INFO 140406565504832] Initialized BucketingPlus Module\u001b[0m\n",
      "\u001b[34m[05/06/2020 02:09:56 INFO 140406565504832] arg_params keys for module initialization: []\u001b[0m\n",
      "\u001b[34m[05/06/2020 02:09:56 INFO 140406565504832] all params:['output_layer_weight', 'mlp_fc0_weight', 'mlp_fc0_bias', 'output_layer_bias', 'embed_1_weight', 'embed_0_weight']\u001b[0m\n",
      "\u001b[34m#metrics {\"Metrics\": {\"initialize.time\": {\"count\": 1, \"max\": 86.87615394592285, \"sum\": 86.87615394592285, \"min\": 86.87615394592285}}, \"EndTime\": 1588730997.001004, \"Dimensions\": {\"Host\": \"algo-1\", \"Operation\": \"training\", \"Algorithm\": \"ObjectToVec\"}, \"StartTime\": 1588730994.710969}\n",
      "\u001b[0m\n",
      "\u001b[34m#metrics {\"Metrics\": {\"Max Batches Seen Between Resets\": {\"count\": 1, \"max\": 0, \"sum\": 0.0, \"min\": 0}, \"Number of Batches Since Last Reset\": {\"count\": 1, \"max\": 0, \"sum\": 0.0, \"min\": 0}, \"Number of Records Since Last Reset\": {\"count\": 1, \"max\": 0, \"sum\": 0.0, \"min\": 0}, \"Total Batches Seen\": {\"count\": 1, \"max\": 0, \"sum\": 0.0, \"min\": 0}, \"Total Records Seen\": {\"count\": 1, \"max\": 0, \"sum\": 0.0, \"min\": 0}, \"Max Records Seen Between Resets\": {\"count\": 1, \"max\": 0, \"sum\": 0.0, \"min\": 0}, \"Reset Count\": {\"count\": 1, \"max\": 0, \"sum\": 0.0, \"min\": 0}}, \"EndTime\": 1588730997.001148, \"Dimensions\": {\"Host\": \"algo-1\", \"Meta\": \"init_train_data_iter\", \"Operation\": \"training\", \"Algorithm\": \"ObjectToVec\"}, \"StartTime\": 1588730997.001105}\n",
      "\u001b[0m\n",
      "\u001b[34m[05/06/2020 02:09:59 INFO 140406565504832] Epoch: 0, batches: 100, num_examples: 6400, 2323.2 samples/sec, epoch time so far: 0:00:02.754793\u001b[0m\n",
      "\u001b[34m[05/06/2020 02:09:59 INFO 140406565504832] #011Training metrics: mean_squared_error: 1.621 mean_absolute_error: 0.995 \u001b[0m\n",
      "\u001b[34m[05/06/2020 02:10:02 INFO 140406565504832] Epoch: 0, batches: 200, num_examples: 12800, 2316.3 samples/sec, epoch time so far: 0:00:05.525949\u001b[0m\n",
      "\u001b[34m[05/06/2020 02:10:02 INFO 140406565504832] #011Training metrics: mean_squared_error: 1.357 mean_absolute_error: 0.913 \u001b[0m\n"
     ]
    },
    {
     "name": "stdout",
     "output_type": "stream",
     "text": [
      "\n",
      "2020-05-06 02:09:51 Training - Training image download completed. Training in progress.\u001b[34m[05/06/2020 02:10:05 INFO 140406565504832] Epoch: 0, batches: 300, num_examples: 19200, 2330.4 samples/sec, epoch time so far: 0:00:08.238826\u001b[0m\n",
      "\u001b[34m[05/06/2020 02:10:05 INFO 140406565504832] #011Training metrics: mean_squared_error: 1.257 mean_absolute_error: 0.882 \u001b[0m\n",
      "\u001b[34m[05/06/2020 02:10:08 INFO 140406565504832] Epoch: 0, batches: 400, num_examples: 25600, 2333.1 samples/sec, epoch time so far: 0:00:10.972750\u001b[0m\n",
      "\u001b[34m[05/06/2020 02:10:08 INFO 140406565504832] #011Training metrics: mean_squared_error: 1.192 mean_absolute_error: 0.861 \u001b[0m\n",
      "\u001b[34m[05/06/2020 02:10:10 INFO 140406565504832] Epoch: 0, batches: 500, num_examples: 32000, 2342.1 samples/sec, epoch time so far: 0:00:13.663208\u001b[0m\n",
      "\u001b[34m[05/06/2020 02:10:10 INFO 140406565504832] #011Training metrics: mean_squared_error: 1.156 mean_absolute_error: 0.849 \u001b[0m\n",
      "\u001b[34m[05/06/2020 02:10:13 INFO 140406565504832] Epoch: 0, batches: 600, num_examples: 38400, 2334.9 samples/sec, epoch time so far: 0:00:16.445811\u001b[0m\n",
      "\u001b[34m[05/06/2020 02:10:13 INFO 140406565504832] #011Training metrics: mean_squared_error: 1.130 mean_absolute_error: 0.840 \u001b[0m\n",
      "\u001b[34m[05/06/2020 02:10:16 INFO 140406565504832] Epoch: 0, batches: 700, num_examples: 44800, 2337.9 samples/sec, epoch time so far: 0:00:19.162559\u001b[0m\n",
      "\u001b[34m[05/06/2020 02:10:16 INFO 140406565504832] #011Training metrics: mean_squared_error: 1.108 mean_absolute_error: 0.832 \u001b[0m\n",
      "\u001b[34m[05/06/2020 02:10:19 INFO 140406565504832] Epoch: 0, batches: 800, num_examples: 51200, 2309.6 samples/sec, epoch time so far: 0:00:22.168071\u001b[0m\n",
      "\u001b[34m[05/06/2020 02:10:19 INFO 140406565504832] #011Training metrics: mean_squared_error: 1.095 mean_absolute_error: 0.828 \u001b[0m\n",
      "\u001b[34m[05/06/2020 02:10:22 INFO 140406565504832] Epoch: 0, batches: 900, num_examples: 57600, 2275.0 samples/sec, epoch time so far: 0:00:25.319092\u001b[0m\n",
      "\u001b[34m[05/06/2020 02:10:22 INFO 140406565504832] #011Training metrics: mean_squared_error: 1.080 mean_absolute_error: 0.823 \u001b[0m\n",
      "\u001b[34m[05/06/2020 02:10:25 INFO 140406565504832] Epoch: 0, batches: 1000, num_examples: 64000, 2241.9 samples/sec, epoch time so far: 0:00:28.547535\u001b[0m\n",
      "\u001b[34m[05/06/2020 02:10:25 INFO 140406565504832] #011Training metrics: mean_squared_error: 1.065 mean_absolute_error: 0.817 \u001b[0m\n",
      "\u001b[34m[05/06/2020 02:10:28 INFO 140406565504832] Epoch: 0, batches: 1100, num_examples: 70400, 2209.1 samples/sec, epoch time so far: 0:00:31.868695\u001b[0m\n",
      "\u001b[34m[05/06/2020 02:10:28 INFO 140406565504832] #011Training metrics: mean_squared_error: 1.050 mean_absolute_error: 0.811 \u001b[0m\n",
      "\u001b[34m[05/06/2020 02:10:32 INFO 140406565504832] Epoch: 0, batches: 1200, num_examples: 76800, 2179.1 samples/sec, epoch time so far: 0:00:35.243391\u001b[0m\n",
      "\u001b[34m[05/06/2020 02:10:32 INFO 140406565504832] #011Training metrics: mean_squared_error: 1.039 mean_absolute_error: 0.807 \u001b[0m\n",
      "\u001b[34m[05/06/2020 02:10:35 INFO 140406565504832] Epoch: 0, batches: 1300, num_examples: 83200, 2146.2 samples/sec, epoch time so far: 0:00:38.765444\u001b[0m\n",
      "\u001b[34m[05/06/2020 02:10:35 INFO 140406565504832] #011Training metrics: mean_squared_error: 1.029 mean_absolute_error: 0.802 \u001b[0m\n",
      "\u001b[34m[05/06/2020 02:10:39 INFO 140406565504832] Epoch: 0, batches: 1400, num_examples: 89600, 2117.7 samples/sec, epoch time so far: 0:00:42.309812\u001b[0m\n",
      "\u001b[34m[05/06/2020 02:10:39 INFO 140406565504832] #011Training metrics: mean_squared_error: 1.020 mean_absolute_error: 0.799 \u001b[0m\n",
      "\u001b[34m[05/06/2020 02:10:39 INFO 140406565504832] **************\u001b[0m\n",
      "\u001b[34m[05/06/2020 02:10:39 INFO 140406565504832] Completed Epoch: 0, time taken: 0:00:42.874949\u001b[0m\n",
      "\u001b[34m[05/06/2020 02:10:39 INFO 140406565504832] Epoch 0 Training metrics:   mean_squared_error: 1.019 mean_absolute_error: 0.799 \u001b[0m\n",
      "\u001b[34m[05/06/2020 02:10:39 INFO 140406565504832] #quality_metric: host=algo-1, epoch=0, train mean_squared_error <loss>=1.01937009621\u001b[0m\n",
      "\u001b[34m[05/06/2020 02:10:40 INFO 140406565504832] Epoch 0 Validation metrics: mean_squared_error: 0.948 mean_absolute_error: 0.771 \u001b[0m\n",
      "\u001b[34m[05/06/2020 02:10:40 INFO 140406565504832] #quality_metric: host=algo-1, epoch=0, validation mean_squared_error <loss>=0.947669435393\u001b[0m\n",
      "\u001b[34m[05/06/2020 02:10:40 INFO 140406565504832] **************\u001b[0m\n",
      "\u001b[34m#metrics {\"Metrics\": {\"epochs\": {\"count\": 1, \"max\": 20, \"sum\": 20.0, \"min\": 20}, \"early_stop.time\": {\"count\": 1, \"max\": 0.24199485778808594, \"sum\": 0.24199485778808594, \"min\": 0.24199485778808594}, \"update.time\": {\"count\": 1, \"max\": 43426.58495903015, \"sum\": 43426.58495903015, \"min\": 43426.58495903015}}, \"EndTime\": 1588731040.484664, \"Dimensions\": {\"Host\": \"algo-1\", \"Operation\": \"training\", \"Algorithm\": \"ObjectToVec\"}, \"StartTime\": 1588730997.001067}\n",
      "\u001b[0m\n",
      "\u001b[34m[05/06/2020 02:10:40 INFO 140406565504832] #progress_metric: host=algo-1, completed 5 % of epochs\u001b[0m\n",
      "\u001b[34m#metrics {\"Metrics\": {\"Max Batches Seen Between Resets\": {\"count\": 1, \"max\": 1416, \"sum\": 1416.0, \"min\": 1416}, \"Number of Batches Since Last Reset\": {\"count\": 1, \"max\": 1416, \"sum\": 1416.0, \"min\": 1416}, \"Number of Records Since Last Reset\": {\"count\": 1, \"max\": 90624, \"sum\": 90624.0, \"min\": 90624}, \"Total Batches Seen\": {\"count\": 1, \"max\": 1416, \"sum\": 1416.0, \"min\": 1416}, \"Total Records Seen\": {\"count\": 1, \"max\": 90624, \"sum\": 90624.0, \"min\": 90624}, \"Max Records Seen Between Resets\": {\"count\": 1, \"max\": 90624, \"sum\": 90624.0, \"min\": 90624}, \"Reset Count\": {\"count\": 1, \"max\": 1, \"sum\": 1.0, \"min\": 1}}, \"EndTime\": 1588731040.485107, \"Dimensions\": {\"Host\": \"algo-1\", \"Meta\": \"training_data_iter\", \"Operation\": \"training\", \"Algorithm\": \"ObjectToVec\", \"epoch\": 0}, \"StartTime\": 1588730997.058063}\n",
      "\u001b[0m\n",
      "\u001b[34m[05/06/2020 02:10:40 INFO 140406565504832] #throughput_metric: host=algo-1, train throughput=2086.8039403 records/second\u001b[0m\n",
      "\u001b[34m[05/06/2020 02:10:44 INFO 140406565504832] Epoch: 1, batches: 100, num_examples: 6400, 1623.1 samples/sec, epoch time so far: 0:00:03.943030\u001b[0m\n",
      "\u001b[34m[05/06/2020 02:10:44 INFO 140406565504832] #011Training metrics: mean_squared_error: 0.732 mean_absolute_error: 0.675 \u001b[0m\n",
      "\u001b[34m[05/06/2020 02:10:48 INFO 140406565504832] Epoch: 1, batches: 200, num_examples: 12800, 1673.4 samples/sec, epoch time so far: 0:00:07.649283\u001b[0m\n",
      "\u001b[34m[05/06/2020 02:10:48 INFO 140406565504832] #011Training metrics: mean_squared_error: 0.715 mean_absolute_error: 0.666 \u001b[0m\n",
      "\u001b[34m[05/06/2020 02:10:51 INFO 140406565504832] Epoch: 1, batches: 300, num_examples: 19200, 1688.5 samples/sec, epoch time so far: 0:00:11.371314\u001b[0m\n",
      "\u001b[34m[05/06/2020 02:10:51 INFO 140406565504832] #011Training metrics: mean_squared_error: 0.711 mean_absolute_error: 0.664 \u001b[0m\n",
      "\u001b[34m[05/06/2020 02:10:55 INFO 140406565504832] Epoch: 1, batches: 400, num_examples: 25600, 1696.2 samples/sec, epoch time so far: 0:00:15.092906\u001b[0m\n",
      "\u001b[34m[05/06/2020 02:10:55 INFO 140406565504832] #011Training metrics: mean_squared_error: 0.709 mean_absolute_error: 0.663 \u001b[0m\n",
      "\u001b[34m[05/06/2020 02:10:59 INFO 140406565504832] Epoch: 1, batches: 500, num_examples: 32000, 1709.3 samples/sec, epoch time so far: 0:00:18.720850\u001b[0m\n",
      "\u001b[34m[05/06/2020 02:10:59 INFO 140406565504832] #011Training metrics: mean_squared_error: 0.700 mean_absolute_error: 0.659 \u001b[0m\n",
      "\u001b[34m[05/06/2020 02:11:02 INFO 140406565504832] Epoch: 1, batches: 600, num_examples: 38400, 1720.7 samples/sec, epoch time so far: 0:00:22.316909\u001b[0m\n",
      "\u001b[34m[05/06/2020 02:11:02 INFO 140406565504832] #011Training metrics: mean_squared_error: 0.690 mean_absolute_error: 0.654 \u001b[0m\n",
      "\u001b[34m[05/06/2020 02:11:06 INFO 140406565504832] Epoch: 1, batches: 700, num_examples: 44800, 1727.7 samples/sec, epoch time so far: 0:00:25.930157\u001b[0m\n",
      "\u001b[34m[05/06/2020 02:11:06 INFO 140406565504832] #011Training metrics: mean_squared_error: 0.685 mean_absolute_error: 0.651 \u001b[0m\n",
      "\u001b[34m[05/06/2020 02:11:10 INFO 140406565504832] Epoch: 1, batches: 800, num_examples: 51200, 1732.6 samples/sec, epoch time so far: 0:00:29.550540\u001b[0m\n",
      "\u001b[34m[05/06/2020 02:11:10 INFO 140406565504832] #011Training metrics: mean_squared_error: 0.676 mean_absolute_error: 0.646 \u001b[0m\n",
      "\u001b[34m[05/06/2020 02:11:13 INFO 140406565504832] Epoch: 1, batches: 900, num_examples: 57600, 1732.7 samples/sec, epoch time so far: 0:00:33.243248\u001b[0m\n",
      "\u001b[34m[05/06/2020 02:11:13 INFO 140406565504832] #011Training metrics: mean_squared_error: 0.672 mean_absolute_error: 0.645 \u001b[0m\n",
      "\u001b[34m[05/06/2020 02:11:17 INFO 140406565504832] Epoch: 1, batches: 1000, num_examples: 64000, 1736.5 samples/sec, epoch time so far: 0:00:36.856211\u001b[0m\n",
      "\u001b[34m[05/06/2020 02:11:17 INFO 140406565504832] #011Training metrics: mean_squared_error: 0.668 mean_absolute_error: 0.643 \u001b[0m\n"
     ]
    },
    {
     "name": "stdout",
     "output_type": "stream",
     "text": [
      "\u001b[34m[05/06/2020 02:11:21 INFO 140406565504832] Epoch: 1, batches: 1100, num_examples: 70400, 1735.9 samples/sec, epoch time so far: 0:00:40.556166\u001b[0m\n",
      "\u001b[34m[05/06/2020 02:11:21 INFO 140406565504832] #011Training metrics: mean_squared_error: 0.666 mean_absolute_error: 0.641 \u001b[0m\n",
      "\u001b[34m[05/06/2020 02:11:24 INFO 140406565504832] Epoch: 1, batches: 1200, num_examples: 76800, 1737.2 samples/sec, epoch time so far: 0:00:44.209424\u001b[0m\n",
      "\u001b[34m[05/06/2020 02:11:24 INFO 140406565504832] #011Training metrics: mean_squared_error: 0.663 mean_absolute_error: 0.640 \u001b[0m\n",
      "\u001b[34m[05/06/2020 02:11:28 INFO 140406565504832] Epoch: 1, batches: 1300, num_examples: 83200, 1739.7 samples/sec, epoch time so far: 0:00:47.823599\u001b[0m\n",
      "\u001b[34m[05/06/2020 02:11:28 INFO 140406565504832] #011Training metrics: mean_squared_error: 0.659 mean_absolute_error: 0.638 \u001b[0m\n",
      "\u001b[34m[05/06/2020 02:11:31 INFO 140406565504832] Epoch: 1, batches: 1400, num_examples: 89600, 1744.7 samples/sec, epoch time so far: 0:00:51.355097\u001b[0m\n",
      "\u001b[34m[05/06/2020 02:11:31 INFO 140406565504832] #011Training metrics: mean_squared_error: 0.658 mean_absolute_error: 0.637 \u001b[0m\n",
      "\u001b[34m[05/06/2020 02:11:32 INFO 140406565504832] **************\u001b[0m\n",
      "\u001b[34m[05/06/2020 02:11:32 INFO 140406565504832] Completed Epoch: 1, time taken: 0:00:51.916736\u001b[0m\n",
      "\u001b[34m[05/06/2020 02:11:32 INFO 140406565504832] Epoch 1 Training metrics:   mean_squared_error: 0.657 mean_absolute_error: 0.637 \u001b[0m\n",
      "\u001b[34m[05/06/2020 02:11:32 INFO 140406565504832] #quality_metric: host=algo-1, epoch=1, train mean_squared_error <loss>=0.656960133737\u001b[0m\n",
      "\u001b[34m[05/06/2020 02:11:32 INFO 140406565504832] Epoch 1 Validation metrics: mean_squared_error: 0.987 mean_absolute_error: 0.773 \u001b[0m\n",
      "\u001b[34m[05/06/2020 02:11:32 INFO 140406565504832] #quality_metric: host=algo-1, epoch=1, validation mean_squared_error <loss>=0.987079732724\u001b[0m\n",
      "\u001b[34m[05/06/2020 02:11:32 INFO 140406565504832] **************\u001b[0m\n",
      "\u001b[34m#metrics {\"Metrics\": {\"early_stop.time\": {\"count\": 1, \"max\": 0.016927719116210938, \"sum\": 0.016927719116210938, \"min\": 0.016927719116210938}, \"update.time\": {\"count\": 1, \"max\": 52461.702823638916, \"sum\": 52461.702823638916, \"min\": 52461.702823638916}}, \"EndTime\": 1588731092.993643, \"Dimensions\": {\"Host\": \"algo-1\", \"Operation\": \"training\", \"Algorithm\": \"ObjectToVec\"}, \"StartTime\": 1588731040.484855}\n",
      "\u001b[0m\n",
      "\u001b[34m[05/06/2020 02:11:32 INFO 140406565504832] #progress_metric: host=algo-1, completed 10 % of epochs\u001b[0m\n",
      "\u001b[34m#metrics {\"Metrics\": {\"Max Batches Seen Between Resets\": {\"count\": 1, \"max\": 1416, \"sum\": 1416.0, \"min\": 1416}, \"Number of Batches Since Last Reset\": {\"count\": 1, \"max\": 1416, \"sum\": 1416.0, \"min\": 1416}, \"Number of Records Since Last Reset\": {\"count\": 1, \"max\": 90624, \"sum\": 90624.0, \"min\": 90624}, \"Total Batches Seen\": {\"count\": 1, \"max\": 2832, \"sum\": 2832.0, \"min\": 2832}, \"Total Records Seen\": {\"count\": 1, \"max\": 181248, \"sum\": 181248.0, \"min\": 181248}, \"Max Records Seen Between Resets\": {\"count\": 1, \"max\": 90624, \"sum\": 90624.0, \"min\": 90624}, \"Reset Count\": {\"count\": 1, \"max\": 2, \"sum\": 2.0, \"min\": 2}}, \"EndTime\": 1588731092.993879, \"Dimensions\": {\"Host\": \"algo-1\", \"Meta\": \"training_data_iter\", \"Operation\": \"training\", \"Algorithm\": \"ObjectToVec\", \"epoch\": 1}, \"StartTime\": 1588731040.531922}\n",
      "\u001b[0m\n",
      "\u001b[34m[05/06/2020 02:11:32 INFO 140406565504832] #throughput_metric: host=algo-1, train throughput=1727.41842783 records/second\u001b[0m\n",
      "\u001b[34m[05/06/2020 02:11:36 INFO 140406565504832] Epoch: 2, batches: 100, num_examples: 6400, 1716.2 samples/sec, epoch time so far: 0:00:03.729269\u001b[0m\n",
      "\u001b[34m[05/06/2020 02:11:36 INFO 140406565504832] #011Training metrics: mean_squared_error: 0.262 mean_absolute_error: 0.394 \u001b[0m\n",
      "\u001b[34m[05/06/2020 02:11:40 INFO 140406565504832] Epoch: 2, batches: 200, num_examples: 12800, 1727.4 samples/sec, epoch time so far: 0:00:07.409999\u001b[0m\n",
      "\u001b[34m[05/06/2020 02:11:40 INFO 140406565504832] #011Training metrics: mean_squared_error: 0.264 mean_absolute_error: 0.394 \u001b[0m\n",
      "\u001b[34m[05/06/2020 02:11:44 INFO 140406565504832] Epoch: 2, batches: 300, num_examples: 19200, 1732.1 samples/sec, epoch time so far: 0:00:11.084698\u001b[0m\n",
      "\u001b[34m[05/06/2020 02:11:44 INFO 140406565504832] #011Training metrics: mean_squared_error: 0.265 mean_absolute_error: 0.395 \u001b[0m\n",
      "\u001b[34m[05/06/2020 02:11:47 INFO 140406565504832] Epoch: 2, batches: 400, num_examples: 25600, 1744.7 samples/sec, epoch time so far: 0:00:14.673148\u001b[0m\n",
      "\u001b[34m[05/06/2020 02:11:47 INFO 140406565504832] #011Training metrics: mean_squared_error: 0.263 mean_absolute_error: 0.393 \u001b[0m\n",
      "\u001b[34m[05/06/2020 02:11:51 INFO 140406565504832] Epoch: 2, batches: 500, num_examples: 32000, 1743.1 samples/sec, epoch time so far: 0:00:18.357918\u001b[0m\n",
      "\u001b[34m[05/06/2020 02:11:51 INFO 140406565504832] #011Training metrics: mean_squared_error: 0.264 mean_absolute_error: 0.394 \u001b[0m\n",
      "\u001b[34m[05/06/2020 02:11:54 INFO 140406565504832] Epoch: 2, batches: 600, num_examples: 38400, 1748.6 samples/sec, epoch time so far: 0:00:21.960832\u001b[0m\n",
      "\u001b[34m[05/06/2020 02:11:54 INFO 140406565504832] #011Training metrics: mean_squared_error: 0.263 mean_absolute_error: 0.394 \u001b[0m\n",
      "\u001b[34m[05/06/2020 02:11:58 INFO 140406565504832] Epoch: 2, batches: 700, num_examples: 44800, 1761.8 samples/sec, epoch time so far: 0:00:25.428334\u001b[0m\n",
      "\u001b[34m[05/06/2020 02:11:58 INFO 140406565504832] #011Training metrics: mean_squared_error: 0.263 mean_absolute_error: 0.394 \u001b[0m\n",
      "\u001b[34m[05/06/2020 02:12:01 INFO 140406565504832] Epoch: 2, batches: 800, num_examples: 51200, 1772.1 samples/sec, epoch time so far: 0:00:28.892130\u001b[0m\n",
      "\u001b[34m[05/06/2020 02:12:01 INFO 140406565504832] #011Training metrics: mean_squared_error: 0.265 mean_absolute_error: 0.395 \u001b[0m\n",
      "\u001b[34m[05/06/2020 02:12:05 INFO 140406565504832] Epoch: 2, batches: 900, num_examples: 57600, 1778.9 samples/sec, epoch time so far: 0:00:32.380352\u001b[0m\n",
      "\u001b[34m[05/06/2020 02:12:05 INFO 140406565504832] #011Training metrics: mean_squared_error: 0.266 mean_absolute_error: 0.395 \u001b[0m\n",
      "\u001b[34m[05/06/2020 02:12:08 INFO 140406565504832] Epoch: 2, batches: 1000, num_examples: 64000, 1781.3 samples/sec, epoch time so far: 0:00:35.928082\u001b[0m\n",
      "\u001b[34m[05/06/2020 02:12:08 INFO 140406565504832] #011Training metrics: mean_squared_error: 0.267 mean_absolute_error: 0.397 \u001b[0m\n",
      "\u001b[34m[05/06/2020 02:12:12 INFO 140406565504832] Epoch: 2, batches: 1100, num_examples: 70400, 1781.0 samples/sec, epoch time so far: 0:00:39.527395\u001b[0m\n",
      "\u001b[34m[05/06/2020 02:12:12 INFO 140406565504832] #011Training metrics: mean_squared_error: 0.268 mean_absolute_error: 0.398 \u001b[0m\n",
      "\u001b[34m[05/06/2020 02:12:16 INFO 140406565504832] Epoch: 2, batches: 1200, num_examples: 76800, 1777.8 samples/sec, epoch time so far: 0:00:43.198683\u001b[0m\n",
      "\u001b[34m[05/06/2020 02:12:16 INFO 140406565504832] #011Training metrics: mean_squared_error: 0.270 mean_absolute_error: 0.399 \u001b[0m\n",
      "\u001b[34m[05/06/2020 02:12:19 INFO 140406565504832] Epoch: 2, batches: 1300, num_examples: 83200, 1774.9 samples/sec, epoch time so far: 0:00:46.876170\u001b[0m\n",
      "\u001b[34m[05/06/2020 02:12:19 INFO 140406565504832] #011Training metrics: mean_squared_error: 0.272 mean_absolute_error: 0.400 \u001b[0m\n",
      "\u001b[34m[05/06/2020 02:12:23 INFO 140406565504832] Epoch: 2, batches: 1400, num_examples: 89600, 1773.1 samples/sec, epoch time so far: 0:00:50.532623\u001b[0m\n",
      "\u001b[34m[05/06/2020 02:12:23 INFO 140406565504832] #011Training metrics: mean_squared_error: 0.275 mean_absolute_error: 0.402 \u001b[0m\n",
      "\u001b[34m[05/06/2020 02:12:24 INFO 140406565504832] **************\u001b[0m\n",
      "\u001b[34m[05/06/2020 02:12:24 INFO 140406565504832] Completed Epoch: 2, time taken: 0:00:51.133071\u001b[0m\n",
      "\u001b[34m[05/06/2020 02:12:24 INFO 140406565504832] Epoch 2 Training metrics:   mean_squared_error: 0.275 mean_absolute_error: 0.403 \u001b[0m\n",
      "\u001b[34m[05/06/2020 02:12:24 INFO 140406565504832] #quality_metric: host=algo-1, epoch=2, train mean_squared_error <loss>=0.275259146004\u001b[0m\n",
      "\u001b[34m[05/06/2020 02:12:24 INFO 140406565504832] Epoch 2 Validation metrics: mean_squared_error: 1.023 mean_absolute_error: 0.777 \u001b[0m\n",
      "\u001b[34m[05/06/2020 02:12:24 INFO 140406565504832] #quality_metric: host=algo-1, epoch=2, validation mean_squared_error <loss>=1.02336450404\u001b[0m\n",
      "\u001b[34m[05/06/2020 02:12:24 INFO 140406565504832] **************\u001b[0m\n",
      "\u001b[34m#metrics {\"Metrics\": {\"early_stop.time\": {\"count\": 1, \"max\": 0.017881393432617188, \"sum\": 0.017881393432617188, \"min\": 0.017881393432617188}, \"update.time\": {\"count\": 1, \"max\": 51667.4690246582, \"sum\": 51667.4690246582, \"min\": 51667.4690246582}}, \"EndTime\": 1588731144.665581, \"Dimensions\": {\"Host\": \"algo-1\", \"Operation\": \"training\", \"Algorithm\": \"ObjectToVec\"}, \"StartTime\": 1588731092.993733}\n",
      "\u001b[0m\n",
      "\u001b[34m[05/06/2020 02:12:24 INFO 140406565504832] #progress_metric: host=algo-1, completed 15 % of epochs\u001b[0m\n",
      "\u001b[34m#metrics {\"Metrics\": {\"Max Batches Seen Between Resets\": {\"count\": 1, \"max\": 1416, \"sum\": 1416.0, \"min\": 1416}, \"Number of Batches Since Last Reset\": {\"count\": 1, \"max\": 1416, \"sum\": 1416.0, \"min\": 1416}, \"Number of Records Since Last Reset\": {\"count\": 1, \"max\": 90624, \"sum\": 90624.0, \"min\": 90624}, \"Total Batches Seen\": {\"count\": 1, \"max\": 4248, \"sum\": 4248.0, \"min\": 4248}, \"Total Records Seen\": {\"count\": 1, \"max\": 271872, \"sum\": 271872.0, \"min\": 271872}, \"Max Records Seen Between Resets\": {\"count\": 1, \"max\": 90624, \"sum\": 90624.0, \"min\": 90624}, \"Reset Count\": {\"count\": 1, \"max\": 3, \"sum\": 3.0, \"min\": 3}}, \"EndTime\": 1588731144.665745, \"Dimensions\": {\"Host\": \"algo-1\", \"Meta\": \"training_data_iter\", \"Operation\": \"training\", \"Algorithm\": \"ObjectToVec\", \"epoch\": 2}, \"StartTime\": 1588731092.998097}\n",
      "\u001b[0m\n",
      "\u001b[34m[05/06/2020 02:12:24 INFO 140406565504832] #throughput_metric: host=algo-1, train throughput=1753.97656738 records/second\u001b[0m\n",
      "\u001b[34m[05/06/2020 02:12:28 INFO 140406565504832] Epoch: 3, batches: 100, num_examples: 6400, 1739.2 samples/sec, epoch time so far: 0:00:03.679850\u001b[0m\n",
      "\u001b[34m[05/06/2020 02:12:28 INFO 140406565504832] #011Training metrics: mean_squared_error: 0.173 mean_absolute_error: 0.307 \u001b[0m\n",
      "\u001b[34m[05/06/2020 02:12:32 INFO 140406565504832] Epoch: 3, batches: 200, num_examples: 12800, 1710.1 samples/sec, epoch time so far: 0:00:07.484971\u001b[0m\n",
      "\u001b[34m[05/06/2020 02:12:32 INFO 140406565504832] #011Training metrics: mean_squared_error: 0.166 mean_absolute_error: 0.301 \u001b[0m\n"
     ]
    },
    {
     "name": "stdout",
     "output_type": "stream",
     "text": [
      "\u001b[34m[05/06/2020 02:12:35 INFO 140406565504832] Epoch: 3, batches: 300, num_examples: 19200, 1695.3 samples/sec, epoch time so far: 0:00:11.325274\u001b[0m\n",
      "\u001b[34m[05/06/2020 02:12:35 INFO 140406565504832] #011Training metrics: mean_squared_error: 0.162 mean_absolute_error: 0.297 \u001b[0m\n",
      "\u001b[34m[05/06/2020 02:12:39 INFO 140406565504832] Epoch: 3, batches: 400, num_examples: 25600, 1700.3 samples/sec, epoch time so far: 0:00:15.056191\u001b[0m\n",
      "\u001b[34m[05/06/2020 02:12:39 INFO 140406565504832] #011Training metrics: mean_squared_error: 0.159 mean_absolute_error: 0.295 \u001b[0m\n",
      "\u001b[34m[05/06/2020 02:12:43 INFO 140406565504832] Epoch: 3, batches: 500, num_examples: 32000, 1708.5 samples/sec, epoch time so far: 0:00:18.730390\u001b[0m\n",
      "\u001b[34m[05/06/2020 02:12:43 INFO 140406565504832] #011Training metrics: mean_squared_error: 0.157 mean_absolute_error: 0.293 \u001b[0m\n",
      "\u001b[34m[05/06/2020 02:12:46 INFO 140406565504832] Epoch: 3, batches: 600, num_examples: 38400, 1721.3 samples/sec, epoch time so far: 0:00:22.309035\u001b[0m\n",
      "\u001b[34m[05/06/2020 02:12:46 INFO 140406565504832] #011Training metrics: mean_squared_error: 0.157 mean_absolute_error: 0.292 \u001b[0m\n",
      "\u001b[34m[05/06/2020 02:12:50 INFO 140406565504832] Epoch: 3, batches: 700, num_examples: 44800, 1734.4 samples/sec, epoch time so far: 0:00:25.829821\u001b[0m\n",
      "\u001b[34m[05/06/2020 02:12:50 INFO 140406565504832] #011Training metrics: mean_squared_error: 0.157 mean_absolute_error: 0.292 \u001b[0m\n",
      "\u001b[34m[05/06/2020 02:12:53 INFO 140406565504832] Epoch: 3, batches: 800, num_examples: 51200, 1748.1 samples/sec, epoch time so far: 0:00:29.289219\u001b[0m\n",
      "\u001b[34m[05/06/2020 02:12:53 INFO 140406565504832] #011Training metrics: mean_squared_error: 0.156 mean_absolute_error: 0.293 \u001b[0m\n",
      "\u001b[34m[05/06/2020 02:12:57 INFO 140406565504832] Epoch: 3, batches: 900, num_examples: 57600, 1754.0 samples/sec, epoch time so far: 0:00:32.840045\u001b[0m\n",
      "\u001b[34m[05/06/2020 02:12:57 INFO 140406565504832] #011Training metrics: mean_squared_error: 0.156 mean_absolute_error: 0.292 \u001b[0m\n",
      "\u001b[34m[05/06/2020 02:13:01 INFO 140406565504832] Epoch: 3, batches: 1000, num_examples: 64000, 1761.3 samples/sec, epoch time so far: 0:00:36.336514\u001b[0m\n",
      "\u001b[34m[05/06/2020 02:13:01 INFO 140406565504832] #011Training metrics: mean_squared_error: 0.156 mean_absolute_error: 0.293 \u001b[0m\n",
      "\u001b[34m[05/06/2020 02:13:04 INFO 140406565504832] Epoch: 3, batches: 1100, num_examples: 70400, 1765.8 samples/sec, epoch time so far: 0:00:39.868103\u001b[0m\n",
      "\u001b[34m[05/06/2020 02:13:04 INFO 140406565504832] #011Training metrics: mean_squared_error: 0.156 mean_absolute_error: 0.293 \u001b[0m\n",
      "\u001b[34m[05/06/2020 02:13:08 INFO 140406565504832] Epoch: 3, batches: 1200, num_examples: 76800, 1769.5 samples/sec, epoch time so far: 0:00:43.401524\u001b[0m\n",
      "\u001b[34m[05/06/2020 02:13:08 INFO 140406565504832] #011Training metrics: mean_squared_error: 0.157 mean_absolute_error: 0.294 \u001b[0m\n",
      "\u001b[34m[05/06/2020 02:13:11 INFO 140406565504832] Epoch: 3, batches: 1300, num_examples: 83200, 1767.4 samples/sec, epoch time so far: 0:00:47.075541\u001b[0m\n",
      "\u001b[34m[05/06/2020 02:13:11 INFO 140406565504832] #011Training metrics: mean_squared_error: 0.158 mean_absolute_error: 0.295 \u001b[0m\n",
      "\u001b[34m[05/06/2020 02:13:15 INFO 140406565504832] Epoch: 3, batches: 1400, num_examples: 89600, 1765.4 samples/sec, epoch time so far: 0:00:50.754713\u001b[0m\n",
      "\u001b[34m[05/06/2020 02:13:15 INFO 140406565504832] #011Training metrics: mean_squared_error: 0.158 mean_absolute_error: 0.296 \u001b[0m\n",
      "\u001b[34m[05/06/2020 02:13:16 INFO 140406565504832] **************\u001b[0m\n",
      "\u001b[34m[05/06/2020 02:13:16 INFO 140406565504832] Completed Epoch: 3, time taken: 0:00:51.335273\u001b[0m\n",
      "\u001b[34m[05/06/2020 02:13:16 INFO 140406565504832] Epoch 3 Training metrics:   mean_squared_error: 0.158 mean_absolute_error: 0.296 \u001b[0m\n",
      "\u001b[34m[05/06/2020 02:13:16 INFO 140406565504832] #quality_metric: host=algo-1, epoch=3, train mean_squared_error <loss>=0.157979436203\u001b[0m\n",
      "\u001b[34m[05/06/2020 02:13:16 INFO 140406565504832] Epoch 3 Validation metrics: mean_squared_error: 0.938 mean_absolute_error: 0.760 \u001b[0m\n",
      "\u001b[34m[05/06/2020 02:13:16 INFO 140406565504832] #quality_metric: host=algo-1, epoch=3, validation mean_squared_error <loss>=0.937707956176\u001b[0m\n",
      "\u001b[34m[05/06/2020 02:13:16 INFO 140406565504832] **************\u001b[0m\n",
      "\u001b[34m[05/06/2020 02:13:16 INFO 140406565504832] patience losses: [0.947669435393166, 0.9870797327241382, 1.0233645040441204]\u001b[0m\n",
      "\u001b[34m[05/06/2020 02:13:16 INFO 140406565504832] min patience losses: 0.947669435393\u001b[0m\n",
      "\u001b[34m[05/06/2020 02:13:16 INFO 140406565504832] current loss: 0.937707956176\u001b[0m\n",
      "\u001b[34m[05/06/2020 02:13:16 INFO 140406565504832] absolute loss difference: 0.00996147921762\u001b[0m\n",
      "\u001b[34m[05/06/2020 02:13:16 INFO 140406565504832] Bad epoch: loss has not improved (enough). Bad count:1\u001b[0m\n",
      "\u001b[34m#metrics {\"Metrics\": {\"early_stop.time\": {\"count\": 1, \"max\": 2.457141876220703, \"sum\": 2.457141876220703, \"min\": 2.457141876220703}, \"update.time\": {\"count\": 1, \"max\": 51927.107095718384, \"sum\": 51927.107095718384, \"min\": 51927.107095718384}}, \"EndTime\": 1588731196.597327, \"Dimensions\": {\"Host\": \"algo-1\", \"Operation\": \"training\", \"Algorithm\": \"ObjectToVec\"}, \"StartTime\": 1588731144.665648}\n",
      "\u001b[0m\n",
      "\u001b[34m[05/06/2020 02:13:16 INFO 140406565504832] #progress_metric: host=algo-1, completed 20 % of epochs\u001b[0m\n",
      "\u001b[34m#metrics {\"Metrics\": {\"Max Batches Seen Between Resets\": {\"count\": 1, \"max\": 1416, \"sum\": 1416.0, \"min\": 1416}, \"Number of Batches Since Last Reset\": {\"count\": 1, \"max\": 1416, \"sum\": 1416.0, \"min\": 1416}, \"Number of Records Since Last Reset\": {\"count\": 1, \"max\": 90624, \"sum\": 90624.0, \"min\": 90624}, \"Total Batches Seen\": {\"count\": 1, \"max\": 5664, \"sum\": 5664.0, \"min\": 5664}, \"Total Records Seen\": {\"count\": 1, \"max\": 362496, \"sum\": 362496.0, \"min\": 362496}, \"Max Records Seen Between Resets\": {\"count\": 1, \"max\": 90624, \"sum\": 90624.0, \"min\": 90624}, \"Reset Count\": {\"count\": 1, \"max\": 4, \"sum\": 4.0, \"min\": 4}}, \"EndTime\": 1588731196.597559, \"Dimensions\": {\"Host\": \"algo-1\", \"Meta\": \"training_data_iter\", \"Operation\": \"training\", \"Algorithm\": \"ObjectToVec\", \"epoch\": 3}, \"StartTime\": 1588731144.670201}\n",
      "\u001b[0m\n",
      "\u001b[34m[05/06/2020 02:13:16 INFO 140406565504832] #throughput_metric: host=algo-1, train throughput=1745.20328675 records/second\u001b[0m\n",
      "\u001b[34m[05/06/2020 02:13:20 INFO 140406565504832] Epoch: 4, batches: 100, num_examples: 6400, 1755.7 samples/sec, epoch time so far: 0:00:03.645213\u001b[0m\n",
      "\u001b[34m[05/06/2020 02:13:20 INFO 140406565504832] #011Training metrics: mean_squared_error: 0.115 mean_absolute_error: 0.253 \u001b[0m\n",
      "\u001b[34m[05/06/2020 02:13:23 INFO 140406565504832] Epoch: 4, batches: 200, num_examples: 12800, 1737.6 samples/sec, epoch time so far: 0:00:07.366590\u001b[0m\n",
      "\u001b[34m[05/06/2020 02:13:23 INFO 140406565504832] #011Training metrics: mean_squared_error: 0.116 mean_absolute_error: 0.256 \u001b[0m\n",
      "\u001b[34m[05/06/2020 02:13:27 INFO 140406565504832] Epoch: 4, batches: 300, num_examples: 19200, 1707.9 samples/sec, epoch time so far: 0:00:11.242091\u001b[0m\n",
      "\u001b[34m[05/06/2020 02:13:27 INFO 140406565504832] #011Training metrics: mean_squared_error: 0.113 mean_absolute_error: 0.252 \u001b[0m\n",
      "\u001b[34m[05/06/2020 02:13:31 INFO 140406565504832] Epoch: 4, batches: 400, num_examples: 25600, 1694.7 samples/sec, epoch time so far: 0:00:15.106221\u001b[0m\n",
      "\u001b[34m[05/06/2020 02:13:31 INFO 140406565504832] #011Training metrics: mean_squared_error: 0.111 mean_absolute_error: 0.250 \u001b[0m\n",
      "\u001b[34m[05/06/2020 02:13:35 INFO 140406565504832] Epoch: 4, batches: 500, num_examples: 32000, 1692.6 samples/sec, epoch time so far: 0:00:18.906167\u001b[0m\n",
      "\u001b[34m[05/06/2020 02:13:35 INFO 140406565504832] #011Training metrics: mean_squared_error: 0.110 mean_absolute_error: 0.249 \u001b[0m\n",
      "\u001b[34m[05/06/2020 02:13:39 INFO 140406565504832] Epoch: 4, batches: 600, num_examples: 38400, 1700.4 samples/sec, epoch time so far: 0:00:22.582914\u001b[0m\n",
      "\u001b[34m[05/06/2020 02:13:39 INFO 140406565504832] #011Training metrics: mean_squared_error: 0.109 mean_absolute_error: 0.248 \u001b[0m\n",
      "\u001b[34m[05/06/2020 02:13:42 INFO 140406565504832] Epoch: 4, batches: 700, num_examples: 44800, 1708.1 samples/sec, epoch time so far: 0:00:26.228285\u001b[0m\n",
      "\u001b[34m[05/06/2020 02:13:42 INFO 140406565504832] #011Training metrics: mean_squared_error: 0.108 mean_absolute_error: 0.247 \u001b[0m\n",
      "\u001b[34m[05/06/2020 02:13:46 INFO 140406565504832] Epoch: 4, batches: 800, num_examples: 51200, 1715.2 samples/sec, epoch time so far: 0:00:29.850035\u001b[0m\n",
      "\u001b[34m[05/06/2020 02:13:46 INFO 140406565504832] #011Training metrics: mean_squared_error: 0.107 mean_absolute_error: 0.246 \u001b[0m\n",
      "\u001b[34m[05/06/2020 02:13:50 INFO 140406565504832] Epoch: 4, batches: 900, num_examples: 57600, 1717.4 samples/sec, epoch time so far: 0:00:33.539121\u001b[0m\n",
      "\u001b[34m[05/06/2020 02:13:50 INFO 140406565504832] #011Training metrics: mean_squared_error: 0.107 mean_absolute_error: 0.247 \u001b[0m\n",
      "\u001b[34m[05/06/2020 02:13:53 INFO 140406565504832] Epoch: 4, batches: 1000, num_examples: 64000, 1719.3 samples/sec, epoch time so far: 0:00:37.224269\u001b[0m\n",
      "\u001b[34m[05/06/2020 02:13:53 INFO 140406565504832] #011Training metrics: mean_squared_error: 0.107 mean_absolute_error: 0.247 \u001b[0m\n",
      "\u001b[34m[05/06/2020 02:13:57 INFO 140406565504832] Epoch: 4, batches: 1100, num_examples: 70400, 1716.9 samples/sec, epoch time so far: 0:00:41.003357\u001b[0m\n",
      "\u001b[34m[05/06/2020 02:13:57 INFO 140406565504832] #011Training metrics: mean_squared_error: 0.107 mean_absolute_error: 0.247 \u001b[0m\n"
     ]
    },
    {
     "name": "stdout",
     "output_type": "stream",
     "text": [
      "\u001b[34m[05/06/2020 02:14:01 INFO 140406565504832] Epoch: 4, batches: 1200, num_examples: 76800, 1717.7 samples/sec, epoch time so far: 0:00:44.709662\u001b[0m\n",
      "\u001b[34m[05/06/2020 02:14:01 INFO 140406565504832] #011Training metrics: mean_squared_error: 0.107 mean_absolute_error: 0.247 \u001b[0m\n",
      "\u001b[34m[05/06/2020 02:14:04 INFO 140406565504832] Epoch: 4, batches: 1300, num_examples: 83200, 1721.6 samples/sec, epoch time so far: 0:00:48.326648\u001b[0m\n",
      "\u001b[34m[05/06/2020 02:14:04 INFO 140406565504832] #011Training metrics: mean_squared_error: 0.108 mean_absolute_error: 0.248 \u001b[0m\n",
      "\u001b[34m[05/06/2020 02:14:08 INFO 140406565504832] Epoch: 4, batches: 1400, num_examples: 89600, 1727.9 samples/sec, epoch time so far: 0:00:51.854809\u001b[0m\n",
      "\u001b[34m[05/06/2020 02:14:08 INFO 140406565504832] #011Training metrics: mean_squared_error: 0.108 mean_absolute_error: 0.248 \u001b[0m\n",
      "\u001b[34m[05/06/2020 02:14:09 INFO 140406565504832] **************\u001b[0m\n",
      "\u001b[34m[05/06/2020 02:14:09 INFO 140406565504832] Completed Epoch: 4, time taken: 0:00:52.405297\u001b[0m\n",
      "\u001b[34m[05/06/2020 02:14:09 INFO 140406565504832] Epoch 4 Training metrics:   mean_squared_error: 0.108 mean_absolute_error: 0.248 \u001b[0m\n",
      "\u001b[34m[05/06/2020 02:14:09 INFO 140406565504832] #quality_metric: host=algo-1, epoch=4, train mean_squared_error <loss>=0.107885009417\u001b[0m\n",
      "\u001b[34m[05/06/2020 02:14:09 INFO 140406565504832] Epoch 4 Validation metrics: mean_squared_error: 0.953 mean_absolute_error: 0.777 \u001b[0m\n",
      "\u001b[34m[05/06/2020 02:14:09 INFO 140406565504832] #quality_metric: host=algo-1, epoch=4, validation mean_squared_error <loss>=0.953240631803\u001b[0m\n",
      "\u001b[34m[05/06/2020 02:14:09 INFO 140406565504832] **************\u001b[0m\n",
      "\u001b[34m[05/06/2020 02:14:09 INFO 140406565504832] patience losses: [0.9870797327241382, 1.0233645040441204, 0.9377079561755464]\u001b[0m\n",
      "\u001b[34m[05/06/2020 02:14:09 INFO 140406565504832] min patience losses: 0.937707956176\u001b[0m\n",
      "\u001b[34m[05/06/2020 02:14:09 INFO 140406565504832] current loss: 0.953240631803\u001b[0m\n",
      "\u001b[34m[05/06/2020 02:14:09 INFO 140406565504832] absolute loss difference: 0.0155326756271\u001b[0m\n",
      "\u001b[34m[05/06/2020 02:14:09 INFO 140406565504832] Bad epoch: loss has not improved (enough). Bad count:2\u001b[0m\n",
      "\u001b[34m#metrics {\"Metrics\": {\"early_stop.time\": {\"count\": 1, \"max\": 0.2701282501220703, \"sum\": 0.2701282501220703, \"min\": 0.2701282501220703}, \"update.time\": {\"count\": 1, \"max\": 52966.78304672241, \"sum\": 52966.78304672241, \"min\": 52966.78304672241}}, \"EndTime\": 1588731249.593849, \"Dimensions\": {\"Host\": \"algo-1\", \"Operation\": \"training\", \"Algorithm\": \"ObjectToVec\"}, \"StartTime\": 1588731196.59741}\n",
      "\u001b[0m\n",
      "\u001b[34m[05/06/2020 02:14:09 INFO 140406565504832] #progress_metric: host=algo-1, completed 25 % of epochs\u001b[0m\n",
      "\u001b[34m#metrics {\"Metrics\": {\"Max Batches Seen Between Resets\": {\"count\": 1, \"max\": 1416, \"sum\": 1416.0, \"min\": 1416}, \"Number of Batches Since Last Reset\": {\"count\": 1, \"max\": 1416, \"sum\": 1416.0, \"min\": 1416}, \"Number of Records Since Last Reset\": {\"count\": 1, \"max\": 90624, \"sum\": 90624.0, \"min\": 90624}, \"Total Batches Seen\": {\"count\": 1, \"max\": 7080, \"sum\": 7080.0, \"min\": 7080}, \"Total Records Seen\": {\"count\": 1, \"max\": 453120, \"sum\": 453120.0, \"min\": 453120}, \"Max Records Seen Between Resets\": {\"count\": 1, \"max\": 90624, \"sum\": 90624.0, \"min\": 90624}, \"Reset Count\": {\"count\": 1, \"max\": 5, \"sum\": 5.0, \"min\": 5}}, \"EndTime\": 1588731249.59405, \"Dimensions\": {\"Host\": \"algo-1\", \"Meta\": \"training_data_iter\", \"Operation\": \"training\", \"Algorithm\": \"ObjectToVec\", \"epoch\": 4}, \"StartTime\": 1588731196.627047}\n",
      "\u001b[0m\n",
      "\u001b[34m[05/06/2020 02:14:09 INFO 140406565504832] #throughput_metric: host=algo-1, train throughput=1710.94864406 records/second\u001b[0m\n",
      "\u001b[34m[05/06/2020 02:14:13 INFO 140406565504832] Epoch: 5, batches: 100, num_examples: 6400, 1773.8 samples/sec, epoch time so far: 0:00:03.607981\u001b[0m\n",
      "\u001b[34m[05/06/2020 02:14:13 INFO 140406565504832] #011Training metrics: mean_squared_error: 0.098 mean_absolute_error: 0.242 \u001b[0m\n",
      "\u001b[34m[05/06/2020 02:14:16 INFO 140406565504832] Epoch: 5, batches: 200, num_examples: 12800, 1764.5 samples/sec, epoch time so far: 0:00:07.254083\u001b[0m\n",
      "\u001b[34m[05/06/2020 02:14:16 INFO 140406565504832] #011Training metrics: mean_squared_error: 0.095 mean_absolute_error: 0.237 \u001b[0m\n",
      "\u001b[34m[05/06/2020 02:14:20 INFO 140406565504832] Epoch: 5, batches: 300, num_examples: 19200, 1750.6 samples/sec, epoch time so far: 0:00:10.967957\u001b[0m\n",
      "\u001b[34m[05/06/2020 02:14:20 INFO 140406565504832] #011Training metrics: mean_squared_error: 0.092 mean_absolute_error: 0.234 \u001b[0m\n",
      "\u001b[34m[05/06/2020 02:14:24 INFO 140406565504832] Epoch: 5, batches: 400, num_examples: 25600, 1751.4 samples/sec, epoch time so far: 0:00:14.616903\u001b[0m\n",
      "\u001b[34m[05/06/2020 02:14:24 INFO 140406565504832] #011Training metrics: mean_squared_error: 0.090 mean_absolute_error: 0.231 \u001b[0m\n",
      "\u001b[34m[05/06/2020 02:14:27 INFO 140406565504832] Epoch: 5, batches: 500, num_examples: 32000, 1750.0 samples/sec, epoch time so far: 0:00:18.286086\u001b[0m\n",
      "\u001b[34m[05/06/2020 02:14:27 INFO 140406565504832] #011Training metrics: mean_squared_error: 0.089 mean_absolute_error: 0.230 \u001b[0m\n",
      "\u001b[34m[05/06/2020 02:14:31 INFO 140406565504832] Epoch: 5, batches: 600, num_examples: 38400, 1747.3 samples/sec, epoch time so far: 0:00:21.977150\u001b[0m\n",
      "\u001b[34m[05/06/2020 02:14:31 INFO 140406565504832] #011Training metrics: mean_squared_error: 0.089 mean_absolute_error: 0.230 \u001b[0m\n",
      "\u001b[34m[05/06/2020 02:14:35 INFO 140406565504832] Epoch: 5, batches: 700, num_examples: 44800, 1750.3 samples/sec, epoch time so far: 0:00:25.595125\u001b[0m\n",
      "\u001b[34m[05/06/2020 02:14:35 INFO 140406565504832] #011Training metrics: mean_squared_error: 0.088 mean_absolute_error: 0.229 \u001b[0m\n",
      "\u001b[34m[05/06/2020 02:14:38 INFO 140406565504832] Epoch: 5, batches: 800, num_examples: 51200, 1751.4 samples/sec, epoch time so far: 0:00:29.233896\u001b[0m\n",
      "\u001b[34m[05/06/2020 02:14:38 INFO 140406565504832] #011Training metrics: mean_squared_error: 0.089 mean_absolute_error: 0.230 \u001b[0m\n",
      "\u001b[34m[05/06/2020 02:14:42 INFO 140406565504832] Epoch: 5, batches: 900, num_examples: 57600, 1755.0 samples/sec, epoch time so far: 0:00:32.821027\u001b[0m\n",
      "\u001b[34m[05/06/2020 02:14:42 INFO 140406565504832] #011Training metrics: mean_squared_error: 0.088 mean_absolute_error: 0.229 \u001b[0m\n",
      "\u001b[34m[05/06/2020 02:14:45 INFO 140406565504832] Epoch: 5, batches: 1000, num_examples: 64000, 1759.4 samples/sec, epoch time so far: 0:00:36.375156\u001b[0m\n",
      "\u001b[34m[05/06/2020 02:14:45 INFO 140406565504832] #011Training metrics: mean_squared_error: 0.088 mean_absolute_error: 0.229 \u001b[0m\n",
      "\u001b[34m[05/06/2020 02:14:49 INFO 140406565504832] Epoch: 5, batches: 1100, num_examples: 70400, 1758.7 samples/sec, epoch time so far: 0:00:40.029388\u001b[0m\n",
      "\u001b[34m[05/06/2020 02:14:49 INFO 140406565504832] #011Training metrics: mean_squared_error: 0.089 mean_absolute_error: 0.230 \u001b[0m\n",
      "\u001b[34m[05/06/2020 02:14:53 INFO 140406565504832] Epoch: 5, batches: 1200, num_examples: 76800, 1756.4 samples/sec, epoch time so far: 0:00:43.724830\u001b[0m\n",
      "\u001b[34m[05/06/2020 02:14:53 INFO 140406565504832] #011Training metrics: mean_squared_error: 0.089 mean_absolute_error: 0.230 \u001b[0m\n",
      "\u001b[34m[05/06/2020 02:14:56 INFO 140406565504832] Epoch: 5, batches: 1300, num_examples: 83200, 1758.8 samples/sec, epoch time so far: 0:00:47.305684\u001b[0m\n",
      "\u001b[34m[05/06/2020 02:14:56 INFO 140406565504832] #011Training metrics: mean_squared_error: 0.089 mean_absolute_error: 0.230 \u001b[0m\n",
      "\u001b[34m[05/06/2020 02:15:00 INFO 140406565504832] Epoch: 5, batches: 1400, num_examples: 89600, 1762.3 samples/sec, epoch time so far: 0:00:50.842860\u001b[0m\n",
      "\u001b[34m[05/06/2020 02:15:00 INFO 140406565504832] #011Training metrics: mean_squared_error: 0.089 mean_absolute_error: 0.231 \u001b[0m\n",
      "\u001b[34m[05/06/2020 02:15:01 INFO 140406565504832] **************\u001b[0m\n",
      "\u001b[34m[05/06/2020 02:15:01 INFO 140406565504832] Completed Epoch: 5, time taken: 0:00:51.414797\u001b[0m\n",
      "\u001b[34m[05/06/2020 02:15:01 INFO 140406565504832] Epoch 5 Training metrics:   mean_squared_error: 0.089 mean_absolute_error: 0.231 \u001b[0m\n",
      "\u001b[34m[05/06/2020 02:15:01 INFO 140406565504832] #quality_metric: host=algo-1, epoch=5, train mean_squared_error <loss>=0.0891238305123\u001b[0m\n",
      "\u001b[34m[05/06/2020 02:15:01 INFO 140406565504832] Epoch 5 Validation metrics: mean_squared_error: 0.930 mean_absolute_error: 0.760 \u001b[0m\n",
      "\u001b[34m[05/06/2020 02:15:01 INFO 140406565504832] #quality_metric: host=algo-1, epoch=5, validation mean_squared_error <loss>=0.929551687192\u001b[0m\n",
      "\u001b[34m[05/06/2020 02:15:01 INFO 140406565504832] **************\u001b[0m\n",
      "\u001b[34m[05/06/2020 02:15:01 INFO 140406565504832] patience losses: [1.0233645040441204, 0.9377079561755464, 0.953240631802662]\u001b[0m\n",
      "\u001b[34m[05/06/2020 02:15:01 INFO 140406565504832] min patience losses: 0.937707956176\u001b[0m\n",
      "\u001b[34m[05/06/2020 02:15:01 INFO 140406565504832] current loss: 0.929551687192\u001b[0m\n",
      "\u001b[34m[05/06/2020 02:15:01 INFO 140406565504832] absolute loss difference: 0.00815626898327\u001b[0m\n",
      "\u001b[34m[05/06/2020 02:15:01 INFO 140406565504832] Bad epoch: loss has not improved (enough). Bad count:3\u001b[0m\n",
      "\u001b[34m#metrics {\"Metrics\": {\"early_stop.time\": {\"count\": 1, \"max\": 1.7101764678955078, \"sum\": 1.7101764678955078, \"min\": 1.7101764678955078}, \"update.time\": {\"count\": 1, \"max\": 52022.40800857544, \"sum\": 52022.40800857544, \"min\": 52022.40800857544}}, \"EndTime\": 1588731301.620882, \"Dimensions\": {\"Host\": \"algo-1\", \"Operation\": \"training\", \"Algorithm\": \"ObjectToVec\"}, \"StartTime\": 1588731249.593913}\n",
      "\u001b[0m\n",
      "\u001b[34m[05/06/2020 02:15:01 INFO 140406565504832] #progress_metric: host=algo-1, completed 30 % of epochs\u001b[0m\n",
      "\u001b[34m#metrics {\"Metrics\": {\"Max Batches Seen Between Resets\": {\"count\": 1, \"max\": 1416, \"sum\": 1416.0, \"min\": 1416}, \"Number of Batches Since Last Reset\": {\"count\": 1, \"max\": 1416, \"sum\": 1416.0, \"min\": 1416}, \"Number of Records Since Last Reset\": {\"count\": 1, \"max\": 90624, \"sum\": 90624.0, \"min\": 90624}, \"Total Batches Seen\": {\"count\": 1, \"max\": 8496, \"sum\": 8496.0, \"min\": 8496}, \"Total Records Seen\": {\"count\": 1, \"max\": 543744, \"sum\": 543744.0, \"min\": 543744}, \"Max Records Seen Between Resets\": {\"count\": 1, \"max\": 90624, \"sum\": 90624.0, \"min\": 90624}, \"Reset Count\": {\"count\": 1, \"max\": 6, \"sum\": 6.0, \"min\": 6}}, \"EndTime\": 1588731301.62104, \"Dimensions\": {\"Host\": \"algo-1\", \"Meta\": \"training_data_iter\", \"Operation\": \"training\", \"Algorithm\": \"ObjectToVec\", \"epoch\": 5}, \"StartTime\": 1588731249.598458}\n",
      "\u001b[0m\n",
      "\u001b[34m[05/06/2020 02:15:01 INFO 140406565504832] #throughput_metric: host=algo-1, train throughput=1742.00987628 records/second\u001b[0m\n"
     ]
    },
    {
     "name": "stdout",
     "output_type": "stream",
     "text": [
      "\u001b[34m[05/06/2020 02:15:05 INFO 140406565504832] Epoch: 6, batches: 100, num_examples: 6400, 1790.1 samples/sec, epoch time so far: 0:00:03.575191\u001b[0m\n",
      "\u001b[34m[05/06/2020 02:15:05 INFO 140406565504832] #011Training metrics: mean_squared_error: 0.085 mean_absolute_error: 0.226 \u001b[0m\n",
      "\u001b[34m[05/06/2020 02:15:08 INFO 140406565504832] Epoch: 6, batches: 200, num_examples: 12800, 1754.7 samples/sec, epoch time so far: 0:00:07.294491\u001b[0m\n",
      "\u001b[34m[05/06/2020 02:15:08 INFO 140406565504832] #011Training metrics: mean_squared_error: 0.087 mean_absolute_error: 0.227 \u001b[0m\n",
      "\u001b[34m[05/06/2020 02:15:12 INFO 140406565504832] Epoch: 6, batches: 300, num_examples: 19200, 1734.7 samples/sec, epoch time so far: 0:00:11.068163\u001b[0m\n",
      "\u001b[34m[05/06/2020 02:15:12 INFO 140406565504832] #011Training metrics: mean_squared_error: 0.086 mean_absolute_error: 0.226 \u001b[0m\n",
      "\u001b[34m[05/06/2020 02:15:16 INFO 140406565504832] Epoch: 6, batches: 400, num_examples: 25600, 1727.8 samples/sec, epoch time so far: 0:00:14.816842\u001b[0m\n",
      "\u001b[34m[05/06/2020 02:15:16 INFO 140406565504832] #011Training metrics: mean_squared_error: 0.084 mean_absolute_error: 0.225 \u001b[0m\n",
      "\u001b[34m[05/06/2020 02:15:20 INFO 140406565504832] Epoch: 6, batches: 500, num_examples: 32000, 1721.6 samples/sec, epoch time so far: 0:00:18.587119\u001b[0m\n",
      "\u001b[34m[05/06/2020 02:15:20 INFO 140406565504832] #011Training metrics: mean_squared_error: 0.084 mean_absolute_error: 0.224 \u001b[0m\n",
      "\u001b[34m[05/06/2020 02:15:23 INFO 140406565504832] Epoch: 6, batches: 600, num_examples: 38400, 1723.0 samples/sec, epoch time so far: 0:00:22.286496\u001b[0m\n",
      "\u001b[34m[05/06/2020 02:15:23 INFO 140406565504832] #011Training metrics: mean_squared_error: 0.083 mean_absolute_error: 0.223 \u001b[0m\n",
      "\u001b[34m[05/06/2020 02:15:27 INFO 140406565504832] Epoch: 6, batches: 700, num_examples: 44800, 1732.3 samples/sec, epoch time so far: 0:00:25.861655\u001b[0m\n",
      "\u001b[34m[05/06/2020 02:15:27 INFO 140406565504832] #011Training metrics: mean_squared_error: 0.083 mean_absolute_error: 0.223 \u001b[0m\n",
      "\u001b[34m[05/06/2020 02:15:31 INFO 140406565504832] Epoch: 6, batches: 800, num_examples: 51200, 1731.9 samples/sec, epoch time so far: 0:00:29.562971\u001b[0m\n",
      "\u001b[34m[05/06/2020 02:15:31 INFO 140406565504832] #011Training metrics: mean_squared_error: 0.083 mean_absolute_error: 0.223 \u001b[0m\n",
      "\u001b[34m[05/06/2020 02:15:34 INFO 140406565504832] Epoch: 6, batches: 900, num_examples: 57600, 1731.1 samples/sec, epoch time so far: 0:00:33.273278\u001b[0m\n",
      "\u001b[34m[05/06/2020 02:15:34 INFO 140406565504832] #011Training metrics: mean_squared_error: 0.082 mean_absolute_error: 0.222 \u001b[0m\n",
      "\u001b[34m[05/06/2020 02:15:38 INFO 140406565504832] Epoch: 6, batches: 1000, num_examples: 64000, 1731.3 samples/sec, epoch time so far: 0:00:36.967481\u001b[0m\n",
      "\u001b[34m[05/06/2020 02:15:38 INFO 140406565504832] #011Training metrics: mean_squared_error: 0.082 mean_absolute_error: 0.222 \u001b[0m\n",
      "\u001b[34m[05/06/2020 02:15:42 INFO 140406565504832] Epoch: 6, batches: 1100, num_examples: 70400, 1732.6 samples/sec, epoch time so far: 0:00:40.631646\u001b[0m\n",
      "\u001b[34m[05/06/2020 02:15:42 INFO 140406565504832] #011Training metrics: mean_squared_error: 0.082 mean_absolute_error: 0.222 \u001b[0m\n",
      "\u001b[34m[05/06/2020 02:15:45 INFO 140406565504832] Epoch: 6, batches: 1200, num_examples: 76800, 1739.4 samples/sec, epoch time so far: 0:00:44.154006\u001b[0m\n",
      "\u001b[34m[05/06/2020 02:15:45 INFO 140406565504832] #011Training metrics: mean_squared_error: 0.082 mean_absolute_error: 0.222 \u001b[0m\n",
      "\u001b[34m[05/06/2020 02:15:49 INFO 140406565504832] Epoch: 6, batches: 1300, num_examples: 83200, 1744.7 samples/sec, epoch time so far: 0:00:47.687205\u001b[0m\n",
      "\u001b[34m[05/06/2020 02:15:49 INFO 140406565504832] #011Training metrics: mean_squared_error: 0.082 mean_absolute_error: 0.222 \u001b[0m\n",
      "\u001b[34m[05/06/2020 02:15:53 INFO 140406565504832] Epoch: 6, batches: 1400, num_examples: 89600, 1744.2 samples/sec, epoch time so far: 0:00:51.369569\u001b[0m\n",
      "\u001b[34m[05/06/2020 02:15:53 INFO 140406565504832] #011Training metrics: mean_squared_error: 0.083 mean_absolute_error: 0.223 \u001b[0m\n",
      "\u001b[34m[05/06/2020 02:15:53 INFO 140406565504832] **************\u001b[0m\n",
      "\u001b[34m[05/06/2020 02:15:53 INFO 140406565504832] Completed Epoch: 6, time taken: 0:00:51.939157\u001b[0m\n",
      "\u001b[34m[05/06/2020 02:15:53 INFO 140406565504832] Epoch 6 Training metrics:   mean_squared_error: 0.083 mean_absolute_error: 0.223 \u001b[0m\n",
      "\u001b[34m[05/06/2020 02:15:53 INFO 140406565504832] #quality_metric: host=algo-1, epoch=6, train mean_squared_error <loss>=0.0825128710518\u001b[0m\n",
      "\u001b[34m[05/06/2020 02:15:54 INFO 140406565504832] Epoch 6 Validation metrics: mean_squared_error: 0.930 mean_absolute_error: 0.755 \u001b[0m\n",
      "\u001b[34m[05/06/2020 02:15:54 INFO 140406565504832] #quality_metric: host=algo-1, epoch=6, validation mean_squared_error <loss>=0.929558362107\u001b[0m\n",
      "\u001b[34m[05/06/2020 02:15:54 INFO 140406565504832] **************\u001b[0m\n",
      "\u001b[34m[05/06/2020 02:15:54 INFO 140406565504832] patience losses: [0.9377079561755464, 0.953240631802662, 0.9295516871922725]\u001b[0m\n",
      "\u001b[34m[05/06/2020 02:15:54 INFO 140406565504832] min patience losses: 0.929551687192\u001b[0m\n",
      "\u001b[34m[05/06/2020 02:15:54 INFO 140406565504832] current loss: 0.929558362107\u001b[0m\n",
      "\u001b[34m[05/06/2020 02:15:54 INFO 140406565504832] absolute loss difference: 6.6749147466e-06\u001b[0m\n",
      "\u001b[34m[05/06/2020 02:15:54 INFO 140406565504832] Bad epoch: loss has not improved (enough). Bad count:4\u001b[0m\n",
      "\u001b[34m[05/06/2020 02:15:54 INFO 140406565504832] Bad epochs exceeded patience. Stopping training early!\u001b[0m\n",
      "\u001b[34m[05/06/2020 02:15:54 INFO 140406565504832] Early stopping criterion met! Stopping training at epoch: 6\u001b[0m\n",
      "\u001b[34m#metrics {\"Metrics\": {\"early_stop.time\": {\"count\": 1, \"max\": 0.31304359436035156, \"sum\": 0.31304359436035156, \"min\": 0.31304359436035156}, \"update.time\": {\"count\": 1, \"max\": 52483.452796936035, \"sum\": 52483.452796936035, \"min\": 52483.452796936035}}, \"EndTime\": 1588731354.134477, \"Dimensions\": {\"Host\": \"algo-1\", \"Operation\": \"training\", \"Algorithm\": \"ObjectToVec\"}, \"StartTime\": 1588731301.620943}\n",
      "\u001b[0m\n",
      "\u001b[34m[05/06/2020 02:15:54 INFO 140406565504832] Early stop condition met. Stopping training.\u001b[0m\n",
      "\u001b[34m[05/06/2020 02:15:54 INFO 140406565504832] #progress_metric: host=algo-1, completed 100 % epochs\u001b[0m\n",
      "\u001b[34m#metrics {\"Metrics\": {\"Max Batches Seen Between Resets\": {\"count\": 1, \"max\": 1416, \"sum\": 1416.0, \"min\": 1416}, \"Number of Batches Since Last Reset\": {\"count\": 1, \"max\": 1416, \"sum\": 1416.0, \"min\": 1416}, \"Number of Records Since Last Reset\": {\"count\": 1, \"max\": 90624, \"sum\": 90624.0, \"min\": 90624}, \"Total Batches Seen\": {\"count\": 1, \"max\": 9912, \"sum\": 9912.0, \"min\": 9912}, \"Total Records Seen\": {\"count\": 1, \"max\": 634368, \"sum\": 634368.0, \"min\": 634368}, \"Max Records Seen Between Resets\": {\"count\": 1, \"max\": 90624, \"sum\": 90624.0, \"min\": 90624}, \"Reset Count\": {\"count\": 1, \"max\": 7, \"sum\": 7.0, \"min\": 7}}, \"EndTime\": 1588731354.134725, \"Dimensions\": {\"Host\": \"algo-1\", \"Meta\": \"training_data_iter\", \"Operation\": \"training\", \"Algorithm\": \"ObjectToVec\", \"epoch\": 6}, \"StartTime\": 1588731301.651005}\n",
      "\u001b[0m\n",
      "\u001b[34m[05/06/2020 02:15:54 INFO 140406565504832] #throughput_metric: host=algo-1, train throughput=1726.70305789 records/second\u001b[0m\n",
      "\u001b[34m[05/06/2020 02:15:54 WARNING 140406565504832] wait_for_all_workers will not sync workers since the kv store is not running distributed\u001b[0m\n",
      "\u001b[34m[05/06/2020 02:15:54 INFO 140406565504832] Best model based on epoch 5. Best loss: 0.930\u001b[0m\n",
      "\u001b[34m#metrics {\"Metrics\": {\"finalize.time\": {\"count\": 1, \"max\": 0.7708072662353516, \"sum\": 0.7708072662353516, \"min\": 0.7708072662353516}}, \"EndTime\": 1588731354.135736, \"Dimensions\": {\"Host\": \"algo-1\", \"Operation\": \"training\", \"Algorithm\": \"ObjectToVec\"}, \"StartTime\": 1588731354.134544}\n",
      "\u001b[0m\n",
      "\u001b[34m[05/06/2020 02:15:54 INFO 140406565504832] Serializing model to /opt/ml/model/model_algo-1\u001b[0m\n",
      "\u001b[34m[05/06/2020 02:15:54 INFO 140406565504832] Saved checkpoint to \"/tmp/tmp_7JGgP/state-0001.params\"\u001b[0m\n",
      "\u001b[34m[05/06/2020 02:15:54 INFO 140406565504832] Test data is not provided.\u001b[0m\n",
      "\u001b[34m#metrics {\"Metrics\": {\"totaltime\": {\"count\": 1, \"max\": 359733.38294029236, \"sum\": 359733.38294029236, \"min\": 359733.38294029236}, \"model.serialize.time\": {\"count\": 1, \"max\": 52.763938903808594, \"sum\": 52.763938903808594, \"min\": 52.763938903808594}, \"setuptime\": {\"count\": 1, \"max\": 221.37212753295898, \"sum\": 221.37212753295898, \"min\": 221.37212753295898}}, \"EndTime\": 1588731354.191803, \"Dimensions\": {\"Host\": \"algo-1\", \"Operation\": \"training\", \"Algorithm\": \"ObjectToVec\"}, \"StartTime\": 1588731354.135782}\n",
      "\u001b[0m\n"
     ]
    },
    {
     "name": "stdout",
     "output_type": "stream",
     "text": [
      "\n",
      "2020-05-06 02:16:02 Uploading - Uploading generated training model\n",
      "2020-05-06 02:16:02 Completed - Training job completed\n",
      "Training seconds: 443\n",
      "Billable seconds: 443\n"
     ]
    }
   ],
   "source": [
    "## get estimator\n",
    "regressor = sagemaker.estimator.Estimator(container,\n",
    "                                          role, \n",
    "                                          train_instance_count=1, \n",
    "                                          train_instance_type='ml.m5.xlarge',\n",
    "                                          output_path=output_path,\n",
    "                                          sagemaker_session=sess)\n",
    "\n",
    "## set hyperparameters\n",
    "regressor.set_hyperparameters(**hyperparameters)\n",
    "\n",
    "## train the model\n",
    "regressor.fit(input_paths)"
   ]
  },
  {
   "cell_type": "markdown",
   "metadata": {},
   "source": [
    "We have seen that we can upload train (validation) data through the input data channel, and the algorithm will print out train (validation) evaluation metric during training. In addition, the algorithm uses the validation metric to perform early stopping. \n",
    "\n",
    "What if we want to send additional unlabeled data to the algorithm and get predictions from the trained model?\n",
    "This step is called *inference* in the Sagemaker framework. Next, we demonstrate how to use a trained model to perform inference on unseen data points."
   ]
  },
  {
   "cell_type": "markdown",
   "metadata": {},
   "source": [
    "## Inference using trained model"
   ]
  },
  {
   "cell_type": "markdown",
   "metadata": {},
   "source": [
    "Create and deploy the model"
   ]
  },
  {
   "cell_type": "code",
   "execution_count": 58,
   "metadata": {},
   "outputs": [],
   "source": [
    "#import numpy as np\n",
    "from sagemaker.predictor import json_serializer, json_deserializer\n",
    "\n",
    "# create a model using the trained algorithm\n",
    "regression_model = regressor.create_model(\n",
    "                        serializer=json_serializer,\n",
    "                        deserializer=json_deserializer,\n",
    "                        content_type='application/json')"
   ]
  },
  {
   "cell_type": "code",
   "execution_count": 59,
   "metadata": {},
   "outputs": [
    {
     "name": "stdout",
     "output_type": "stream",
     "text": [
      "-------------------------!"
     ]
    }
   ],
   "source": [
    "# deploy the model\n",
    "predictor = regression_model.deploy(initial_instance_count=1, instance_type='ml.m4.xlarge')"
   ]
  },
  {
   "cell_type": "markdown",
   "metadata": {},
   "source": [
    "Below we send validation data (without labels) to the deployed endpoint for inference. We will see that the resulting prediction error we get from post-training inference matches the best validation error from the training log in the console above (up to floating point error). If you follow the training instruction and parameter setup, you should get mean squared error on the validation set approximately 0.91."
   ]
  },
  {
   "cell_type": "code",
   "execution_count": null,
   "metadata": {},
   "outputs": [],
   "source": [
    "# Send data to the endpoint to get predictions\n",
    "prediction = predictor.predict(valid_r_data)\n",
    "\n",
    "print(\"The mean squared error on validation set is %.3f\" %get_mse_loss(prediction, valid_r_label))"
   ]
  },
  {
   "cell_type": "markdown",
   "metadata": {},
   "source": [
    "### Comparison against popular libraries\n",
    "\n",
    "Below we provide a chart that compares the performance of *Object2Vec* against several algorithms implemented by popular recommendation system libraries (LibRec https://www.librec.net/ and scikit-surprise http://surpriselib.com/). The error metric we use in the chart is **root mean squared** (RMSE) instead of MSE, so that our result can be compared against the reported results in the aforementioned libraries."
   ]
  },
  {
   "cell_type": "markdown",
   "metadata": {},
   "source": [
    "<img src=\"ml-experiment-plot.png\" width=\"400\">"
   ]
  },
  {
   "cell_type": "markdown",
   "metadata": {},
   "source": [
    "# Recommendation task \n",
    "\n",
    "In this section, we showcase how to use *Object2Vec* to recommend movies, using the binarized rating labels. Here, if a movie rating label for a given user is binarized to `1`, then it means that the movie should be recommended to the user; otherwise, the label is binarized to `0`. The binarized data set is already obtained in the preprocessing section, so we will proceed to apply the algorithm."
   ]
  },
  {
   "cell_type": "markdown",
   "metadata": {},
   "source": [
    "We upload the binarized datasets for classification task to S3"
   ]
  },
  {
   "cell_type": "code",
   "execution_count": 60,
   "metadata": {},
   "outputs": [
    {
     "name": "stdout",
     "output_type": "stream",
     "text": [
      "Uploaded data to s3://sagemaker-data-sou/object2vec/movielens/input/recommendation/train/train_c.jsonl\n",
      "Uploaded data to s3://sagemaker-data-sou/object2vec/movielens/input/recommendation/validation/validation_c.jsonl\n"
     ]
    }
   ],
   "source": [
    "for data_name in ['train', 'validation']:\n",
    "    fname = '{}_c.jsonl'.format(data_name)\n",
    "    pre_key = os.path.join(input_prefix, 'recommendation', f\"{data_name}\")\n",
    "    data_path = os.path.join('s3://', bucket, pre_key, fname)\n",
    "    s3_client.upload_file(fname, bucket, os.path.join(pre_key, fname))\n",
    "    input_paths[data_name] = s3_input(data_path, distribution='ShardedByS3Key', content_type='application/jsonlines')\n",
    "    print('Uploaded data to {}'.format(data_path))"
   ]
  },
  {
   "cell_type": "markdown",
   "metadata": {},
   "source": [
    "Since we already get the algorithm image from the regression task, we can directly start training"
   ]
  },
  {
   "cell_type": "code",
   "execution_count": 61,
   "metadata": {},
   "outputs": [],
   "source": [
    "from sagemaker.session import s3_input\n",
    "\n",
    "hyperparameters_c = {\n",
    "    \"_kvstore\": \"device\",\n",
    "    \"_num_gpus\": \"auto\",\n",
    "    \"_num_kv_servers\": \"auto\",\n",
    "    \"bucket_width\": 0,\n",
    "    \"early_stopping_patience\": 3, \n",
    "    \"early_stopping_tolerance\": 0.01,\n",
    "    \"enc0_cnn_filter_width\": 3,\n",
    "    \"enc0_layers\": \"auto\",\n",
    "    \"enc0_max_seq_len\": 1,\n",
    "    \"enc0_network\": \"pooled_embedding\",\n",
    "    \"enc0_token_embedding_dim\": 300,\n",
    "    \"enc0_vocab_size\": 944,\n",
    "    \"enc1_cnn_filter_width\": 3,\n",
    "    \"enc1_layers\": \"auto\",\n",
    "    \"enc1_max_seq_len\": 1,\n",
    "    \"enc1_network\": \"pooled_embedding\",\n",
    "    \"enc1_token_embedding_dim\": 300,\n",
    "    \"enc1_vocab_size\": 1684,\n",
    "    \"enc_dim\": 2048,\n",
    "    \"epochs\": 20,\n",
    "    \"learning_rate\": 0.001,\n",
    "    \"mini_batch_size\": 2048,\n",
    "    \"mlp_activation\": \"relu\",\n",
    "    \"mlp_dim\": 1024,\n",
    "    \"mlp_layers\": 1,\n",
    "    \"num_classes\": 2,\n",
    "    \"optimizer\": \"adam\",\n",
    "    \"output_layer\": \"softmax\"\n",
    "}"
   ]
  },
  {
   "cell_type": "code",
   "execution_count": 63,
   "metadata": {},
   "outputs": [
    {
     "name": "stdout",
     "output_type": "stream",
     "text": [
      "2020-05-07 19:36:51 Starting - Starting the training job...\n",
      "2020-05-07 19:36:52 Starting - Launching requested ML instances......\n",
      "2020-05-07 19:37:54 Starting - Preparing the instances for training...\n",
      "2020-05-07 19:38:37 Downloading - Downloading input data......\n",
      "2020-05-07 19:39:39 Training - Downloading the training image..\u001b[34mDocker entrypoint called with argument(s): train\u001b[0m\n",
      "\u001b[34mRunning default environment configuration script\u001b[0m\n",
      "\u001b[34m[05/07/2020 19:39:59 INFO 139819811559232] Reading default configuration from /opt/amazon/lib/python2.7/site-packages/algorithm/default-input.json: {u'comparator_list': u'hadamard, concat, abs_diff', u'enc0_vocab_file': u'', u'output_layer': u'softmax', u'enc0_cnn_filter_width': 3, u'epochs': 30, u'mlp_dim': 512, u'enc0_freeze_pretrained_embedding': u'true', u'mlp_layers': 2, u'_num_kv_servers': u'auto', u'weight_decay': 0, u'enc0_pretrained_embedding_file': u'', u'token_embedding_storage_type': u'dense', u'enc0_token_embedding_dim': 300, u'tied_token_embedding_weight': u'false', u'learning_rate': 0.0004, u'enc1_cnn_filter_width': 3, u'negative_sampling_rate': 0, u'enc0_network': u'hcnn', u'enc1_layers': u'auto', u'early_stopping_patience': 3, u'optimizer': u'adam', u'_tuning_objective_metric': u'', u'early_stopping_tolerance': 0.01, u'dropout': 0, u'bucket_width': 0, u'enc_dim': 4096, u'enc1_vocab_file': u'', u'enc1_freeze_pretrained_embedding': u'true', u'enc0_layers': u'auto', u'mini_batch_size': 32, u'enc1_pretrained_embedding_file': u'', u'num_classes': 2, u'_num_gpus': u'auto', u'enc1_token_embedding_dim': 300, u'mlp_activation': u'linear', u'enc1_network': u'enc0', u'_kvstore': u'auto_gpu'}\u001b[0m\n",
      "\u001b[34m[05/07/2020 19:39:59 INFO 139819811559232] Reading provided configuration from /opt/ml/input/config/hyperparameters.json: {u'output_layer': u'softmax', u'enc0_cnn_filter_width': u'3', u'epochs': u'20', u'mlp_dim': u'1024', u'mlp_layers': u'1', u'_num_kv_servers': u'auto', u'mini_batch_size': u'2048', u'enc0_token_embedding_dim': u'300', u'enc1_network': u'pooled_embedding', u'early_stopping_tolerance': u'0.01', u'enc0_network': u'pooled_embedding', u'enc1_layers': u'auto', u'early_stopping_patience': u'3', u'optimizer': u'adam', u'enc1_max_seq_len': u'1', u'enc1_cnn_filter_width': u'3', u'learning_rate': u'0.001', u'bucket_width': u'0', u'enc_dim': u'2048', u'enc0_layers': u'auto', u'enc0_max_seq_len': u'1', u'num_classes': u'2', u'_num_gpus': u'auto', u'mlp_activation': u'relu', u'enc1_token_embedding_dim': u'300', u'_kvstore': u'device', u'enc1_vocab_size': u'1684', u'enc0_vocab_size': u'944'}\u001b[0m\n",
      "\u001b[34m[05/07/2020 19:39:59 INFO 139819811559232] Final configuration: {u'comparator_list': u'hadamard, concat, abs_diff', u'enc0_vocab_file': u'', u'output_layer': u'softmax', u'enc0_cnn_filter_width': u'3', u'epochs': u'20', u'mlp_dim': u'1024', u'enc0_freeze_pretrained_embedding': u'true', u'mlp_layers': u'1', u'_num_kv_servers': u'auto', u'weight_decay': 0, u'enc0_pretrained_embedding_file': u'', u'enc0_max_seq_len': u'1', u'token_embedding_storage_type': u'dense', u'enc0_token_embedding_dim': u'300', u'tied_token_embedding_weight': u'false', u'learning_rate': u'0.001', u'enc1_cnn_filter_width': u'3', u'negative_sampling_rate': 0, u'enc0_network': u'pooled_embedding', u'enc1_layers': u'auto', u'early_stopping_patience': u'3', u'optimizer': u'adam', u'enc1_max_seq_len': u'1', u'_tuning_objective_metric': u'', u'early_stopping_tolerance': u'0.01', u'dropout': 0, u'bucket_width': u'0', u'enc_dim': u'2048', u'enc1_vocab_file': u'', u'enc1_freeze_pretrained_embedding': u'true', u'enc0_layers': u'auto', u'mini_batch_size': u'2048', u'enc1_pretrained_embedding_file': u'', u'num_classes': u'2', u'_num_gpus': u'auto', u'enc1_token_embedding_dim': u'300', u'mlp_activation': u'relu', u'enc1_network': u'pooled_embedding', u'_kvstore': u'device', u'enc1_vocab_size': u'1684', u'enc0_vocab_size': u'944'}\u001b[0m\n",
      "\u001b[34mProcess 1 is a worker.\u001b[0m\n",
      "\u001b[34m[05/07/2020 19:39:59 INFO 139819811559232] Using default worker.\u001b[0m\n",
      "\u001b[34m[05/07/2020 19:40:00 INFO 139819811559232] Loaded iterator creator application/jsonlines for content type ('application/jsonlines', '1.0')\u001b[0m\n",
      "\u001b[34m[05/07/2020 19:40:00 INFO 139819811559232] create_iter params {u'comparator_list': u'hadamard, concat, abs_diff', u'enc0_vocab_file': u'', u'output_layer': u'softmax', u'enc0_cnn_filter_width': u'3', u'epochs': u'20', u'mlp_dim': u'1024', u'enc0_freeze_pretrained_embedding': u'true', u'mlp_layers': u'1', u'_num_kv_servers': u'auto', u'weight_decay': 0, u'enc0_pretrained_embedding_file': u'', u'enc0_max_seq_len': u'1', u'token_embedding_storage_type': u'dense', u'enc0_token_embedding_dim': u'300', u'tied_token_embedding_weight': u'false', u'learning_rate': u'0.001', u'enc1_cnn_filter_width': u'3', u'negative_sampling_rate': 0, u'enc0_network': u'pooled_embedding', u'enc1_layers': u'auto', u'early_stopping_patience': u'3', u'optimizer': u'adam', u'enc1_max_seq_len': u'1', u'_tuning_objective_metric': u'', u'early_stopping_tolerance': u'0.01', u'dropout': 0, u'bucket_width': u'0', u'enc_dim': u'2048', u'enc1_vocab_file': u'', u'enc1_freeze_pretrained_embedding': u'true', u'enc0_layers': u'auto', u'mini_batch_size': u'2048', u'enc1_pretrained_embedding_file': u'', u'num_classes': u'2', u'_num_gpus': u'auto', u'enc1_token_embedding_dim': u'300', u'mlp_activation': u'relu', u'enc1_network': u'pooled_embedding', u'_kvstore': u'device', u'enc1_vocab_size': u'1684', u'enc0_vocab_size': u'944'}\u001b[0m\n",
      "\u001b[34m[05/07/2020 19:40:00 INFO 139819811559232] create_iter content_params {}\u001b[0m\n",
      "\u001b[34m[05/07/2020 19:40:00 INFO 139819811559232] Parameters of encoders: [{u'layers': u'auto', u'vocab_size': u'944', u'network': u'pooled_embedding', u'vocab_file': u'', u'cnn_filter_width': u'3', u'token_embedding_dim': u'300', u'max_seq_len': u'1', u'freeze_pretrained_embedding': u'true', u'pretrained_embedding_file': u''}, {u'layers': u'auto', u'vocab_size': u'1684', u'network': u'pooled_embedding', u'vocab_file': u'', u'cnn_filter_width': u'3', u'token_embedding_dim': u'300', u'max_seq_len': u'1', u'freeze_pretrained_embedding': u'true', u'pretrained_embedding_file': u''}]\u001b[0m\n",
      "\u001b[34m[05/07/2020 19:40:00 INFO 139819811559232] Inconsistent enc_dim and token_embedding_dim found for token-embedding-encoder: 2048 vs 300. Setting token embedding dim to be 2048\u001b[0m\n",
      "\u001b[34m[05/07/2020 19:40:00 INFO 139819811559232] Inconsistent enc_dim and token_embedding_dim found for token-embedding-encoder: 2048 vs 300. Setting token embedding dim to be 2048\u001b[0m\n",
      "\u001b[34m[05/07/2020 19:40:00 INFO 139819811559232] Encoder configs: [{'vocab_size': 944, 'enc_index': 0, 'pretrained_embedding_file_path': None, 'vocab_dict': None, 'token_embedding_dim': 2048, 'vocab_file': '', 'freeze_pretrained_embedding': True, 'num_layers': 1, 'is_train': True, 'dropout': 0.0, 'pretrained_embedding_file': ''}, {'vocab_size': 1684, 'enc_index': 1, 'pretrained_embedding_file_path': None, 'vocab_dict': None, 'token_embedding_dim': 2048, 'vocab_file': '', 'freeze_pretrained_embedding': True, 'num_layers': 1, 'is_train': True, 'dropout': 0.0, 'pretrained_embedding_file': ''}]\u001b[0m\n",
      "\u001b[34m[05/07/2020 19:40:00 INFO 139819811559232] Config: {'comparator_list': ['hadamard', 'concat', 'abs_diff'], 'epochs': 20, 'mini_batch_size': 2048, 'optimizer': 'adam', 'output_layer': 'softmax', 'token_embedding_storage_type': 'dense', 'mlp_dim': 1024, 'early_stopping_tolerance': 0.01, 'dropout': 0.0, 'bucket_width': 0, 'enc_dim': 2048, 'negative_sampling_rate': 0, 'early_stopping_patience': 3, 'learning_rate': 0.001, 'max_seq_lens': [1, 1], 'tied_token_embedding_weight': False, 'enc_configs': [{'vocab_size': 944, 'enc_index': 0, 'pretrained_embedding_file_path': None, 'vocab_dict': None, 'token_embedding_dim': 2048, 'vocab_file': '', 'freeze_pretrained_embedding': True, 'num_layers': 1, 'is_train': True, 'dropout': 0.0, 'pretrained_embedding_file': ''}, {'vocab_size': 1684, 'enc_index': 1, 'pretrained_embedding_file_path': None, 'vocab_dict': None, 'token_embedding_dim': 2048, 'vocab_file': '', 'freeze_pretrained_embedding': True, 'num_layers': 1, 'is_train': True, 'dropout': 0.0, 'pretrained_embedding_file': ''}], 'mlp_layers': 1, 'weight_decay': 0.0, 'mlp_activation': 'relu', 'num_classes': 2}\u001b[0m\n",
      "\u001b[34m[05/07/2020 19:40:00 INFO 139819811559232] use bucketing: False\u001b[0m\n",
      "\u001b[34m[05/07/2020 19:40:00 INFO 139819811559232] Creating data iterator for /opt/ml/input/data/train\u001b[0m\n",
      "\u001b[34m[05/07/2020 19:40:01 INFO 139819811559232] Source words: 90570\u001b[0m\n",
      "\u001b[34m[05/07/2020 19:40:01 INFO 139819811559232] Target words: 90570\u001b[0m\n",
      "\u001b[34m[05/07/2020 19:40:01 INFO 139819811559232] Total: 90570 samples in 1 buckets\u001b[0m\n",
      "\u001b[34m[05/07/2020 19:40:01 INFO 139819811559232] Bucket of (1, 1) : 90570 samples in 44 batches of 2048, approx 2048.0 words/batch\u001b[0m\n",
      "\u001b[34m[05/07/2020 19:40:01 INFO 139819811559232] 0 sentence pairs discarded\u001b[0m\n",
      "\u001b[34m[05/07/2020 19:40:01 INFO 139819811559232] fill up mode: replicate\u001b[0m\n",
      "\u001b[34m[05/07/2020 19:40:01 INFO 139819811559232] \u001b[0m\n",
      "\u001b[34m[05/07/2020 19:40:01 INFO 139819811559232] Negative sampling not used\u001b[0m\n",
      "\u001b[34m[05/07/2020 19:40:02 INFO 139819811559232] Replicating 1590 random sentences from bucket (1, 1) to size it to multiple of 2048\u001b[0m\n",
      "\u001b[34m[05/07/2020 19:40:02 INFO 139819811559232] Bucket batch sizes: [BucketBatchSize(batch_size=2048, average_words_per_batch=2048)]\u001b[0m\n",
      "\u001b[34m[05/07/2020 19:40:02 INFO 139819811559232] create_iter params {u'comparator_list': u'hadamard, concat, abs_diff', u'enc0_vocab_file': u'', u'output_layer': u'softmax', u'enc0_cnn_filter_width': u'3', u'epochs': u'20', u'mlp_dim': u'1024', u'enc0_freeze_pretrained_embedding': u'true', u'mlp_layers': u'1', u'_num_kv_servers': u'auto', u'weight_decay': 0, u'enc0_pretrained_embedding_file': u'', u'enc0_max_seq_len': u'1', u'token_embedding_storage_type': u'dense', u'enc0_token_embedding_dim': u'300', u'tied_token_embedding_weight': u'false', u'learning_rate': u'0.001', u'enc1_cnn_filter_width': u'3', u'negative_sampling_rate': 0, u'enc0_network': u'pooled_embedding', u'enc1_layers': u'auto', u'early_stopping_patience': u'3', u'optimizer': u'adam', u'enc1_max_seq_len': u'1', u'_tuning_objective_metric': u'', u'early_stopping_tolerance': u'0.01', u'dropout': 0, u'bucket_width': u'0', u'enc_dim': u'2048', u'enc1_vocab_file': u'', u'enc1_freeze_pretrained_embedding': u'true', u'enc0_layers': u'auto', u'mini_batch_size': u'2048', u'enc1_pretrained_embedding_file': u'', u'num_classes': u'2', u'_num_gpus': u'auto', u'enc1_token_embedding_dim': u'300', u'mlp_activation': u'relu', u'enc1_network': u'pooled_embedding', u'_kvstore': u'device', u'enc1_vocab_size': u'1684', u'enc0_vocab_size': u'944'}\u001b[0m\n",
      "\u001b[34m[05/07/2020 19:40:02 INFO 139819811559232] create_iter content_params {}\u001b[0m\n",
      "\u001b[34m[05/07/2020 19:40:02 INFO 139819811559232] Parameters of encoders: [{u'layers': u'auto', u'vocab_size': u'944', u'network': u'pooled_embedding', u'vocab_file': u'', u'cnn_filter_width': u'3', u'token_embedding_dim': u'300', u'max_seq_len': u'1', u'freeze_pretrained_embedding': u'true', u'pretrained_embedding_file': u''}, {u'layers': u'auto', u'vocab_size': u'1684', u'network': u'pooled_embedding', u'vocab_file': u'', u'cnn_filter_width': u'3', u'token_embedding_dim': u'300', u'max_seq_len': u'1', u'freeze_pretrained_embedding': u'true', u'pretrained_embedding_file': u''}]\u001b[0m\n",
      "\u001b[34m[05/07/2020 19:40:02 INFO 139819811559232] Inconsistent enc_dim and token_embedding_dim found for token-embedding-encoder: 2048 vs 300. Setting token embedding dim to be 2048\u001b[0m\n",
      "\u001b[34m[05/07/2020 19:40:02 INFO 139819811559232] Inconsistent enc_dim and token_embedding_dim found for token-embedding-encoder: 2048 vs 300. Setting token embedding dim to be 2048\u001b[0m\n",
      "\u001b[34m[05/07/2020 19:40:02 INFO 139819811559232] Encoder configs: [{'vocab_size': 944, 'enc_index': 0, 'pretrained_embedding_file_path': None, 'vocab_dict': None, 'token_embedding_dim': 2048, 'vocab_file': '', 'freeze_pretrained_embedding': True, 'num_layers': 1, 'is_train': True, 'dropout': 0.0, 'pretrained_embedding_file': ''}, {'vocab_size': 1684, 'enc_index': 1, 'pretrained_embedding_file_path': None, 'vocab_dict': None, 'token_embedding_dim': 2048, 'vocab_file': '', 'freeze_pretrained_embedding': True, 'num_layers': 1, 'is_train': True, 'dropout': 0.0, 'pretrained_embedding_file': ''}]\u001b[0m\n",
      "\u001b[34m[05/07/2020 19:40:02 INFO 139819811559232] Config: {'comparator_list': ['hadamard', 'concat', 'abs_diff'], 'epochs': 20, 'mini_batch_size': 2048, 'optimizer': 'adam', 'output_layer': 'softmax', 'token_embedding_storage_type': 'dense', 'mlp_dim': 1024, 'early_stopping_tolerance': 0.01, 'dropout': 0.0, 'bucket_width': 0, 'enc_dim': 2048, 'negative_sampling_rate': 0, 'early_stopping_patience': 3, 'learning_rate': 0.001, 'max_seq_lens': [1, 1], 'tied_token_embedding_weight': False, 'enc_configs': [{'vocab_size': 944, 'enc_index': 0, 'pretrained_embedding_file_path': None, 'vocab_dict': None, 'token_embedding_dim': 2048, 'vocab_file': '', 'freeze_pretrained_embedding': True, 'num_layers': 1, 'is_train': True, 'dropout': 0.0, 'pretrained_embedding_file': ''}, {'vocab_size': 1684, 'enc_index': 1, 'pretrained_embedding_file_path': None, 'vocab_dict': None, 'token_embedding_dim': 2048, 'vocab_file': '', 'freeze_pretrained_embedding': True, 'num_layers': 1, 'is_train': True, 'dropout': 0.0, 'pretrained_embedding_file': ''}], 'mlp_layers': 1, 'weight_decay': 0.0, 'mlp_activation': 'relu', 'num_classes': 2}\u001b[0m\n",
      "\u001b[34m[05/07/2020 19:40:02 INFO 139819811559232] use bucketing: False\u001b[0m\n",
      "\u001b[34m[05/07/2020 19:40:02 INFO 139819811559232] Creating data iterator for /opt/ml/input/data/validation\u001b[0m\n",
      "\u001b[34m[05/07/2020 19:40:02 INFO 139819811559232] Source words: 9430\u001b[0m\n",
      "\u001b[34m[05/07/2020 19:40:02 INFO 139819811559232] Target words: 9430\u001b[0m\n",
      "\u001b[34m[05/07/2020 19:40:02 INFO 139819811559232] Total: 9430 samples in 1 buckets\u001b[0m\n",
      "\u001b[34m[05/07/2020 19:40:02 INFO 139819811559232] Bucket of (1, 1) : 9430 samples in 4 batches of 2048, approx 2048.0 words/batch\u001b[0m\n",
      "\u001b[34m[05/07/2020 19:40:02 INFO 139819811559232] 0 sentence pairs discarded\u001b[0m\n",
      "\u001b[34m[05/07/2020 19:40:02 INFO 139819811559232] fill up mode: replicate\u001b[0m\n",
      "\u001b[34m[05/07/2020 19:40:02 INFO 139819811559232] \u001b[0m\n",
      "\u001b[34m[05/07/2020 19:40:02 INFO 139819811559232] Negative sampling not used\u001b[0m\n",
      "\u001b[34m[05/07/2020 19:40:02 INFO 139819811559232] Replicating 810 random sentences from bucket (1, 1) to size it to multiple of 2048\u001b[0m\n",
      "\u001b[34m[05/07/2020 19:40:02 INFO 139819811559232] Parameters of encoders: [{u'layers': u'auto', u'vocab_size': u'944', u'network': u'pooled_embedding', u'vocab_file': u'', u'cnn_filter_width': u'3', u'token_embedding_dim': u'300', u'max_seq_len': u'1', u'freeze_pretrained_embedding': u'true', u'pretrained_embedding_file': u''}, {u'layers': u'auto', u'vocab_size': u'1684', u'network': u'pooled_embedding', u'vocab_file': u'', u'cnn_filter_width': u'3', u'token_embedding_dim': u'300', u'max_seq_len': u'1', u'freeze_pretrained_embedding': u'true', u'pretrained_embedding_file': u''}]\u001b[0m\n",
      "\u001b[34m[05/07/2020 19:40:02 INFO 139819811559232] Inconsistent enc_dim and token_embedding_dim found for token-embedding-encoder: 2048 vs 300. Setting token embedding dim to be 2048\u001b[0m\n",
      "\u001b[34m[05/07/2020 19:40:02 INFO 139819811559232] Inconsistent enc_dim and token_embedding_dim found for token-embedding-encoder: 2048 vs 300. Setting token embedding dim to be 2048\u001b[0m\n",
      "\u001b[34m[05/07/2020 19:40:02 INFO 139819811559232] Encoder configs: [{'vocab_size': 944, 'enc_index': 0, 'pretrained_embedding_file_path': None, 'vocab_dict': None, 'token_embedding_dim': 2048, 'vocab_file': '', 'freeze_pretrained_embedding': True, 'num_layers': 1, 'is_train': True, 'dropout': 0.0, 'pretrained_embedding_file': ''}, {'vocab_size': 1684, 'enc_index': 1, 'pretrained_embedding_file_path': None, 'vocab_dict': None, 'token_embedding_dim': 2048, 'vocab_file': '', 'freeze_pretrained_embedding': True, 'num_layers': 1, 'is_train': True, 'dropout': 0.0, 'pretrained_embedding_file': ''}]\u001b[0m\n",
      "\u001b[34m[05/07/2020 19:40:02 INFO 139819811559232] Config: {'comparator_list': ['hadamard', 'concat', 'abs_diff'], 'epochs': 20, 'mini_batch_size': 2048, 'optimizer': 'adam', 'output_layer': 'softmax', 'token_embedding_storage_type': 'dense', 'mlp_dim': 1024, 'early_stopping_tolerance': 0.01, 'dropout': 0.0, 'bucket_width': 0, 'enc_dim': 2048, 'negative_sampling_rate': 0, 'early_stopping_patience': 3, 'learning_rate': 0.001, 'max_seq_lens': [1, 1], 'tied_token_embedding_weight': False, 'enc_configs': [{'vocab_size': 944, 'enc_index': 0, 'pretrained_embedding_file_path': None, 'vocab_dict': None, 'token_embedding_dim': 2048, 'vocab_file': '', 'freeze_pretrained_embedding': True, 'num_layers': 1, 'is_train': True, 'dropout': 0.0, 'pretrained_embedding_file': ''}, {'vocab_size': 1684, 'enc_index': 1, 'pretrained_embedding_file_path': None, 'vocab_dict': None, 'token_embedding_dim': 2048, 'vocab_file': '', 'freeze_pretrained_embedding': True, 'num_layers': 1, 'is_train': True, 'dropout': 0.0, 'pretrained_embedding_file': ''}], 'mlp_layers': 1, 'weight_decay': 0.0, 'mlp_activation': 'relu', 'num_classes': 2}\u001b[0m\n",
      "\u001b[34m[05/07/2020 19:40:02 INFO 139819811559232] Creating new state\u001b[0m\n",
      "\u001b[34m[05/07/2020 19:40:02 INFO 139819811559232] params {u'comparator_list': u'hadamard, concat, abs_diff', u'enc0_vocab_file': u'', u'output_layer': u'softmax', u'enc0_cnn_filter_width': u'3', u'epochs': u'20', u'mlp_dim': u'1024', u'enc0_freeze_pretrained_embedding': u'true', u'mlp_layers': u'1', u'_num_kv_servers': u'auto', u'weight_decay': 0, u'enc0_pretrained_embedding_file': u'', u'enc0_max_seq_len': u'1', u'token_embedding_storage_type': u'dense', u'enc0_token_embedding_dim': u'300', u'tied_token_embedding_weight': u'false', u'learning_rate': u'0.001', u'enc1_cnn_filter_width': u'3', u'negative_sampling_rate': 0, u'enc0_network': u'pooled_embedding', u'enc1_layers': u'auto', u'early_stopping_patience': u'3', u'optimizer': u'adam', u'enc1_max_seq_len': u'1', u'_tuning_objective_metric': u'', u'early_stopping_tolerance': u'0.01', u'dropout': 0, u'bucket_width': u'0', u'enc_dim': u'2048', 'default_bucket_key': (1, 1), u'enc1_vocab_file': u'', u'enc1_freeze_pretrained_embedding': u'true', u'enc0_layers': u'auto', u'mini_batch_size': u'2048', u'enc1_pretrained_embedding_file': u'', u'num_classes': u'2', u'_num_gpus': u'auto', u'enc1_token_embedding_dim': u'300', u'mlp_activation': u'relu', u'enc1_network': u'pooled_embedding', u'_kvstore': u'device', u'enc1_vocab_size': u'1684', u'enc0_vocab_size': u'944'}\u001b[0m\n",
      "\u001b[34m[05/07/2020 19:40:02 INFO 139819811559232] default_bucket_key (1, 1)\u001b[0m\n",
      "\u001b[34m[05/07/2020 19:40:02 INFO 139819811559232] nvidia-smi took: 0.0251309871674 secs to identify 0 gpus\u001b[0m\n",
      "\u001b[34m[05/07/2020 19:40:02 INFO 139819811559232] Number of GPUs being used: 0\u001b[0m\n",
      "\u001b[34m[05/07/2020 19:40:02 INFO 139819811559232] context [cpu(0)]\u001b[0m\n",
      "\u001b[34m[05/07/2020 19:40:02 INFO 139819811559232] Create Store: device\u001b[0m\n",
      "\u001b[34m[05/07/2020 19:40:02 INFO 139819811559232] Number of GPUs being used: 0\u001b[0m\n",
      "\u001b[34m[05/07/2020 19:40:02 WARNING 139819811559232] dense token embedding is used in a multi-gpu setting...consider changing 'token_embedding_storage_type' to 'row_sparse'\u001b[0m\n",
      "\u001b[34m[05/07/2020 19:40:02 INFO 139819811559232] data_names: ['source', 'target']\u001b[0m\n",
      "\u001b[34m[05/07/2020 19:40:02 INFO 139819811559232] label_names: ['out_layer_label']\u001b[0m\n",
      "\u001b[34m________________________________________________________________________________________________________________________\u001b[0m\n",
      "\u001b[34mLayer (type)                                        Output Shape            Param #     Previous Layer                  \u001b[0m\n",
      "\u001b[34m========================================================================================================================\u001b[0m\n",
      "\u001b[34msource(null)                                        1                       0                                           \u001b[0m\n",
      "\u001b[34m________________________________________________________________________________________________________________________\u001b[0m\n",
      "\u001b[34membed_0(Embedding)                                  1x2048                  0           source                          \u001b[0m\n",
      "\u001b[34m________________________________________________________________________________________________________________________\u001b[0m\n",
      "\u001b[34m_not_equal_scalar0(_not_equal_scalar)               1                       0           source                          \u001b[0m\n",
      "\u001b[34m________________________________________________________________________________________________________________________\u001b[0m\n",
      "\u001b[34mreshape0(Reshape)                                   1x1                     0           _not_equal_scalar0              \u001b[0m\n",
      "\u001b[34m________________________________________________________________________________________________________________________\u001b[0m\n",
      "\u001b[34mbroadcast_mul0(broadcast_mul)                       1x2048                  0           embed_0                         \n",
      "                                                                                        reshape0                        \u001b[0m\n",
      "\u001b[34m________________________________________________________________________________________________________________________\u001b[0m\n",
      "\u001b[34msum0(sum)                                           2048                    0           broadcast_mul0                  \u001b[0m\n",
      "\u001b[34m________________________________________________________________________________________________________________________\u001b[0m\n",
      "\u001b[34msum1(sum)                                           1                       0           reshape0                        \u001b[0m\n",
      "\u001b[34m________________________________________________________________________________________________________________________\u001b[0m\n",
      "\u001b[34mzeros_like0(zeros_like)                             1                       0           sum1                            \u001b[0m\n",
      "\u001b[34m________________________________________________________________________________________________________________________\u001b[0m\n",
      "\u001b[34m_equal0(_equal)                                     1                       0           sum1                            \n",
      "                                                                                        zeros_like0                     \u001b[0m\n",
      "\u001b[34m________________________________________________________________________________________________________________________\u001b[0m\n",
      "\u001b[34m_plus0(elemwise_add)                                1                       0           sum1                            \n",
      "                                                                                        _equal0                         \u001b[0m\n",
      "\u001b[34m________________________________________________________________________________________________________________________\u001b[0m\n",
      "\u001b[34mbroadcast_div0(broadcast_div)                       2048                    0           sum0                            \n",
      "                                                                                        _plus0                          \u001b[0m\n",
      "\u001b[34m________________________________________________________________________________________________________________________\u001b[0m\n",
      "\u001b[34mdropout0(Dropout)                                   2048                    0           broadcast_div0                  \u001b[0m\n",
      "\u001b[34m________________________________________________________________________________________________________________________\u001b[0m\n",
      "\u001b[34membed_1(Embedding)                                  1x2048                  0                                           \u001b[0m\n",
      "\u001b[34m________________________________________________________________________________________________________________________\u001b[0m\n",
      "\u001b[34m_not_equal_scalar1(_not_equal_scalar)               1                       0                                           \u001b[0m\n",
      "\u001b[34m________________________________________________________________________________________________________________________\u001b[0m\n",
      "\u001b[34mreshape1(Reshape)                                   1x1                     0           _not_equal_scalar1              \u001b[0m\n",
      "\u001b[34m________________________________________________________________________________________________________________________\u001b[0m\n",
      "\u001b[34mbroadcast_mul1(broadcast_mul)                       1x2048                  0           embed_1                         \n",
      "                                                                                        reshape1                        \u001b[0m\n",
      "\u001b[34m________________________________________________________________________________________________________________________\u001b[0m\n",
      "\u001b[34msum2(sum)                                           2048                    0           broadcast_mul1                  \u001b[0m\n",
      "\u001b[34m________________________________________________________________________________________________________________________\u001b[0m\n",
      "\u001b[34msum3(sum)                                           1                       0           reshape1                        \u001b[0m\n",
      "\u001b[34m________________________________________________________________________________________________________________________\u001b[0m\n",
      "\u001b[34mzeros_like1(zeros_like)                             1                       0           sum3                            \u001b[0m\n",
      "\u001b[34m________________________________________________________________________________________________________________________\u001b[0m\n",
      "\u001b[34m_equal1(_equal)                                     1                       0           sum3                            \n",
      "                                                                                        zeros_like1                     \u001b[0m\n",
      "\u001b[34m________________________________________________________________________________________________________________________\u001b[0m\n",
      "\u001b[34m_plus1(elemwise_add)                                1                       0           sum3                            \n",
      "                                                                                        _equal1                         \u001b[0m\n",
      "\u001b[34m________________________________________________________________________________________________________________________\u001b[0m\n",
      "\u001b[34mbroadcast_div1(broadcast_div)                       2048                    0           sum2                            \n",
      "                                                                                        _plus1                          \u001b[0m\n",
      "\u001b[34m________________________________________________________________________________________________________________________\u001b[0m\n",
      "\u001b[34mdropout1(Dropout)                                   2048                    0           broadcast_div1                  \u001b[0m\n",
      "\u001b[34m________________________________________________________________________________________________________________________\u001b[0m\n",
      "\u001b[34m_mul0(elemwise_mul)                                 2048                    0           dropout0                        \n",
      "                                                                                        dropout1                        \u001b[0m\n",
      "\u001b[34m________________________________________________________________________________________________________________________\u001b[0m\n",
      "\u001b[34m_minus0(elemwise_sub)                               2048                    0           dropout0                        \n",
      "                                                                                        dropout1                        \u001b[0m\n",
      "\u001b[34m________________________________________________________________________________________________________________________\u001b[0m\n",
      "\u001b[34mabs0(abs)                                           2048                    0           _minus0                         \u001b[0m\n",
      "\u001b[34m________________________________________________________________________________________________________________________\u001b[0m\n",
      "\u001b[34mconcat0(Concat)                                     8192                    0           _mul0                           \n",
      "                                                                                        dropout0                        \n",
      "                                                                                        dropout1                        \n",
      "                                                                                        abs0                            \u001b[0m\n",
      "\u001b[34m________________________________________________________________________________________________________________________\u001b[0m\n",
      "\u001b[34mmlp_fc0(FullyConnected)                             1024                    8389632     concat0                         \u001b[0m\n",
      "\u001b[34m________________________________________________________________________________________________________________________\u001b[0m\n",
      "\u001b[34mactivation0(Activation)                             1024                    0           mlp_fc0                         \u001b[0m\n",
      "\u001b[34m________________________________________________________________________________________________________________________\u001b[0m\n",
      "\u001b[34mdropout2(Dropout)                                   1024                    0           activation0                     \u001b[0m\n",
      "\u001b[34m________________________________________________________________________________________________________________________\u001b[0m\n",
      "\u001b[34moutput_layer(FullyConnected)                        2                       2050        dropout2                        \u001b[0m\n",
      "\u001b[34m________________________________________________________________________________________________________________________\u001b[0m\n",
      "\u001b[34mout_layer(SoftmaxOutput)                            2                       0           output_layer                    \u001b[0m\n",
      "\u001b[34m========================================================================================================================\u001b[0m\n",
      "\u001b[34mTotal params: 8391682\u001b[0m\n",
      "\u001b[34m________________________________________________________________________________________________________________________\u001b[0m\n",
      "\u001b[34m[05/07/2020 19:40:02 INFO 139819811559232] data_shapes [DataDesc[source,(2048, 1),<type 'numpy.float32'>,NTC], DataDesc[target,(2048, 1),<type 'numpy.float32'>,NTC]]\u001b[0m\n",
      "\u001b[34m[05/07/2020 19:40:02 INFO 139819811559232] label_shapes [DataDesc[out_layer_label,(2048,),<type 'numpy.float32'>,NTC]]\u001b[0m\n",
      "\u001b[34m[05/07/2020 19:40:02 INFO 139819811559232] fixed_param_names: []\u001b[0m\n",
      "\u001b[34m[05/07/2020 19:40:02 INFO 139819811559232] Initialized BucketingPlus Module\u001b[0m\n",
      "\u001b[34m[05/07/2020 19:40:02 INFO 139819811559232] arg_params keys for module initialization: []\u001b[0m\n",
      "\u001b[34m[05/07/2020 19:40:02 INFO 139819811559232] all params:['output_layer_weight', 'mlp_fc0_weight', 'mlp_fc0_bias', 'output_layer_bias', 'embed_1_weight', 'embed_0_weight']\u001b[0m\n",
      "\u001b[34m#metrics {\"Metrics\": {\"initialize.time\": {\"count\": 1, \"max\": 61.24305725097656, \"sum\": 61.24305725097656, \"min\": 61.24305725097656}}, \"EndTime\": 1588880402.357474, \"Dimensions\": {\"Host\": \"algo-1\", \"Operation\": \"training\", \"Algorithm\": \"ObjectToVec\"}, \"StartTime\": 1588880400.027774}\n",
      "\u001b[0m\n",
      "\u001b[34m#metrics {\"Metrics\": {\"Max Batches Seen Between Resets\": {\"count\": 1, \"max\": 0, \"sum\": 0.0, \"min\": 0}, \"Number of Batches Since Last Reset\": {\"count\": 1, \"max\": 0, \"sum\": 0.0, \"min\": 0}, \"Number of Records Since Last Reset\": {\"count\": 1, \"max\": 0, \"sum\": 0.0, \"min\": 0}, \"Total Batches Seen\": {\"count\": 1, \"max\": 0, \"sum\": 0.0, \"min\": 0}, \"Total Records Seen\": {\"count\": 1, \"max\": 0, \"sum\": 0.0, \"min\": 0}, \"Max Records Seen Between Resets\": {\"count\": 1, \"max\": 0, \"sum\": 0.0, \"min\": 0}, \"Reset Count\": {\"count\": 1, \"max\": 0, \"sum\": 0.0, \"min\": 0}}, \"EndTime\": 1588880402.357675, \"Dimensions\": {\"Host\": \"algo-1\", \"Meta\": \"init_train_data_iter\", \"Operation\": \"training\", \"Algorithm\": \"ObjectToVec\"}, \"StartTime\": 1588880402.357622}\n",
      "\u001b[0m\n"
     ]
    },
    {
     "name": "stdout",
     "output_type": "stream",
     "text": [
      "\n",
      "2020-05-07 19:39:56 Training - Training image download completed. Training in progress.\u001b[34m[05/07/2020 19:40:40 INFO 139819811559232] **************\u001b[0m\n",
      "\u001b[34m[05/07/2020 19:40:40 INFO 139819811559232] Completed Epoch: 0, time taken: 0:00:38.367434\u001b[0m\n",
      "\u001b[34m[05/07/2020 19:40:40 INFO 139819811559232] Epoch 0 Training metrics:   perplexity: 1.852 cross_entropy: 0.616 accuracy: 0.663 \u001b[0m\n",
      "\u001b[34m[05/07/2020 19:40:40 INFO 139819811559232] #quality_metric: host=algo-1, epoch=0, train cross_entropy <loss>=0.616121394104\u001b[0m\n",
      "\u001b[34m[05/07/2020 19:40:40 INFO 139819811559232] #quality_metric: host=algo-1, epoch=0, train accuracy <score>=0.663313802083\u001b[0m\n",
      "\u001b[34m[05/07/2020 19:40:42 INFO 139819811559232] Epoch 0 Validation metrics: perplexity: 1.794 cross_entropy: 0.584 accuracy: 0.690 \u001b[0m\n",
      "\u001b[34m[05/07/2020 19:40:42 INFO 139819811559232] #quality_metric: host=algo-1, epoch=0, validation cross_entropy <loss>=0.584278249741\u001b[0m\n",
      "\u001b[34m[05/07/2020 19:40:42 INFO 139819811559232] #quality_metric: host=algo-1, epoch=0, validation accuracy <score>=0.69013671875\u001b[0m\n",
      "\u001b[34m[05/07/2020 19:40:42 INFO 139819811559232] **************\u001b[0m\n",
      "\u001b[34m#metrics {\"Metrics\": {\"epochs\": {\"count\": 1, \"max\": 20, \"sum\": 20.0, \"min\": 20}, \"early_stop.time\": {\"count\": 1, \"max\": 0.36597251892089844, \"sum\": 0.36597251892089844, \"min\": 0.36597251892089844}, \"update.time\": {\"count\": 1, \"max\": 39634.27996635437, \"sum\": 39634.27996635437, \"min\": 39634.27996635437}}, \"EndTime\": 1588880442.089085, \"Dimensions\": {\"Host\": \"algo-1\", \"Operation\": \"training\", \"Algorithm\": \"ObjectToVec\"}, \"StartTime\": 1588880402.35757}\n",
      "\u001b[0m\n",
      "\u001b[34m[05/07/2020 19:40:42 INFO 139819811559232] #progress_metric: host=algo-1, completed 5 % of epochs\u001b[0m\n",
      "\u001b[34m#metrics {\"Metrics\": {\"Max Batches Seen Between Resets\": {\"count\": 1, \"max\": 45, \"sum\": 45.0, \"min\": 45}, \"Number of Batches Since Last Reset\": {\"count\": 1, \"max\": 45, \"sum\": 45.0, \"min\": 45}, \"Number of Records Since Last Reset\": {\"count\": 1, \"max\": 92160, \"sum\": 92160.0, \"min\": 92160}, \"Total Batches Seen\": {\"count\": 1, \"max\": 45, \"sum\": 45.0, \"min\": 45}, \"Total Records Seen\": {\"count\": 1, \"max\": 92160, \"sum\": 92160.0, \"min\": 92160}, \"Max Records Seen Between Resets\": {\"count\": 1, \"max\": 92160, \"sum\": 92160.0, \"min\": 92160}, \"Reset Count\": {\"count\": 1, \"max\": 1, \"sum\": 1.0, \"min\": 1}}, \"EndTime\": 1588880442.089376, \"Dimensions\": {\"Host\": \"algo-1\", \"Meta\": \"training_data_iter\", \"Operation\": \"training\", \"Algorithm\": \"ObjectToVec\", \"epoch\": 0}, \"StartTime\": 1588880402.454784}\n",
      "\u001b[0m\n",
      "\u001b[34m[05/07/2020 19:40:42 INFO 139819811559232] #throughput_metric: host=algo-1, train throughput=2325.23315093 records/second\u001b[0m\n",
      "\u001b[34m[05/07/2020 19:41:21 INFO 139819811559232] **************\u001b[0m\n",
      "\u001b[34m[05/07/2020 19:41:21 INFO 139819811559232] Completed Epoch: 1, time taken: 0:00:38.749372\u001b[0m\n",
      "\u001b[34m[05/07/2020 19:41:21 INFO 139819811559232] Epoch 1 Training metrics:   perplexity: 1.724 cross_entropy: 0.545 accuracy: 0.722 \u001b[0m\n",
      "\u001b[34m[05/07/2020 19:41:21 INFO 139819811559232] #quality_metric: host=algo-1, epoch=1, train cross_entropy <loss>=0.544856086042\u001b[0m\n",
      "\u001b[34m[05/07/2020 19:41:21 INFO 139819811559232] #quality_metric: host=algo-1, epoch=1, train accuracy <score>=0.721918402778\u001b[0m\n",
      "\u001b[34m[05/07/2020 19:41:22 INFO 139819811559232] Epoch 1 Validation metrics: perplexity: 1.776 cross_entropy: 0.574 accuracy: 0.697 \u001b[0m\n",
      "\u001b[34m[05/07/2020 19:41:22 INFO 139819811559232] #quality_metric: host=algo-1, epoch=1, validation cross_entropy <loss>=0.574444007874\u001b[0m\n",
      "\u001b[34m[05/07/2020 19:41:22 INFO 139819811559232] #quality_metric: host=algo-1, epoch=1, validation accuracy <score>=0.69716796875\u001b[0m\n",
      "\u001b[34m[05/07/2020 19:41:22 INFO 139819811559232] **************\u001b[0m\n",
      "\u001b[34m#metrics {\"Metrics\": {\"early_stop.time\": {\"count\": 1, \"max\": 3.156900405883789, \"sum\": 3.156900405883789, \"min\": 3.156900405883789}, \"update.time\": {\"count\": 1, \"max\": 40039.01386260986, \"sum\": 40039.01386260986, \"min\": 40039.01386260986}}, \"EndTime\": 1588880482.32428, \"Dimensions\": {\"Host\": \"algo-1\", \"Operation\": \"training\", \"Algorithm\": \"ObjectToVec\"}, \"StartTime\": 1588880442.089184}\n",
      "\u001b[0m\n",
      "\u001b[34m[05/07/2020 19:41:22 INFO 139819811559232] #progress_metric: host=algo-1, completed 10 % of epochs\u001b[0m\n",
      "\u001b[34m#metrics {\"Metrics\": {\"Max Batches Seen Between Resets\": {\"count\": 1, \"max\": 45, \"sum\": 45.0, \"min\": 45}, \"Number of Batches Since Last Reset\": {\"count\": 1, \"max\": 45, \"sum\": 45.0, \"min\": 45}, \"Number of Records Since Last Reset\": {\"count\": 1, \"max\": 92160, \"sum\": 92160.0, \"min\": 92160}, \"Total Batches Seen\": {\"count\": 1, \"max\": 90, \"sum\": 90.0, \"min\": 90}, \"Total Records Seen\": {\"count\": 1, \"max\": 184320, \"sum\": 184320.0, \"min\": 184320}, \"Max Records Seen Between Resets\": {\"count\": 1, \"max\": 92160, \"sum\": 92160.0, \"min\": 92160}, \"Reset Count\": {\"count\": 1, \"max\": 2, \"sum\": 2.0, \"min\": 2}}, \"EndTime\": 1588880482.324632, \"Dimensions\": {\"Host\": \"algo-1\", \"Meta\": \"training_data_iter\", \"Operation\": \"training\", \"Algorithm\": \"ObjectToVec\", \"epoch\": 1}, \"StartTime\": 1588880442.285244}\n",
      "\u001b[0m\n",
      "\u001b[34m[05/07/2020 19:41:22 INFO 139819811559232] #throughput_metric: host=algo-1, train throughput=2301.72520807 records/second\u001b[0m\n",
      "\u001b[34m[05/07/2020 19:42:00 INFO 139819811559232] **************\u001b[0m\n",
      "\u001b[34m[05/07/2020 19:42:00 INFO 139819811559232] Completed Epoch: 2, time taken: 0:00:38.257801\u001b[0m\n",
      "\u001b[34m[05/07/2020 19:42:00 INFO 139819811559232] Epoch 2 Training metrics:   perplexity: 1.656 cross_entropy: 0.505 accuracy: 0.752 \u001b[0m\n",
      "\u001b[34m[05/07/2020 19:42:00 INFO 139819811559232] #quality_metric: host=algo-1, epoch=2, train cross_entropy <loss>=0.5046256774\u001b[0m\n",
      "\u001b[34m[05/07/2020 19:42:00 INFO 139819811559232] #quality_metric: host=algo-1, epoch=2, train accuracy <score>=0.7515625\u001b[0m\n",
      "\u001b[34m[05/07/2020 19:42:02 INFO 139819811559232] Epoch 2 Validation metrics: perplexity: 1.807 cross_entropy: 0.592 accuracy: 0.694 \u001b[0m\n",
      "\u001b[34m[05/07/2020 19:42:02 INFO 139819811559232] #quality_metric: host=algo-1, epoch=2, validation cross_entropy <loss>=0.591588330269\u001b[0m\n",
      "\u001b[34m[05/07/2020 19:42:02 INFO 139819811559232] #quality_metric: host=algo-1, epoch=2, validation accuracy <score>=0.6935546875\u001b[0m\n",
      "\u001b[34m[05/07/2020 19:42:02 INFO 139819811559232] **************\u001b[0m\n",
      "\u001b[34m#metrics {\"Metrics\": {\"early_stop.time\": {\"count\": 1, \"max\": 0.02193450927734375, \"sum\": 0.02193450927734375, \"min\": 0.02193450927734375}, \"update.time\": {\"count\": 1, \"max\": 39568.99189949036, \"sum\": 39568.99189949036, \"min\": 39568.99189949036}}, \"EndTime\": 1588880522.041692, \"Dimensions\": {\"Host\": \"algo-1\", \"Operation\": \"training\", \"Algorithm\": \"ObjectToVec\"}, \"StartTime\": 1588880482.324391}\n",
      "\u001b[0m\n",
      "\u001b[34m[05/07/2020 19:42:02 INFO 139819811559232] #progress_metric: host=algo-1, completed 15 % of epochs\u001b[0m\n",
      "\u001b[34m#metrics {\"Metrics\": {\"Max Batches Seen Between Resets\": {\"count\": 1, \"max\": 45, \"sum\": 45.0, \"min\": 45}, \"Number of Batches Since Last Reset\": {\"count\": 1, \"max\": 45, \"sum\": 45.0, \"min\": 45}, \"Number of Records Since Last Reset\": {\"count\": 1, \"max\": 92160, \"sum\": 92160.0, \"min\": 92160}, \"Total Batches Seen\": {\"count\": 1, \"max\": 135, \"sum\": 135.0, \"min\": 135}, \"Total Records Seen\": {\"count\": 1, \"max\": 276480, \"sum\": 276480.0, \"min\": 276480}, \"Max Records Seen Between Resets\": {\"count\": 1, \"max\": 92160, \"sum\": 92160.0, \"min\": 92160}, \"Reset Count\": {\"count\": 1, \"max\": 3, \"sum\": 3.0, \"min\": 3}}, \"EndTime\": 1588880522.041928, \"Dimensions\": {\"Host\": \"algo-1\", \"Meta\": \"training_data_iter\", \"Operation\": \"training\", \"Algorithm\": \"ObjectToVec\", \"epoch\": 2}, \"StartTime\": 1588880482.472682}\n",
      "\u001b[0m\n",
      "\u001b[34m[05/07/2020 19:42:02 INFO 139819811559232] #throughput_metric: host=algo-1, train throughput=2329.07435536 records/second\u001b[0m\n",
      "\u001b[34m[05/07/2020 19:42:40 INFO 139819811559232] **************\u001b[0m\n",
      "\u001b[34m[05/07/2020 19:42:40 INFO 139819811559232] Completed Epoch: 3, time taken: 0:00:38.050909\u001b[0m\n",
      "\u001b[34m[05/07/2020 19:42:40 INFO 139819811559232] Epoch 3 Training metrics:   perplexity: 1.384 cross_entropy: 0.325 accuracy: 0.867 \u001b[0m\n",
      "\u001b[34m[05/07/2020 19:42:40 INFO 139819811559232] #quality_metric: host=algo-1, epoch=3, train cross_entropy <loss>=0.324817154805\u001b[0m\n",
      "\u001b[34m[05/07/2020 19:42:40 INFO 139819811559232] #quality_metric: host=algo-1, epoch=3, train accuracy <score>=0.866569010417\u001b[0m\n",
      "\u001b[34m[05/07/2020 19:42:41 INFO 139819811559232] Epoch 3 Validation metrics: perplexity: 2.135 cross_entropy: 0.759 accuracy: 0.672 \u001b[0m\n",
      "\u001b[34m[05/07/2020 19:42:41 INFO 139819811559232] #quality_metric: host=algo-1, epoch=3, validation cross_entropy <loss>=0.758514213562\u001b[0m\n",
      "\u001b[34m[05/07/2020 19:42:41 INFO 139819811559232] #quality_metric: host=algo-1, epoch=3, validation accuracy <score>=0.67158203125\u001b[0m\n",
      "\u001b[34m[05/07/2020 19:42:41 INFO 139819811559232] **************\u001b[0m\n",
      "\u001b[34m[05/07/2020 19:42:41 INFO 139819811559232] patience losses: [0.5842782497406006, 0.5744440078735351, 0.5915883302688598]\u001b[0m\n",
      "\u001b[34m[05/07/2020 19:42:41 INFO 139819811559232] min patience losses: 0.574444007874\u001b[0m\n",
      "\u001b[34m[05/07/2020 19:42:41 INFO 139819811559232] current loss: 0.758514213562\u001b[0m\n",
      "\u001b[34m[05/07/2020 19:42:41 INFO 139819811559232] absolute loss difference: 0.184070205688\u001b[0m\n",
      "\u001b[34m[05/07/2020 19:42:41 INFO 139819811559232] Bad epoch: loss has not improved (enough). Bad count:1\u001b[0m\n",
      "\u001b[34m#metrics {\"Metrics\": {\"early_stop.time\": {\"count\": 1, \"max\": 0.28395652770996094, \"sum\": 0.28395652770996094, \"min\": 0.28395652770996094}, \"update.time\": {\"count\": 1, \"max\": 39317.38591194153, \"sum\": 39317.38591194153, \"min\": 39317.38591194153}}, \"EndTime\": 1588880561.363581, \"Dimensions\": {\"Host\": \"algo-1\", \"Operation\": \"training\", \"Algorithm\": \"ObjectToVec\"}, \"StartTime\": 1588880522.041761}\n",
      "\u001b[0m\n",
      "\u001b[34m[05/07/2020 19:42:41 INFO 139819811559232] #progress_metric: host=algo-1, completed 20 % of epochs\u001b[0m\n",
      "\u001b[34m#metrics {\"Metrics\": {\"Max Batches Seen Between Resets\": {\"count\": 1, \"max\": 45, \"sum\": 45.0, \"min\": 45}, \"Number of Batches Since Last Reset\": {\"count\": 1, \"max\": 45, \"sum\": 45.0, \"min\": 45}, \"Number of Records Since Last Reset\": {\"count\": 1, \"max\": 92160, \"sum\": 92160.0, \"min\": 92160}, \"Total Batches Seen\": {\"count\": 1, \"max\": 180, \"sum\": 180.0, \"min\": 180}, \"Total Records Seen\": {\"count\": 1, \"max\": 368640, \"sum\": 368640.0, \"min\": 368640}, \"Max Records Seen Between Resets\": {\"count\": 1, \"max\": 92160, \"sum\": 92160.0, \"min\": 92160}, \"Reset Count\": {\"count\": 1, \"max\": 4, \"sum\": 4.0, \"min\": 4}}, \"EndTime\": 1588880561.363795, \"Dimensions\": {\"Host\": \"algo-1\", \"Meta\": \"training_data_iter\", \"Operation\": \"training\", \"Algorithm\": \"ObjectToVec\", \"epoch\": 3}, \"StartTime\": 1588880522.04618}\n",
      "\u001b[0m\n",
      "\u001b[34m[05/07/2020 19:42:41 INFO 139819811559232] #throughput_metric: host=algo-1, train throughput=2343.98153427 records/second\u001b[0m\n"
     ]
    },
    {
     "name": "stdout",
     "output_type": "stream",
     "text": [
      "\u001b[34m[05/07/2020 19:43:19 INFO 139819811559232] **************\u001b[0m\n",
      "\u001b[34m[05/07/2020 19:43:19 INFO 139819811559232] Completed Epoch: 4, time taken: 0:00:38.104310\u001b[0m\n",
      "\u001b[34m[05/07/2020 19:43:19 INFO 139819811559232] Epoch 4 Training metrics:   perplexity: 1.084 cross_entropy: 0.080 accuracy: 0.979 \u001b[0m\n",
      "\u001b[34m[05/07/2020 19:43:19 INFO 139819811559232] #quality_metric: host=algo-1, epoch=4, train cross_entropy <loss>=0.0803687488039\u001b[0m\n",
      "\u001b[34m[05/07/2020 19:43:19 INFO 139819811559232] #quality_metric: host=algo-1, epoch=4, train accuracy <score>=0.979383680556\u001b[0m\n",
      "\u001b[34m[05/07/2020 19:43:20 INFO 139819811559232] Epoch 4 Validation metrics: perplexity: 2.466 cross_entropy: 0.903 accuracy: 0.686 \u001b[0m\n",
      "\u001b[34m[05/07/2020 19:43:20 INFO 139819811559232] #quality_metric: host=algo-1, epoch=4, validation cross_entropy <loss>=0.902755558491\u001b[0m\n",
      "\u001b[34m[05/07/2020 19:43:20 INFO 139819811559232] #quality_metric: host=algo-1, epoch=4, validation accuracy <score>=0.686328125\u001b[0m\n",
      "\u001b[34m[05/07/2020 19:43:20 INFO 139819811559232] **************\u001b[0m\n",
      "\u001b[34m[05/07/2020 19:43:20 INFO 139819811559232] patience losses: [0.5744440078735351, 0.5915883302688598, 0.7585142135620118]\u001b[0m\n",
      "\u001b[34m[05/07/2020 19:43:20 INFO 139819811559232] min patience losses: 0.574444007874\u001b[0m\n",
      "\u001b[34m[05/07/2020 19:43:20 INFO 139819811559232] current loss: 0.902755558491\u001b[0m\n",
      "\u001b[34m[05/07/2020 19:43:20 INFO 139819811559232] absolute loss difference: 0.328311550617\u001b[0m\n",
      "\u001b[34m[05/07/2020 19:43:20 INFO 139819811559232] Bad epoch: loss has not improved (enough). Bad count:2\u001b[0m\n",
      "\u001b[34m#metrics {\"Metrics\": {\"early_stop.time\": {\"count\": 1, \"max\": 0.35500526428222656, \"sum\": 0.35500526428222656, \"min\": 0.35500526428222656}, \"update.time\": {\"count\": 1, \"max\": 39487.025022506714, \"sum\": 39487.025022506714, \"min\": 39487.025022506714}}, \"EndTime\": 1588880600.855113, \"Dimensions\": {\"Host\": \"algo-1\", \"Operation\": \"training\", \"Algorithm\": \"ObjectToVec\"}, \"StartTime\": 1588880561.363651}\n",
      "\u001b[0m\n",
      "\u001b[34m[05/07/2020 19:43:20 INFO 139819811559232] #progress_metric: host=algo-1, completed 25 % of epochs\u001b[0m\n",
      "\u001b[34m#metrics {\"Metrics\": {\"Max Batches Seen Between Resets\": {\"count\": 1, \"max\": 45, \"sum\": 45.0, \"min\": 45}, \"Number of Batches Since Last Reset\": {\"count\": 1, \"max\": 45, \"sum\": 45.0, \"min\": 45}, \"Number of Records Since Last Reset\": {\"count\": 1, \"max\": 92160, \"sum\": 92160.0, \"min\": 92160}, \"Total Batches Seen\": {\"count\": 1, \"max\": 225, \"sum\": 225.0, \"min\": 225}, \"Total Records Seen\": {\"count\": 1, \"max\": 460800, \"sum\": 460800.0, \"min\": 460800}, \"Max Records Seen Between Resets\": {\"count\": 1, \"max\": 92160, \"sum\": 92160.0, \"min\": 92160}, \"Reset Count\": {\"count\": 1, \"max\": 5, \"sum\": 5.0, \"min\": 5}}, \"EndTime\": 1588880600.855302, \"Dimensions\": {\"Host\": \"algo-1\", \"Meta\": \"training_data_iter\", \"Operation\": \"training\", \"Algorithm\": \"ObjectToVec\", \"epoch\": 4}, \"StartTime\": 1588880561.36807}\n",
      "\u001b[0m\n",
      "\u001b[34m[05/07/2020 19:43:20 INFO 139819811559232] #throughput_metric: host=algo-1, train throughput=2333.9120568 records/second\u001b[0m\n",
      "\u001b[34m[05/07/2020 19:43:58 INFO 139819811559232] **************\u001b[0m\n",
      "\u001b[34m[05/07/2020 19:43:58 INFO 139819811559232] Completed Epoch: 5, time taken: 0:00:37.964075\u001b[0m\n",
      "\u001b[34m[05/07/2020 19:43:58 INFO 139819811559232] Epoch 5 Training metrics:   perplexity: 1.014 cross_entropy: 0.014 accuracy: 0.999 \u001b[0m\n",
      "\u001b[34m[05/07/2020 19:43:58 INFO 139819811559232] #quality_metric: host=algo-1, epoch=5, train cross_entropy <loss>=0.0139882551092\u001b[0m\n",
      "\u001b[34m[05/07/2020 19:43:58 INFO 139819811559232] #quality_metric: host=algo-1, epoch=5, train accuracy <score>=0.998806423611\u001b[0m\n",
      "\u001b[34m[05/07/2020 19:44:00 INFO 139819811559232] Epoch 5 Validation metrics: perplexity: 2.760 cross_entropy: 1.015 accuracy: 0.693 \u001b[0m\n",
      "\u001b[34m[05/07/2020 19:44:00 INFO 139819811559232] #quality_metric: host=algo-1, epoch=5, validation cross_entropy <loss>=1.01540493965\u001b[0m\n",
      "\u001b[34m[05/07/2020 19:44:00 INFO 139819811559232] #quality_metric: host=algo-1, epoch=5, validation accuracy <score>=0.6927734375\u001b[0m\n",
      "\u001b[34m[05/07/2020 19:44:00 INFO 139819811559232] **************\u001b[0m\n",
      "\u001b[34m[05/07/2020 19:44:00 INFO 139819811559232] patience losses: [0.5915883302688598, 0.7585142135620118, 0.9027555584907532]\u001b[0m\n",
      "\u001b[34m[05/07/2020 19:44:00 INFO 139819811559232] min patience losses: 0.591588330269\u001b[0m\n",
      "\u001b[34m[05/07/2020 19:44:00 INFO 139819811559232] current loss: 1.01540493965\u001b[0m\n",
      "\u001b[34m[05/07/2020 19:44:00 INFO 139819811559232] absolute loss difference: 0.423816609383\u001b[0m\n",
      "\u001b[34m[05/07/2020 19:44:00 INFO 139819811559232] Bad epoch: loss has not improved (enough). Bad count:3\u001b[0m\n",
      "\u001b[34m#metrics {\"Metrics\": {\"early_stop.time\": {\"count\": 1, \"max\": 0.3559589385986328, \"sum\": 0.3559589385986328, \"min\": 0.3559589385986328}, \"update.time\": {\"count\": 1, \"max\": 39220.168113708496, \"sum\": 39220.168113708496, \"min\": 39220.168113708496}}, \"EndTime\": 1588880640.079098, \"Dimensions\": {\"Host\": \"algo-1\", \"Operation\": \"training\", \"Algorithm\": \"ObjectToVec\"}, \"StartTime\": 1588880600.85518}\n",
      "\u001b[0m\n",
      "\u001b[34m[05/07/2020 19:44:00 INFO 139819811559232] #progress_metric: host=algo-1, completed 30 % of epochs\u001b[0m\n",
      "\u001b[34m#metrics {\"Metrics\": {\"Max Batches Seen Between Resets\": {\"count\": 1, \"max\": 45, \"sum\": 45.0, \"min\": 45}, \"Number of Batches Since Last Reset\": {\"count\": 1, \"max\": 45, \"sum\": 45.0, \"min\": 45}, \"Number of Records Since Last Reset\": {\"count\": 1, \"max\": 92160, \"sum\": 92160.0, \"min\": 92160}, \"Total Batches Seen\": {\"count\": 1, \"max\": 270, \"sum\": 270.0, \"min\": 270}, \"Total Records Seen\": {\"count\": 1, \"max\": 552960, \"sum\": 552960.0, \"min\": 552960}, \"Max Records Seen Between Resets\": {\"count\": 1, \"max\": 92160, \"sum\": 92160.0, \"min\": 92160}, \"Reset Count\": {\"count\": 1, \"max\": 6, \"sum\": 6.0, \"min\": 6}}, \"EndTime\": 1588880640.079302, \"Dimensions\": {\"Host\": \"algo-1\", \"Meta\": \"training_data_iter\", \"Operation\": \"training\", \"Algorithm\": \"ObjectToVec\", \"epoch\": 5}, \"StartTime\": 1588880600.858912}\n",
      "\u001b[0m\n",
      "\u001b[34m[05/07/2020 19:44:00 INFO 139819811559232] #throughput_metric: host=algo-1, train throughput=2349.79174924 records/second\u001b[0m\n",
      "\u001b[34m[05/07/2020 19:44:37 INFO 139819811559232] **************\u001b[0m\n",
      "\u001b[34m[05/07/2020 19:44:37 INFO 139819811559232] Completed Epoch: 6, time taken: 0:00:37.753462\u001b[0m\n",
      "\u001b[34m[05/07/2020 19:44:37 INFO 139819811559232] Epoch 6 Training metrics:   perplexity: 1.003 cross_entropy: 0.003 accuracy: 1.000 \u001b[0m\n",
      "\u001b[34m[05/07/2020 19:44:37 INFO 139819811559232] #quality_metric: host=algo-1, epoch=6, train cross_entropy <loss>=0.00326687656343\u001b[0m\n",
      "\u001b[34m[05/07/2020 19:44:37 INFO 139819811559232] #quality_metric: host=algo-1, epoch=6, train accuracy <score>=0.999956597222\u001b[0m\n",
      "\u001b[34m[05/07/2020 19:44:39 INFO 139819811559232] Epoch 6 Validation metrics: perplexity: 2.975 cross_entropy: 1.090 accuracy: 0.699 \u001b[0m\n",
      "\u001b[34m[05/07/2020 19:44:39 INFO 139819811559232] #quality_metric: host=algo-1, epoch=6, validation cross_entropy <loss>=1.09016063213\u001b[0m\n",
      "\u001b[34m[05/07/2020 19:44:39 INFO 139819811559232] #quality_metric: host=algo-1, epoch=6, validation accuracy <score>=0.69853515625\u001b[0m\n",
      "\u001b[34m[05/07/2020 19:44:39 INFO 139819811559232] **************\u001b[0m\n",
      "\u001b[34m[05/07/2020 19:44:39 INFO 139819811559232] patience losses: [0.7585142135620118, 0.9027555584907532, 1.0154049396514893]\u001b[0m\n",
      "\u001b[34m[05/07/2020 19:44:39 INFO 139819811559232] min patience losses: 0.758514213562\u001b[0m\n",
      "\u001b[34m[05/07/2020 19:44:39 INFO 139819811559232] current loss: 1.09016063213\u001b[0m\n",
      "\u001b[34m[05/07/2020 19:44:39 INFO 139819811559232] absolute loss difference: 0.331646418571\u001b[0m\n",
      "\u001b[34m[05/07/2020 19:44:39 INFO 139819811559232] Bad epoch: loss has not improved (enough). Bad count:4\u001b[0m\n",
      "\u001b[34m[05/07/2020 19:44:39 INFO 139819811559232] Bad epochs exceeded patience. Stopping training early!\u001b[0m\n",
      "\u001b[34m[05/07/2020 19:44:39 INFO 139819811559232] Early stopping criterion met! Stopping training at epoch: 6\u001b[0m\n",
      "\u001b[34m#metrics {\"Metrics\": {\"early_stop.time\": {\"count\": 1, \"max\": 0.30112266540527344, \"sum\": 0.30112266540527344, \"min\": 0.30112266540527344}, \"update.time\": {\"count\": 1, \"max\": 39051.04088783264, \"sum\": 39051.04088783264, \"min\": 39051.04088783264}}, \"EndTime\": 1588880679.13389, \"Dimensions\": {\"Host\": \"algo-1\", \"Operation\": \"training\", \"Algorithm\": \"ObjectToVec\"}, \"StartTime\": 1588880640.079164}\n",
      "\u001b[0m\n",
      "\u001b[34m[05/07/2020 19:44:39 INFO 139819811559232] Early stop condition met. Stopping training.\u001b[0m\n",
      "\u001b[34m[05/07/2020 19:44:39 INFO 139819811559232] #progress_metric: host=algo-1, completed 100 % epochs\u001b[0m\n",
      "\u001b[34m#metrics {\"Metrics\": {\"Max Batches Seen Between Resets\": {\"count\": 1, \"max\": 45, \"sum\": 45.0, \"min\": 45}, \"Number of Batches Since Last Reset\": {\"count\": 1, \"max\": 45, \"sum\": 45.0, \"min\": 45}, \"Number of Records Since Last Reset\": {\"count\": 1, \"max\": 92160, \"sum\": 92160.0, \"min\": 92160}, \"Total Batches Seen\": {\"count\": 1, \"max\": 315, \"sum\": 315.0, \"min\": 315}, \"Total Records Seen\": {\"count\": 1, \"max\": 645120, \"sum\": 645120.0, \"min\": 645120}, \"Max Records Seen Between Resets\": {\"count\": 1, \"max\": 92160, \"sum\": 92160.0, \"min\": 92160}, \"Reset Count\": {\"count\": 1, \"max\": 7, \"sum\": 7.0, \"min\": 7}}, \"EndTime\": 1588880679.134101, \"Dimensions\": {\"Host\": \"algo-1\", \"Meta\": \"training_data_iter\", \"Operation\": \"training\", \"Algorithm\": \"ObjectToVec\", \"epoch\": 6}, \"StartTime\": 1588880640.082834}\n",
      "\u001b[0m\n",
      "\u001b[34m[05/07/2020 19:44:39 INFO 139819811559232] #throughput_metric: host=algo-1, train throughput=2359.96927688 records/second\u001b[0m\n",
      "\u001b[34m[05/07/2020 19:44:39 WARNING 139819811559232] wait_for_all_workers will not sync workers since the kv store is not running distributed\u001b[0m\n",
      "\u001b[34m[05/07/2020 19:44:39 INFO 139819811559232] Best model based on epoch 1. Best loss: 0.574\u001b[0m\n",
      "\u001b[34m#metrics {\"Metrics\": {\"finalize.time\": {\"count\": 1, \"max\": 0.8180141448974609, \"sum\": 0.8180141448974609, \"min\": 0.8180141448974609}}, \"EndTime\": 1588880679.135118, \"Dimensions\": {\"Host\": \"algo-1\", \"Operation\": \"training\", \"Algorithm\": \"ObjectToVec\"}, \"StartTime\": 1588880679.133957}\n",
      "\u001b[0m\n",
      "\u001b[34m[05/07/2020 19:44:39 INFO 139819811559232] Serializing model to /opt/ml/model/model_algo-1\u001b[0m\n",
      "\u001b[34m[05/07/2020 19:44:39 INFO 139819811559232] Saved checkpoint to \"/tmp/tmpaQpJFJ/state-0001.params\"\u001b[0m\n",
      "\u001b[34m[05/07/2020 19:44:39 INFO 139819811559232] Test data is not provided.\u001b[0m\n",
      "\u001b[34m#metrics {\"Metrics\": {\"totaltime\": {\"count\": 1, \"max\": 279583.80794525146, \"sum\": 279583.80794525146, \"min\": 279583.80794525146}, \"model.serialize.time\": {\"count\": 1, \"max\": 191.39909744262695, \"sum\": 191.39909744262695, \"min\": 191.39909744262695}, \"setuptime\": {\"count\": 1, \"max\": 233.46996307373047, \"sum\": 233.46996307373047, \"min\": 233.46996307373047}}, \"EndTime\": 1588880679.345743, \"Dimensions\": {\"Host\": \"algo-1\", \"Operation\": \"training\", \"Algorithm\": \"ObjectToVec\"}, \"StartTime\": 1588880679.135167}\n",
      "\u001b[0m\n"
     ]
    },
    {
     "name": "stdout",
     "output_type": "stream",
     "text": [
      "\n",
      "2020-05-07 19:45:12 Uploading - Uploading generated training model\n",
      "2020-05-07 19:45:12 Completed - Training job completed\n",
      "Training seconds: 395\n",
      "Billable seconds: 395\n"
     ]
    }
   ],
   "source": [
    "## get estimator\n",
    "classifier = sagemaker.estimator.Estimator(container,\n",
    "                                    role, \n",
    "                                    train_instance_count=1, \n",
    "                                    train_instance_type='ml.m5.xlarge',\n",
    "                                    output_path=output_path,\n",
    "                                    sagemaker_session=sess)\n",
    "\n",
    "## set hyperparameters\n",
    "classifier.set_hyperparameters(**hyperparameters_c)\n",
    "\n",
    "## train, tune, and test the model\n",
    "classifier.fit(input_paths)"
   ]
  },
  {
   "cell_type": "markdown",
   "metadata": {},
   "source": [
    "Again, we can create, deploy, and validate the model after training"
   ]
  },
  {
   "cell_type": "code",
   "execution_count": 64,
   "metadata": {},
   "outputs": [
    {
     "name": "stdout",
     "output_type": "stream",
     "text": [
      "-------------------!"
     ]
    }
   ],
   "source": [
    "classification_model = classifier.create_model(\n",
    "                        serializer=json_serializer,\n",
    "                        deserializer=json_deserializer,\n",
    "                        content_type='application/json')\n",
    "\n",
    "predictor_2 = classification_model.deploy(initial_instance_count=1, instance_type='ml.m4.xlarge')"
   ]
  },
  {
   "cell_type": "code",
   "execution_count": 65,
   "metadata": {},
   "outputs": [],
   "source": [
    "valid_c_data, valid_c_label = data_list_to_inference_format(copy.deepcopy(validation_data_list), \n",
    "                                                            label_thres=3, binarize=True)\n",
    "predictions = predictor_2.predict(valid_c_data)"
   ]
  },
  {
   "cell_type": "code",
   "execution_count": null,
   "metadata": {},
   "outputs": [],
   "source": [
    "def get_class_accuracy(res, labels, thres):\n",
    "    if type(res) is dict:\n",
    "        res = res['predictions']\n",
    "    assert len(res)==len(labels), 'result and label length mismatch!'\n",
    "    accuracy = 0\n",
    "    for row, label in zip(res, labels):\n",
    "        if type(row) is dict:\n",
    "            if row['scores'][1] > thres:\n",
    "                prediction = 1\n",
    "            else: \n",
    "                prediction = 0\n",
    "            if label > thres:\n",
    "                label = 1\n",
    "            else:\n",
    "                label = 0\n",
    "            accuracy += 1 - (prediction - label)**2\n",
    "    return accuracy / float(len(res))\n",
    "\n",
    "print(\"The accuracy on the binarized validation set is %.3f\" %get_class_accuracy(predictions, valid_c_label, 0.5))"
   ]
  },
  {
   "cell_type": "markdown",
   "metadata": {},
   "source": [
    "The accuracy on validation set you would get should be approximately 0.704."
   ]
  },
  {
   "cell_type": "markdown",
   "metadata": {},
   "source": [
    "## Movie retrieval in the embedding space\n",
    "\n",
    "Since *Object2Vec* transforms user and movie ID's into embeddings as part of the training process. After training, it obtains user and movie embeddings in the left and right encoders, respectively. Intuitively, the embeddings should be tuned by the algorithm in a way that facilitates the supervised learning task: since for a specific user, similar movies should have similar ratings, we expect that similar movies should be **close-by** in the embedding space.\n",
    "\n",
    "In this section, we demonstrate how to find the nearest-neighbor (in Euclidean distance) of a given movie ID, among all movie ID's."
   ]
  },
  {
   "cell_type": "code",
   "execution_count": null,
   "metadata": {},
   "outputs": [],
   "source": [
    "def get_movie_embedding_dict(movie_ids, trained_model):\n",
    "    input_instances = list()\n",
    "    for s_id in movie_ids:\n",
    "        input_instances.append({'in1': [s_id]})\n",
    "    data = {'instances': input_instances}\n",
    "    movie_embeddings = trained_model.predict(data)\n",
    "    embedding_dict = {}\n",
    "    for s_id, row in zip(movie_ids, movie_embeddings['predictions']):\n",
    "        embedding_dict[s_id] = np.array(row['embeddings'])\n",
    "    return embedding_dict\n",
    "\n",
    "\n",
    "def load_movie_id_name_map(item_file):\n",
    "    movieID_name_map = {}\n",
    "    with open(item_file, 'r', encoding=\"ISO-8859-1\") as f:\n",
    "        for row in f.readlines():\n",
    "            row = row.strip()\n",
    "            split = row.split('|')\n",
    "            movie_id = split[0]\n",
    "            movie_name = split[1]\n",
    "            sparse_tags = split[-19:]\n",
    "            movieID_name_map[int(movie_id)] = movie_name \n",
    "    return movieID_name_map\n",
    "\n",
    "            \n",
    "def get_nn_of_movie(movie_id, candidate_movie_ids, embedding_dict):\n",
    "    movie_emb = embedding_dict[movie_id]\n",
    "    min_dist = float('Inf')\n",
    "    best_id = candidate_movie_ids[0]\n",
    "    for idx, m_id in enumerate(candidate_movie_ids):\n",
    "        candidate_emb = embedding_dict[m_id]\n",
    "        curr_dist = np.linalg.norm(candidate_emb - movie_emb)\n",
    "        if curr_dist < min_dist:\n",
    "            best_id = m_id\n",
    "            min_dist = curr_dist\n",
    "    return best_id, min_dist\n",
    "\n",
    "\n",
    "def get_unique_movie_ids(data_list):\n",
    "    unique_movie_ids = set()\n",
    "    for row in data_list:\n",
    "        unique_movie_ids.add(row['in1'][0])\n",
    "    return list(unique_movie_ids)"
   ]
  },
  {
   "cell_type": "code",
   "execution_count": null,
   "metadata": {},
   "outputs": [],
   "source": [
    "train_data_list = load_csv_data(train_path, '\\t', verbose=False)\n",
    "unique_movie_ids = get_unique_movie_ids(train_data_list)\n",
    "embedding_dict = get_movie_embedding_dict(unique_movie_ids, predictor_2)\n",
    "candidate_movie_ids = unique_movie_ids.copy()"
   ]
  },
  {
   "cell_type": "markdown",
   "metadata": {},
   "source": [
    "Using the script below, you can check out what is the closest movie to any movie in the data set. Last time we ran it, the closest movie to `Terminator, The (1984)` in the embedding space was `Die Hard (1988)`. Note that, the result will likely differ slightly across different runs of the algorithm, due to randomness in initialization of model parameters.\n",
    "\n",
    "- Just plug in the movie id you want to examine \n",
    "   - For example, the movie ID for Terminator is 195; you can find the movie name and ID pair in the `u.item` file\n",
    "- Note that, the result will likely differ across different runs of the algorithm, due to inherent randomness."
   ]
  },
  {
   "cell_type": "code",
   "execution_count": null,
   "metadata": {
    "tags": [
     "parameters"
    ]
   },
   "outputs": [],
   "source": [
    "movie_id_to_examine = '<movie id>' # Customize the movie ID you want to examine"
   ]
  },
  {
   "cell_type": "code",
   "execution_count": null,
   "metadata": {},
   "outputs": [],
   "source": [
    "candidate_movie_ids.remove(movie_id_to_examine)\n",
    "best_id, min_dist = get_nn_of_movie(movie_id_to_examine, candidate_movie_ids, embedding_dict)\n",
    "movieID_name_map = load_movie_id_name_map('ml-100k/u.item')\n",
    "print('The closest movie to {} in the embedding space is {}'.format(movieID_name_map[movie_id_to_examine],\n",
    "                                                                  movieID_name_map[best_id]))\n",
    "candidate_movie_ids.append(movie_id_to_examine)"
   ]
  },
  {
   "cell_type": "markdown",
   "metadata": {},
   "source": [
    "It is recommended to always delete the endpoints used for hosting the model"
   ]
  },
  {
   "cell_type": "code",
   "execution_count": null,
   "metadata": {},
   "outputs": [],
   "source": [
    "## clean up\n",
    "sess.delete_endpoint(predictor.endpoint)\n",
    "sess.delete_endpoint(predictor_2.endpoint)"
   ]
  }
 ],
 "metadata": {
  "celltoolbar": "Tags",
  "kernelspec": {
   "display_name": "Python 3",
   "language": "python",
   "name": "python3"
  },
  "language_info": {
   "codemirror_mode": {
    "name": "ipython",
    "version": 3
   },
   "file_extension": ".py",
   "mimetype": "text/x-python",
   "name": "python",
   "nbconvert_exporter": "python",
   "pygments_lexer": "ipython3",
   "version": "3.7.6"
  }
 },
 "nbformat": 4,
 "nbformat_minor": 2
}
