{
 "cells": [
  {
   "cell_type": "markdown",
   "metadata": {},
   "source": [
    "# Chapter 9: Recommender Systems.\n",
    "\n",
    "In this notebook we will see how to create a recommender system. To\n",
    "this end we will explore different properties of recommender systems, develope and evaluate a collaborative recommender system.\n",
    "\n"
   ]
  },
  {
   "cell_type": "code",
   "execution_count": 4,
   "metadata": {},
   "outputs": [],
   "source": [
    "import matplotlib.pylab as plt\n",
    "\n",
    "%matplotlib inline \n",
    "plt.style.use('seaborn-whitegrid')\n",
    "plt.rc('text', usetex=True)\n",
    "plt.rc('font', family='times')\n",
    "plt.rc('xtick', labelsize=10) \n",
    "plt.rc('ytick', labelsize=10) \n",
    "plt.rc('font', size=12) "
   ]
  },
  {
   "cell_type": "markdown",
   "metadata": {},
   "source": [
    "## Data description\n",
    "\n",
    "We will work with the well known MovieLens dataset (http://grouplens.org/datasets/movielens/). This dataset was initially constructed to support participants in the Netflix Prize. Today, we can find several versions of this dataset with different amout of data, from 100k samples version to 20m sample version.\n",
    "Although performance on bigger dataset is expected to be better, we will work with the smallest dataset: MovieLens *100K Dataset (ml-100k-zip)*. Working with this lite version has the benefit of less computational costs, while we will also get the skills required on user-based recommender systems.\n",
    "\n",
    "With a unix machine the dataset can be downloaded with the following code:"
   ]
  },
  {
   "cell_type": "code",
   "execution_count": null,
   "metadata": {},
   "outputs": [],
   "source": [
    "!wget http://files.grouplens.org/datasets/movielens/ml-100k.zip \n",
    "!unzip ml-100k.zip -d \"../data/\""
   ]
  },
  {
   "cell_type": "markdown",
   "metadata": {},
   "source": [
    "If you are working with a windows machine, please go to the website and download the 100k version and extract it to the subdirectory named \"files/ch8/ml-100k/\""
   ]
  },
  {
   "cell_type": "markdown",
   "metadata": {},
   "source": [
    "Once you have downloaded and unzipped the file into a directory, you can create a DataFrame with the following code:"
   ]
  },
  {
   "cell_type": "code",
   "execution_count": 5,
   "metadata": {},
   "outputs": [
    {
     "name": "stdout",
     "output_type": "stream",
     "text": [
      "The movielens database has\n",
      "    100000 ratings\n",
      "       943 users\n",
      "      1682 movies.\n",
      "   user_id         title  movie_id  rating release_date sex  age\n",
      "0      196  Kolya (1996)       242       3  24-Jan-1997   M   49\n",
      "1      305  Kolya (1996)       242       5  24-Jan-1997   M   23\n",
      "2        6  Kolya (1996)       242       4  24-Jan-1997   M   42\n",
      "3      234  Kolya (1996)       242       4  24-Jan-1997   M   60\n",
      "4       63  Kolya (1996)       242       3  24-Jan-1997   M   31\n"
     ]
    }
   ],
   "source": [
    "#NETFLIX REAL 50.000.000 usuaris and 100.000 items\n",
    "import pandas as pd\n",
    "import numpy as np\n",
    "import math\n",
    "import matplotlib.pylab as plt\n",
    "from math import isnan\n",
    "\n",
    "\n",
    "# Load Data set\n",
    "u_cols = ['user_id', 'age', 'sex', 'occupation', 'zip_code']\n",
    "users = pd.read_csv('../data/ml-100k/u.user', sep='|', names=u_cols, encoding='iso-8859-1')\n",
    "\n",
    "r_cols = ['user_id', 'movie_id', 'rating', 'unix_timestamp']\n",
    "ratings = pd.read_csv('../data/ml-100k/u.data', sep='\\t', names=r_cols,  encoding='iso-8859-1')\n",
    "\n",
    "# the movies file contains columns indicating the movie's genres\n",
    "# let's only load the first three columns of the file with usecols\n",
    "m_cols = ['movie_id', 'title', 'release_date']\n",
    "movies = pd.read_csv('../data/ml-100k/u.item', sep='|', names=m_cols, usecols=range(3), encoding='iso-8859-1')\n",
    "\n",
    "# Construccion del DataFrame\n",
    "data = pd.merge(pd.merge(ratings, users), movies)\n",
    "data = data[['user_id','title', 'movie_id','rating','release_date','sex','age']]\n",
    "\n",
    "\n",
    "print(\"The movielens database has\\n\"\n",
    "    +\"    \" + str(data.shape[0]) + \" ratings\\n\"\n",
    "    +\"      \", data.user_id.nunique(),\"users\\n\"\n",
    "    +\"     \", data.movie_id.nunique(), \"movies.\")\n",
    "\n",
    "print(data.head())"
   ]
  },
  {
   "cell_type": "markdown",
   "metadata": {},
   "source": [
    "If you explore the dataset in detail, you will see that it  consists of:\n",
    "<ul>\n",
    "<li>100,000 ratings from 943 users of 1682 movies. Ratings are from 1 to 5.</li>\n",
    "<li>Each user has rated at least 20 movies.</li>\n",
    "<li>Simple demographic info for the users (age, gender, occupation, zip)</li>\n",
    "</ul>"
   ]
  },
  {
   "cell_type": "markdown",
   "metadata": {},
   "source": [
    "## Building a Collaborative Filtering (CF) for Movilens dataset\n",
    "The idea behind any recommender system is to suggest or recommend items that are likely to be of interest to the user. If we think on the movielens dataset and a movie recommender system, the goal will consist on recommend those useen movies by a given \"user\" that are more likely to be intersting to him or her. So, the problem can be taken by predicting the ratings for the unseen movies of the given \"user\" and recommend those with the highest predicted rating.\n",
    "\n",
    "<br>The following table ilustrates the problem. This toy dataset consists on 4 users and 4 items.  Users 1, 2 and 3 have seen all the movies while user 3 has only seen Superman and Star Wars. So, the problem consist on prediction which movie, Matrix or Spiderman, will be more likely for the user 4.\n",
    "<table style=\"width:60%\">\n",
    "  <tr>\n",
    "    <td></td>\n",
    "    <td>Superman</td> \n",
    "    <td>Star Wars 1</td>\n",
    "    <td>Matrix</td>\n",
    "    <td>Spiderman</td>\n",
    "    \n",
    "  </tr>\n",
    "  <tr>\n",
    "    <td>user1</td>\n",
    "    <td>3</td> \n",
    "    <td>3.5</td>\n",
    "    <td>4.5</td>\n",
    "    <td>3</td>\n",
    "  </tr>\n",
    "  <tr>\n",
    "    <td>user2</td>\n",
    "    <td>3.5</td> \n",
    "    <td>4</td>\n",
    "    <td>5</td>\n",
    "    <td>5</td>\n",
    "  </tr>\n",
    "  <tr>\n",
    "    <td>user3</td>\n",
    "    <td>3</td> \n",
    "    <td>4</td>\n",
    "    <td>4.5</td>\n",
    "    <td>3</td>\n",
    "  </tr>\n",
    "  <tr>\n",
    "    <td>user4</td>\n",
    "    <td>3.5</td> \n",
    "    <td>5</td>\n",
    "    <td><font color=\"red\"><b>¿?</b></font></td>\n",
    "    <td><font color=\"red\"><b>¿?</b></font></td>\n",
    "  </tr>\n",
    "</table>\n",
    "<br><br><br><br>\n",
    "\n",
    "\n",
    "In order to create a collaborative recommender system we will have to define: 1) a prediction function, 2) a user-similarity function and 3) an evaluation function."
   ]
  },
  {
   "cell_type": "markdown",
   "metadata": {},
   "source": [
    "### Prediction function:\n",
    "The prediction function behind the CF will be based on the movie ratings from similar users.\n",
    "So, in order to recommend a movie, $p$, from a set of movies, $P$, to a given user, $a$, we first need to see the set of users, $B$, who have already seen $p$. Then, we need to see the taste similarity between these users in $B$ and user $a$. The most simple prediction function for a user $a$ and movie $p$ can be defined as follows:\n",
    "\n",
    "$$pred(a,p) = \\frac{\\sum_{b \\in B}{sim(a,b)(r_{b,p})}}{\\sum_{b \\in B}{sim(a,b)}}$$\n",
    "\n",
    "where $sim(a,b)$ is the similarity between user $a$ and user $b$,  $B$ is the set of users in the dataset that have already seen $p$ and $r_{b,p}$ is the rating of $p$ by $b$."
   ]
  },
  {
   "cell_type": "markdown",
   "metadata": {},
   "source": [
    "### User similarity\n",
    "The computation of the similarity between items is one of the most critical steps in the CF algorithms. The basic idea behind the similarity computation between two users $a$ and $b$, is that we can first isolate the set $P$ of items rated by both users, and then apply a similarity computation technique to determine the similarity.\n",
    "\n",
    "The set of *common_movies* can be obtained with the following code:"
   ]
  },
  {
   "cell_type": "code",
   "execution_count": 6,
   "metadata": {},
   "outputs": [
    {
     "name": "stdout",
     "output_type": "stream",
     "text": [
      "\n",
      "Number of common movies 96 \n",
      "\n",
      "                                    title  rating\n",
      "14                           Kolya (1996)       5\n",
      "940                Raising Arizona (1987)       4\n",
      "1306  Truth About Cats & Dogs, The (1996)       5\n",
      "2677                          Babe (1995)       1\n",
      "3073   Four Weddings and a Funeral (1994)       3\n",
      "                                    title  rating\n",
      "2                            Kolya (1996)       4\n",
      "885                Raising Arizona (1987)       5\n",
      "1255  Truth About Cats & Dogs, The (1996)       2\n",
      "2636                          Babe (1995)       4\n",
      "3022   Four Weddings and a Funeral (1994)       3\n"
     ]
    }
   ],
   "source": [
    "# dataframe with the data from user 1\n",
    "data_user_1 = data[data.user_id==1]\n",
    "# dataframe with the data from user 2\n",
    "data_user_2 = data[data.user_id==6]\n",
    "# We first compute the set of common movies\n",
    "common_movies = set(data_user_1.movie_id).intersection(data_user_2.movie_id)\n",
    "print( \"\\nNumber of common movies\",len(common_movies),'\\n')\n",
    "\n",
    "# creat the subdataframe with only with the common movies\n",
    "mask = (data_user_1.movie_id.isin(common_movies))\n",
    "data_user_1 = data_user_1[mask]\n",
    "print(data_user_1[['title','rating']].head())\n",
    "\n",
    "mask = (data_user_2.movie_id.isin(common_movies))\n",
    "data_user_2 = data_user_2[mask]\n",
    "print(data_user_2[['title','rating']].head())"
   ]
  },
  {
   "cell_type": "markdown",
   "metadata": {},
   "source": [
    "Once the set of ratings for all movies common to the two users has been obtained, we can compute the user similarity. These are some of the most common similarity functions used in CF methods: \n",
    "\n",
    "   <ul>\n",
    "    <li>Euclidean distance</li>\n",
    "    $$sim(a,b) = \\sqrt{\\sum_{p \\in P}{(r_{a,p} - r_{b,p})^2}}$$\n",
    "    <br>\n",
    "    <li>Pearson Correlation</li>\n",
    "    $$sim(a,b) = \\frac{\\sum_{p\\in P} (r_{a,p}-\\bar{r_a})(r_{b,p}-\\bar{r_b})}{\\sqrt{\\sum_{p \\in P}(r_{a,p}-\\bar{r_a})²}\\sqrt{\\sum_{p \\in P}(r_{b,p}-\\bar{r_b})²}}$$\n",
    "    <br>\n",
    "    <li>Cosine distance</li>\n",
    "    $$ sim(a,b) = \\frac{\\vec{a}· \\vec{b}}{|\\vec{a}| * |\\vec{b}|}$$\n",
    "    <br>\n",
    "    </ul>\n",
    "  \n",
    "<br>\n",
    "Where: \n",
    "\n",
    "* $sim(a,b)$ is the similarity between user \"a\" and user \"b\"\n",
    "* $P$ is the set of common rated movies by user \"a\" and \"b\"\n",
    "* $r_{a,p}$ is the rating of movie \"p\" by user \"a\"\n",
    "* $\\bar{r_a}$ is the mean rating given by user \"a\"\n",
    "\n",
    "<br>\n",
    "\n",
    "<h4>Some issues to take into accout</h4>\n",
    "<ul>\n",
    "<li>Pearson Correlation used to work better than euclidean distance since it is based more on the ranking than on the values.</li>\n",
    "<li>Cosine distance is usually used when our data is binary/unary, i.e. like vs. not like  or buy vs. not buy.</li>\n",
    "<li>What happens if two users have very few items in common?</li>\n",
    "</ul>\n",
    "\n"
   ]
  },
  {
   "cell_type": "markdown",
   "metadata": {},
   "source": [
    "Let's define a function to compute the users similarity "
   ]
  },
  {
   "cell_type": "code",
   "execution_count": 44,
   "metadata": {
    "scrolled": false
   },
   "outputs": [],
   "source": [
    "from scipy.stats import pearsonr\n",
    "from scipy.spatial.distance import euclidean\n",
    "import seaborn as sns;\n",
    "\n",
    "def SimEuclid(dataFrame, user1, user2, min_common_items=1):\n",
    "\"\"\"Returns a distance-based similarity score for person1 and person2\n",
    "\"\"\"\n",
    "    movies_user1 = dataFrame[dataFrame['user_id'] == user1 ]\n",
    "    movies_user2 = dataFrame[dataFrame['user_id'] == user2 ]\n",
    "    \n",
    "    rep = pd.merge(movies_user1, movies_user2, on='movie_id')    \n",
    "    \n",
    "    if len(rep) == 0 or (len(rep) < min_common_items):\n",
    "        return 0\n",
    "    else:\n",
    "        return 1.0 / (1.0 + euclidean(rep['rating_x'], rep['rating_y'])) \n",
    "\n",
    "\n",
    "def SimPearson(dataFrame, user1, user2, min_common_items=1):\n",
    "\"\"\"Returns a pearsonCorrealation-based similarity score for \n",
    "user1 and user2\n",
    "\"\"\"\n",
    "    # GET MOVIES OF USER1\n",
    "    movies_user1=dataFrame[dataFrame['user_id'] == user1 ]\n",
    "    # GET MOVIES OF USER2\n",
    "    movies_user2=dataFrame[dataFrame['user_id'] == user2 ]\n",
    "    \n",
    "    # FIND SHARED FILMS\n",
    "    rep=pd.merge(movies_user1, movies_user2, on='movie_id')\n",
    "    if len(rep)==0:\n",
    "        return 0    \n",
    "    if(len(rep) < min_common_items):\n",
    "        return 0\n",
    "    if len(rep['rating_x']) < 2 or len(rep['rating_y']) < 2:\n",
    "        return 0\n",
    "    res = pearsonr(rep['rating_x'], rep['rating_y'])[0]\n",
    "    if(isnan(res)):\n",
    "        return 0\n",
    "    else:\n",
    "        return res"
   ]
  },
  {
   "cell_type": "markdown",
   "metadata": {},
   "source": [
    "Let's see how similars are user 1 with 8 and 1 with 31"
   ]
  },
  {
   "cell_type": "code",
   "execution_count": 46,
   "metadata": {},
   "outputs": [
    {
     "data": {
      "text/markdown": [
       "\n",
       "|Distance Measure|sim(1,8)|sim(1,31)|\n",
       "|---|---|---|\n",
       "|Euclidean|0.1566|0.1757|\n",
       "|Pearson|0.6921|-0.0922|"
      ],
      "text/plain": [
       "<IPython.core.display.Markdown object>"
      ]
     },
     "execution_count": 46,
     "metadata": {},
     "output_type": "execute_result"
    }
   ],
   "source": [
    "from IPython.display import Markdown\n",
    "Markdown(\"\"\"\n",
    "|Distance Measure|sim(1,8)|sim(1,31)|\n",
    "|---|---|---|\n",
    "|Euclidean|{0}|{1}|\n",
    "|Pearson|{2}|{3}|\"\"\"\n",
    "    .format(round(SimEuclid(data, 1, 8), 4), round(SimEuclid(data, 1, 31), 4),\\\n",
    "            round(SimPearson(data, 1 ,8), 4), round(SimPearson(data, 1, 31), 4)))"
   ]
  },
  {
   "cell_type": "markdown",
   "metadata": {},
   "source": [
    "The Pearson correlation measure considers the style of rating by centering the ranking around the user mean value. This captures the similarities in terms of the same movies and not so much in terms of the numerical values. Thus if two users tend to see the same movies but have different rating styles, for example one giving overall high values and the other far lower, would still appear closer using the Pearson Correlation. The Eucledian distance however, would show them farther appart as seen in the table above because it weights the values of the rankings heavily."
   ]
  },
  {
   "cell_type": "code",
   "execution_count": 47,
   "metadata": {},
   "outputs": [
    {
     "data": {
      "image/png": "[encoded data removed]",
      "text/plain": [
       "<Figure size 432x288 with 1 Axes>"
      ]
     },
     "metadata": {},
     "output_type": "display_data"
    }
   ],
   "source": [
    "movies_user1=data[data['user_id'] ==1 ][['user_id','movie_id','rating']]\n",
    "movies_user2=data[data['user_id'] ==8 ][['user_id','movie_id','rating']]\n",
    "    \n",
    "# FIND SHARED FILMS\n",
    "rep=pd.merge(movies_user1 ,movies_user2,on='movie_id')\n",
    "x = rep.rating_x + np.random.normal(loc=0.0, scale=0.1, size=len(rep.rating_x))\n",
    "y = rep.rating_y + np.random.normal(loc=0.0, scale=0.1, size=len(rep.rating_y))\n",
    "    \n",
    "a = rep.groupby(['rating_x', 'rating_y']).size()\n",
    "x = []\n",
    "y = []\n",
    "s = []\n",
    "for item,b in a.iteritems():\n",
    "    x.append(item[0])\n",
    "    y.append(item[1])\n",
    "    s.append(b*30)\n",
    "\n",
    "fig = plt.figure(figsize=(6, 4))\n",
    "plt.scatter(x, y, s=s)\n",
    "plt.xlabel('Rating User 1')\n",
    "plt.ylabel('Rating User ' + str(8))\n",
    "plt.axis([0.5,5.5,0.5,5.5])\n",
    "plt.savefig(\"../images/corre18.png\", dpi= 300, bbox_inches='tight')\n",
    "plt.show()"
   ]
  },
  {
   "cell_type": "markdown",
   "metadata": {},
   "source": [
    "And, with user 31:"
   ]
  },
  {
   "cell_type": "code",
   "execution_count": 48,
   "metadata": {},
   "outputs": [
    {
     "data": {
      "image/png": "[encoded data removed]",
      "text/plain": [
       "<Figure size 432x288 with 1 Axes>"
      ]
     },
     "metadata": {},
     "output_type": "display_data"
    }
   ],
   "source": [
    "movies_user1=data[data['user_id'] ==1 ][['user_id','movie_id','rating']]\n",
    "movies_user2=data[data['user_id'] ==31 ][['user_id','movie_id','rating']]\n",
    "    \n",
    "# FIND SHARED FILMS\n",
    "rep = pd.merge(movies_user1, movies_user2, on='movie_id')\n",
    "x = rep.rating_x + np.random.normal(loc=0.0, scale=0.1, size=len(rep.rating_x))\n",
    "y = rep.rating_y + np.random.normal(loc=0.0, scale=0.1, size=len(rep.rating_y))\n",
    "    \n",
    "a = rep.groupby(['rating_x', 'rating_y']).size()\n",
    "x = []\n",
    "y = []\n",
    "s = []\n",
    "\n",
    "fig = plt.figure(figsize=(6,4))\n",
    "for item,b in a.iteritems():\n",
    "    x.append(item[0])\n",
    "    y.append(item[1])\n",
    "    s.append(b*30)\n",
    "plt.scatter(x, y, s=s)\n",
    "plt.xlabel('Rating User 1')\n",
    "plt.ylabel('Rating User ' + str(31))\n",
    "plt.axis([0.5,5.5,0.5,5.5])\n",
    "plt.savefig(\"../images/corre131.png\", dpi=300, bbox_inches='tight')\n",
    "plt.show()\n"
   ]
  },
  {
   "cell_type": "markdown",
   "metadata": {},
   "source": [
    "<h3>Evaluation: performance criterion</h3>\n",
    "In order to validate the system, we will divide the dataset into two different sets: one called $X_{\\text{train}}$ containing  $80\\%$ of the data from each user; and another called $X_{\\text{test}}$, with the remaining $20\\%$ of the data from each user. In the following code we create a function"
   ]
  },
  {
   "cell_type": "code",
   "execution_count": 49,
   "metadata": {
    "scrolled": false
   },
   "outputs": [
    {
     "name": "stdout",
     "output_type": "stream",
     "text": [
      "(79619, 8)\n",
      "(20381, 8)\n",
      "Int64Index([], dtype='int64')\n",
      "Training data_set has 79619 ratings\n",
      "Test data set has 20381 ratings\n",
      "La BD has  1682  movies\n"
     ]
    }
   ],
   "source": [
    "def assign_to_set(df):\n",
    "    sampled_ids = np.random.choice(df.index,\n",
    "                                   size=np.int64(np.ceil(df.index.size * 0.2)),\n",
    "                                   replace=False)\n",
    "    df.loc[sampled_ids, 'for_testing'] = True\n",
    "    return df\n",
    "\n",
    "data['for_testing'] = False\n",
    "groupped = data.groupby('user_id', group_keys=False).apply(assign_to_set)\n",
    "# use mask to separate train and test sets\n",
    "data_train = data[groupped.for_testing == False]\n",
    "data_test = data[groupped.for_testing == True]\n",
    "print (data_train.shape)\n",
    "print (data_test.shape)\n",
    "print (data_train.index & data_test.index)\n",
    "\n",
    "print (\"The training data set has \" + str(data_train.shape[0]) + \" ratings\")\n",
    "print (\"The test data set has \" + str(data_test.shape[0]) + \" ratings\")\n",
    "print (\"The data set has \" + str(data.movie_id.nunique()) + \" movies\")"
   ]
  },
  {
   "cell_type": "markdown",
   "metadata": {},
   "source": [
    "\n",
    "Once the data is divided in these sets, we can build a model with the  **training set** and evaluate its performance using the **test set**. In our case, the evaluation will be performed using the standard RMSE:"
   ]
  },
  {
   "cell_type": "code",
   "execution_count": 50,
   "metadata": {},
   "outputs": [],
   "source": [
    "def compute_rmse(y_pred, y_true):\n",
    "    \"\"\" Compute Root Mean Squared Error. \"\"\"\n",
    "    return np.sqrt(np.mean(np.power(y_pred - y_true, 2)))"
   ]
  },
  {
   "cell_type": "markdown",
   "metadata": {},
   "source": [
    "## Recommender System \n",
    "We can define our recommender system with a Python class. This class consists of a constructor and two methods: fit and predict."
   ]
  },
  {
   "cell_type": "code",
   "execution_count": 51,
   "metadata": {},
   "outputs": [],
   "source": [
    "class CollaborativeFiltering:\n",
    "    \"\"\" Collaborative filtering using a custom sim(u,u'). \"\"\"\n",
    "    \n",
    "    def __init__(self, DataFrame, similarity=SimPearson):\n",
    "        \"\"\" Constructor \"\"\"\n",
    "        self.sim_method = similarity # Gets recommendations for a person by using a weighted average\n",
    "        self.df = DataFrame\n",
    "        self.sim = pd.DataFrame(np.sum([0]),columns=data_train.user_id.unique(), index=data_train.user_id.unique())\n",
    "\n",
    "    def learn(self):\n",
    "        \"\"\" Prepare data structures for estimation. Similarity matrix for users \"\"\"\n",
    "        allUsers=set(self.df['user_id'])\n",
    "        self.sim = {}\n",
    "        for person1 in allUsers:\n",
    "            self.sim.setdefault(person1, {})\n",
    "            a = data_train[data_train['user_id']==person1][['movie_id']]\n",
    "            data_reduced = pd.merge(data_train, a, on='movie_id')\n",
    "            for person2 in allUsers:\n",
    "                # no es comparem am nosalres mateixos\n",
    "                if person1==person2: \n",
    "                    continue\n",
    "                self.sim.setdefault(person2, {})\n",
    "                if(person1 in self.sim[person2]):\n",
    "                    continue # since is a simetric matrix\n",
    "                sim = self.sim_method(data_reduced, person1, person2)\n",
    "                if(sim<0):\n",
    "                    self.sim[person1][person2]=0\n",
    "                    self.sim[person2][person1]=0\n",
    "                else:\n",
    "                    self.sim[person1][person2]=sim\n",
    "                    self.sim[person2][person1]=sim\n",
    "                \n",
    "    def estimate(self, user_id, movie_id):\n",
    "        totals={}\n",
    "        movie_users=self.df[self.df['movie_id'] ==movie_id]\n",
    "        rating_num=0.0\n",
    "        rating_den=0.0\n",
    "        allUsers=set(movie_users['user_id'])\n",
    "        for other in allUsers:\n",
    "            if user_id==other: \n",
    "                continue \n",
    "            rating_num += self.sim[user_id][other] * float(movie_users[movie_users['user_id']==other]['rating'])\n",
    "            rating_den += self.sim[user_id][other]\n",
    "        if rating_den==0: \n",
    "            if self.df.rating[self.df['movie_id']==movie_id].mean()>0:\n",
    "                # return the mean movie rating if there is no similar for the computation\n",
    "                return self.df.rating[self.df['movie_id']==movie_id].mean()\n",
    "            else:\n",
    "                # else return mean user rating \n",
    "                return self.df.rating[self.df['user_id']==user_id].mean()\n",
    "        return rating_num/rating_den"
   ]
  },
  {
   "cell_type": "code",
   "execution_count": 52,
   "metadata": {
    "scrolled": false
   },
   "outputs": [
    {
     "name": "stderr",
     "output_type": "stream",
     "text": [
      "/home/pablo/anaconda3/envs/py3/lib/python3.7/site-packages/scipy/stats/stats.py:3508: PearsonRConstantInputWarning: An input array is constant; the correlation coefficent is not defined.\n",
      "  warnings.warn(PearsonRConstantInputWarning())\n"
     ]
    },
    {
     "data": {
      "text/plain": [
       "3.913338575249871"
      ]
     },
     "execution_count": 52,
     "metadata": {},
     "output_type": "execute_result"
    }
   ],
   "source": [
    "reco = CollaborativeFiltering(data_train)\n",
    "reco.learn()\n",
    "reco.estimate(user_id=2, movie_id=1)"
   ]
  },
  {
   "cell_type": "markdown",
   "metadata": {},
   "source": [
    "We define the function `evaluate` which estimates the score for all items in the test set and compares them with the real values using the RMSE."
   ]
  },
  {
   "cell_type": "code",
   "execution_count": 55,
   "metadata": {},
   "outputs": [],
   "source": [
    "def evaluate(estimate_f,data_train,data_test):\n",
    "    \"\"\" RMSE-based predictive performance evaluation with pandas. \"\"\"\n",
    "    ids_to_estimate = zip(data_test.user_id, data_test.movie_id)\n",
    "    estimated = np.array([estimate_f(u,i) if u in data_train.user_id else 3 for (u,i) in ids_to_estimate ])\n",
    "    real = data_test.rating.values\n",
    "    return compute_rmse(estimated, real)"
   ]
  },
  {
   "cell_type": "code",
   "execution_count": 57,
   "metadata": {},
   "outputs": [
    {
     "name": "stdout",
     "output_type": "stream",
     "text": [
      "RMSE for Collaborative Recomender: 1.0666726643589217\n"
     ]
    }
   ],
   "source": [
    "print('RMSE for Collaborative Recomender: %s' % evaluate(reco.estimate,data_train,data_test))"
   ]
  },
  {
   "cell_type": "markdown",
   "metadata": {},
   "source": [
    "<div class  = \"alert alert-success\">**EXERCISE 1**<p>\n",
    "Modify the Recomender System using as a prediction function the following equation:\n",
    "$$pred(a,p) = \\bar{r_a} + \\frac{\\sum_{b \\in N}{sim(a,b)*(r_{b,p}-\\bar{r_b})}}{\\sum_{b \\in N}{sim(a,b)}}$$\n",
    "\n",
    "</div>"
   ]
  },
  {
   "cell_type": "code",
   "execution_count": 60,
   "metadata": {},
   "outputs": [],
   "source": [
    "class CollaborativeFiltering2:\n",
    "    \"\"\" Collaborative filtering using a custom sim(u,u'). \"\"\"\n",
    "    \n",
    "    def __init__(self,DataFrame, similarity=SimPearson):\n",
    "        \"\"\" Constructor \"\"\"\n",
    "        self.sim_method=similarity# Gets recommendations for a person by using a weighted average\n",
    "        self.df=DataFrame\n",
    "        self.sim = pd.DataFrame(np.sum([0]),columns=data_train.user_id.unique(), index=data_train.user_id.unique())\n",
    "\n",
    "    def learn(self):\n",
    "        \"\"\" Prepare data structures for estimation. Similarity matrix for users \"\"\"\n",
    "        allUsers=set(self.df['user_id'])\n",
    "        self.sim = {}\n",
    "        for person1 in allUsers:\n",
    "            self.sim.setdefault(person1, {})\n",
    "            a=data_train[data_train['user_id']==person1][['movie_id']]\n",
    "            data_reduced=pd.merge(data_train,a,on='movie_id')\n",
    "            for person2 in allUsers:\n",
    "                # no es comparem am nosalres mateixos\n",
    "                if person1==person2: \n",
    "                    continue\n",
    "                self.sim.setdefault(person2, {})\n",
    "                if(person1 in self.sim[person2]):\n",
    "                    continue # since is a simetric matrix\n",
    "                sim=self.sim_method(data_reduced,person1,person2)\n",
    "                #print person1,person2,sim\n",
    "                if(sim<0):\n",
    "                    self.sim[person1][person2]=0\n",
    "                    self.sim[person2][person1]=0\n",
    "                else:\n",
    "                    self.sim[person1][person2]=sim\n",
    "                    self.sim[person2][person1]=sim\n",
    "                \n",
    "        self.mean_ratings=mean_rating=data_train[['user_id','movie_id','rating']].groupby('user_id')['rating'].mean()\n",
    "                \n",
    "                \n",
    "    def estimate(self, user_id, movie_id):\n",
    "        \n",
    "        totals={}\n",
    "        movie_users=self.df[self.df['movie_id'] ==movie_id]\n",
    "        rating_num=0.0\n",
    "        rating_den=0.0\n",
    "        allUsers=set(movie_users['user_id'])\n",
    "        for other in allUsers:\n",
    "            if user_id==other: continue \n",
    "            rating_num += self.sim[user_id][other] * (float(movie_users[movie_users['user_id']==other]['rating']-self.mean_ratings[other]))\n",
    "            rating_den += self.sim[user_id][other]\n",
    "        if rating_den==0: \n",
    "            if self.df.rating[self.df['movie_id']==movie_id].mean()>0:\n",
    "                # return the mean movie rating if there is no similar for the computation\n",
    "                return self.df.rating[self.df['movie_id']==movie_id].mean()\n",
    "            else:\n",
    "                # else return mean user rating \n",
    "                return self.df.rating[self.df['user_id']==user_id].mean()\n",
    "        return self.mean_ratings[user_id]+rating_num/rating_den\n",
    "\n"
   ]
  },
  {
   "cell_type": "code",
   "execution_count": 65,
   "metadata": {},
   "outputs": [
    {
     "name": "stdout",
     "output_type": "stream",
     "text": [
      "Time to train: 0:00:00.003482 s\n",
      "Time to learn: 1:04:36.155564 s\n",
      "Time to estimate: 0:00:00.202588 s\n"
     ]
    }
   ],
   "source": [
    "from datetime import datetime\n",
    "time1 = datetime.now()\n",
    "reco2 = CollaborativeFiltering2(data_train)\n",
    "time2 = datetime.now()\n",
    "reco2.learn()\n",
    "time3 = datetime.now()\n",
    "reco2.estimate(user_id=2,movie_id=1)\n",
    "time4 = datetime.now()\n",
    "print(\"Time to intantiate CF object: {} s\".format(time2-time1))\n",
    "print(\"Time to learn: {} s\".format(time3-time2))\n",
    "print(\"Time to estimate: {} s\".format(time4-time3))"
   ]
  },
  {
   "cell_type": "code",
   "execution_count": 67,
   "metadata": {},
   "outputs": [
    {
     "name": "stdout",
     "output_type": "stream",
     "text": [
      "RMSE for Collaborative Recomender: 1.0147242276348227\n",
      "Time to evaluate RMSE: 0:20:11.146849 s\n"
     ]
    }
   ],
   "source": [
    "time1 = datetime.now()\n",
    "print('RMSE for Collaborative Recomender: %s' % evaluate(reco2.estimate,data_train,data_test))\n",
    "time2 = datetime.now()\n",
    "print(\"Time to evaluate RMSE: {} s\".format(time2-time1))"
   ]
  },
  {
   "cell_type": "markdown",
   "metadata": {},
   "source": [
    "<div class=\"alert alert-success\">\n",
    "**EXERCISE 2:**<br>\n",
    "Modify the recomender system from the previous exercice, with one that in order to estimate the score of a movie B for the user A only uses the subset of the N most similar users to user A. Define N as a parameter of the Recommender.\n",
    "</div>"
   ]
  },
  {
   "cell_type": "code",
   "execution_count": 70,
   "metadata": {},
   "outputs": [],
   "source": [
    "class CollaborativeFiltering3:\n",
    "    \"\"\" Collaborative filtering using a custom sim(u,u'). \"\"\"\n",
    "    \n",
    "    def __init__(self,DataFrame, similarity=SimPearson, min_common_items=10, max_sim_users=10):\n",
    "        \"\"\" Constructor \"\"\"\n",
    "        self.sim_method=similarity# Gets recommendations for a person by using a weighted average\n",
    "        self.df=DataFrame\n",
    "        self.sim = pd.DataFrame(np.sum([0]), columns=data_train.user_id.unique(), \\\n",
    "                                index=data_train.user_id.unique())\n",
    "        self.min_common_items=min_common_items\n",
    "        self.max_sim_users=max_sim_users\n",
    "\n",
    "    def learn(self):\n",
    "        \"\"\" Prepare data structures for estimation. Similarity matrix for users \"\"\"\n",
    "        allUsers = set(self.df['user_id'])\n",
    "        self.sim = {}\n",
    "        for person1 in allUsers:\n",
    "            self.sim.setdefault(person1, {})\n",
    "            a = data_train[data_train['user_id']==person1][['movie_id']]\n",
    "            data_reduced = pd.merge(data_train, a, on='movie_id')\n",
    "            for person2 in allUsers:\n",
    "                # no es comparem am nosalres mateixos => we don’t compare ourselves to ourselves\n",
    "                if person1 == person2: \n",
    "                    continue\n",
    "                self.sim.setdefault(person2, {})\n",
    "                if(person1 in self.sim[person2] ):\n",
    "                    continue # since is a simetric matrix\n",
    "                sim=self.sim_method(data_reduced, person1, person2, self.min_common_items)\n",
    "                #print person1,person2,sim\n",
    "                if(sim<0):\n",
    "                    self.sim[person1][person2] = 0\n",
    "                    self.sim[person2][person1] = 0\n",
    "                else:\n",
    "                    self.sim[person1][person2] = sim\n",
    "                    self.sim[person2][person1] = sim\n",
    "                \n",
    "        self.mean_ratings = data_train[['user_id','movie_id','rating']] \\\n",
    "                .groupby('user_id')['rating'] \\\n",
    "                .mean()\n",
    "                \n",
    "                \n",
    "    def estimate(self, user_id, movie_id):\n",
    "        \n",
    "        totals = {}\n",
    "        movie_users = self.df[self.df['movie_id'] == movie_id]\n",
    "        rating_num = 0.0\n",
    "        rating_den = 0.0\n",
    "        allUsers = set(movie_users['user_id'])\n",
    "        listOrdered = sorted([(self.sim[user_id][other], other) for other in allUsers if user_id!=other], \n",
    "                             reverse=True)\n",
    "        \n",
    "        for item in range(min(len(listOrdered), self.max_sim_users)):\n",
    "            other=listOrdered[item][1]\n",
    "            rating_num += self.sim[user_id][other] * (float(movie_users[movie_users['user_id']==other]['rating']-self.mean_ratings[other]))\n",
    "            rating_den += self.sim[user_id][other]\n",
    "        if rating_den==0: \n",
    "            if self.df.rating[self.df['movie_id']==movie_id].mean()>0:\n",
    "                # return the mean movie rating if there is no similar for the computation\n",
    "                return self.df.rating[self.df['movie_id']==movie_id].mean()\n",
    "            else:\n",
    "                # else return mean user rating \n",
    "                return self.df.rating[self.df['user_id']==user_id].mean()\n",
    "            \n",
    "        return self.mean_ratings[user_id]+rating_num/rating_den\n"
   ]
  },
  {
   "cell_type": "code",
   "execution_count": 72,
   "metadata": {},
   "outputs": [
    {
     "name": "stdout",
     "output_type": "stream",
     "text": [
      "Time to instantiate CF object: 0:00:00.002541 s\n",
      "Time to learn: 0:32:14.877788 s\n",
      "Time to estimate: 0:00:00.006804 s\n"
     ]
    }
   ],
   "source": [
    "time1 = datetime.now()\n",
    "reco3 = CollaborativeFiltering3(data_train,similarity=SimPearson,min_common_items=1,max_sim_users=10)\n",
    "time2 = datetime.now()\n",
    "reco3.learn()\n",
    "time3 = datetime.now()\n",
    "reco3.estimate(user_id=2,movie_id=1)\n",
    "time4 = datetime.now()\n",
    "print(\"Time to instantiate CF object: {} hh:mm:ss\".format(time2-time1))\n",
    "print(\"Time to learn: {} hh:mm:ss\".format(time3-time2))\n",
    "print(\"Time to estimate: {} hh:mm:ss\".format(time4-time3))"
   ]
  },
  {
   "cell_type": "code",
   "execution_count": 73,
   "metadata": {},
   "outputs": [
    {
     "name": "stdout",
     "output_type": "stream",
     "text": [
      "RMSE for Collaborative Recomender: 1.038362972697743\n",
      "Time to evaluate RMSE: 0:01:45.524459 s\n"
     ]
    }
   ],
   "source": [
    "time1 = datetime.now()\n",
    "print(\"RMSE for Collaborative Recomender: {0:.4f}\".format(evaluate(reco3.estimate,data_train,data_test)))\n",
    "time2 = datetime.now()\n",
    "print(\"Time to evaluate RMSE: {} hh:mm:ss\".format(time2-time1))"
   ]
  },
  {
   "cell_type": "markdown",
   "metadata": {},
   "source": [
    "<div class  = \"alert alert-success\">**EXERCISE 4**<p>\n",
    "Modify the similarity function with the following:\n",
    "$$new\\_sim(a,b) = sim(a,b) * \\frac{min(50,|P_{ab}|)}{50} $$\n",
    "where $|P_{ab}|$ is the number of common items with user $a$ and user $b$\n",
    "</div>"
   ]
  },
  {
   "cell_type": "code",
   "execution_count": 76,
   "metadata": {},
   "outputs": [
    {
     "name": "stdout",
     "output_type": "stream",
     "text": [
      "Time to instantiate CF object: 0:00:00.003670 s\n",
      "Time to learn: 0:31:36.665995 s\n",
      "Time to estimate: 0:00:00.007334 s\n"
     ]
    }
   ],
   "source": [
    "# Returns a pearsonCorrealation-based similarity score for person1 and person2\n",
    "def SimPearsonCorrected(DataFrame,User1,User2,min_common_items=1,pref_common_items=20):\n",
    "    # GET MOVIES OF USER1\n",
    "    movies_user1 = DataFrame[DataFrame['user_id'] == User1 ]\n",
    "    # GET MOVIES OF USER2\n",
    "    movies_user2 = DataFrame[DataFrame['user_id'] == User2 ]\n",
    "    \n",
    "    # FIND SHARED FILMS\n",
    "    rep = pd.merge(movies_user1, movies_user2, on='movie_id')\n",
    "    if len(rep) == 0:\n",
    "        return 0    \n",
    "    if(len(rep) < min_common_items):\n",
    "        return 0    \n",
    "    if len(rep['rating_x']) < 2 or len(rep['rating_y']) < 2:\n",
    "        return 0\n",
    "    res=pearsonr(rep['rating_x'],rep['rating_y'])[0] * min(pref_common_items,len(rep))/pref_common_items\n",
    "    if(isnan(res)):\n",
    "        return 0\n",
    "    return res\n",
    "\n",
    "time1 = datetime.now()\n",
    "reco4 = CollaborativeFiltering3(data_train,similarity=SimPearsonCorrected,min_common_items=1,max_sim_users=10)\n",
    "time2 = datetime.now()\n",
    "reco4.learn()\n",
    "time3 = datetime.now()\n",
    "reco4.estimate(user_id=2,movie_id=1)\n",
    "time4 = datetime.now()\n",
    "print(\"Time to instantiate CF object: {} hh:mm:ss\".format(time2-time1))\n",
    "print(\"Time to learn: {} hh:mm:ss\".format(time3-time2))\n",
    "print(\"Time to estimate: {} hh:mm:ss\".format(time4-time3))"
   ]
  },
  {
   "cell_type": "code",
   "execution_count": null,
   "metadata": {},
   "outputs": [],
   "source": [
    "time1 = datetime.now()\n",
    "print('RMSE for Collaborative Recomender: {0:.4f}'.format(evaluate(reco4.estimate,data_train,data_test)))\n",
    "time2 = datetime.now()\n",
    "print(\"Time to evaluate RMSE: {} hh:mm:ss\".format(time2-time1))"
   ]
  },
  {
   "cell_type": "markdown",
   "metadata": {
    "collapsed": true
   },
   "source": [
    "<div class=\"alert alert-success\">\n",
    "**EXERCISE 5:**\n",
    "Create an item-based recommender system. <br>Instead of computing similiarity between users we need to compute similarities between items. \n",
    "</div>"
   ]
  },
  {
   "cell_type": "code",
   "execution_count": 79,
   "metadata": {},
   "outputs": [],
   "source": [
    "class CollaborativeFilteringItemBased:\n",
    "    \"\"\" Item-Based Collaborative filtering using a custom sim(p,p'). \"\"\"\n",
    "    \n",
    "    def __init__(self, DataFrame, similarity=SimPearson, min_common_items=10, max_sim_movies=10):\n",
    "        \"\"\" Constructor \"\"\"\n",
    "        self.sim_method = similarity # Gets recommendations for a person by using a weighted average\n",
    "        self.df = DataFrame\n",
    "        self.sim = pd.DataFrame(np.sum([0]), columns=data_train.movie_id.unique(), \\\n",
    "                                index=data_train.movie_id.unique())\n",
    "        self.min_common_items = min_common_items\n",
    "        self.max_sim_movies = max_sim_movies\n",
    "\n",
    "    def learn(self):\n",
    "        \"\"\" Prepare data structures for estimation. Similarity matrix for users \"\"\"\n",
    "        allMovies=set(self.df['movie_id'])\n",
    "        self.sim = {}\n",
    "        for movie1 in allMovies:\n",
    "            self.sim.setdefault(movie1, {})\n",
    "            a = data_train[data_train['movie_id'] == movie1][['user_id']]\n",
    "            data_reduced = pd.merge(data_train, a, on='user_id')\n",
    "            for movie2 in allMovies:\n",
    "                # no es comparem am nosalres mateixos\n",
    "                if movie1 == movie2: \n",
    "                    continue\n",
    "                self.sim.setdefault(movie2, {})\n",
    "                if(movie1 in self.sim[movie2]):\n",
    "                    continue # since is a simetric matrix\n",
    "                sim=self.sim_method(data_reduced, movie1, movie2, self.min_common_items)\n",
    "                #print movie1,movie2,sim\n",
    "                if(sim<0):\n",
    "                    self.sim[movie1][movie2] = 0\n",
    "                    self.sim[movie2][movie1] = 0\n",
    "                else:\n",
    "                    self.sim[movie1][movie2] = sim\n",
    "                    self.sim[movie2][movie1] = sim\n",
    "                \n",
    "                \n",
    "                \n",
    "    def estimate(self, user_id, movie_id):\n",
    "        \n",
    "        totals = {}\n",
    "        movie_users = self.df[self.df['user_id'] == user_id]\n",
    "        rating_num = 0.0\n",
    "        rating_den = 0.0\n",
    "        allMovies = set(movie_users['movie_id'])\n",
    "        \n",
    "        listOrdered = sorted([(self.sim[movie_id][other],other) \\\n",
    "                              for other in allMovies if movie_id!=other], reverse=True)\n",
    "        \n",
    "        for item in range(min(len(listOrdered),self.max_sim_movies)):\n",
    "            other=listOrdered[item][1]\n",
    "            rating_num += self.sim[movie_id][other] * \\\n",
    "                (float(movie_users[movie_users['movie_id'] == other]['rating']))\n",
    "            rating_den += self.sim[movie_id][other]\n",
    "        if rating_den==0: \n",
    "            if self.df.rating[self.df['movie_id'] == movie_id].mean() > 0:\n",
    "                # return the mean movie rating if there is no similar for the computation\n",
    "                return self.df.rating[self.df['movie_id'] == movie_id].mean()\n",
    "            else:\n",
    "                # else return mean user rating \n",
    "                return self.df.rating[self.df['user_id'] == user_id].mean()\n",
    "\n",
    "        return rating_num/rating_den"
   ]
  },
  {
   "cell_type": "code",
   "execution_count": 81,
   "metadata": {},
   "outputs": [
    {
     "name": "stdout",
     "output_type": "stream",
     "text": [
      "Time to instantiate item-based CF object: 0:00:00.014962 hh:mm:ss\n",
      "Time to learn: 2:03:50.465175 hh:mm:ss\n",
      "Time to estimate: 0:00:00.007537 hh:mm:ss\n"
     ]
    }
   ],
   "source": [
    "time1 = datetime.now()\n",
    "reco5 = CollaborativeFilteringItemBased(data_train, similarity=SimPearson, \\\n",
    "                                        min_common_items=1, max_sim_movies=10)\n",
    "time2 = datetime.now()\n",
    "reco5.learn()\n",
    "time3 = datetime.now()\n",
    "reco5.estimate(user_id=2, movie_id=1)\n",
    "time4 = datetime.now()\n",
    "print(\"Time to instantiate item-based CF object: {} hh:mm:ss\".format(time2-time1))\n",
    "print(\"Time to learn: {} hh:mm:ss\".format(time3-time2))\n",
    "print(\"Time to estimate: {} hh:mm:ss\".format(time4-time3))"
   ]
  },
  {
   "cell_type": "code",
   "execution_count": null,
   "metadata": {},
   "outputs": [],
   "source": [
    "time1 = datetime.now()\n",
    "print('RMSE for Collaborative Recomender: {0:.4f}'.format(evaluate(reco5.estimate, data_train, data_test)))\n",
    "time2 = datetime.now()\n",
    "print(\"Time to evaluate RMSE: {} hh:mm:ss\".format(time2-time1))"
   ]
  }
 ],
 "metadata": {
  "anaconda-cloud": {},
  "kernelspec": {
   "display_name": "Python 3",
   "language": "python",
   "name": "python3"
  },
  "language_info": {
   "codemirror_mode": {
    "name": "ipython",
    "version": 3
   },
   "file_extension": ".py",
   "mimetype": "text/x-python",
   "name": "python",
   "nbconvert_exporter": "python",
   "pygments_lexer": "ipython3",
   "version": "3.7.6"
  }
 },
 "nbformat": 4,
 "nbformat_minor": 1
}
