{
 "cells": [
  {
   "cell_type": "code",
   "execution_count": 45,
   "metadata": {},
   "outputs": [],
   "source": [
    "import numpy as np\n",
    "import matplotlib.pyplot as plt\n",
    "import random"
   ]
  },
  {
   "cell_type": "code",
   "execution_count": 46,
   "metadata": {},
   "outputs": [],
   "source": [
    "x = np.array([[1],[2],[3]])\n",
    "y = np.array([1,2,3])"
   ]
  },
  {
   "cell_type": "code",
   "execution_count": 47,
   "metadata": {},
   "outputs": [
    {
     "data": {
      "text/plain": [
       "<matplotlib.collections.PathCollection at 0x7faba715fb90>"
      ]
     },
     "execution_count": 47,
     "metadata": {},
     "output_type": "execute_result"
    },
    {
     "data": {
      "image/png": "[encoded data removed]",
      "text/plain": [
       "<Figure size 432x288 with 1 Axes>"
      ]
     },
     "metadata": {
      "needs_background": "light"
     },
     "output_type": "display_data"
    }
   ],
   "source": [
    "plt.scatter(x,y, color='black')"
   ]
  },
  {
   "cell_type": "code",
   "execution_count": 48,
   "metadata": {},
   "outputs": [
    {
     "name": "stdout",
     "output_type": "stream",
     "text": [
      "Number of training samples: 3\n"
     ]
    }
   ],
   "source": [
    "m = len(x) # number of training samples\n",
    "print(\"Number of training samples: {}\".format(m))"
   ]
  },
  {
   "cell_type": "markdown",
   "metadata": {},
   "source": [
    "Select some random values for the paramethers $\\theta$, here represented as `t`"
   ]
  },
  {
   "cell_type": "code",
   "execution_count": 49,
   "metadata": {},
   "outputs": [
    {
     "name": "stdout",
     "output_type": "stream",
     "text": [
      "theta_0 is 0.49\n",
      "theta_1 is 0.6\n"
     ]
    }
   ],
   "source": [
    "t0 = random.random()\n",
    "t1 = random.random()\n",
    "print(\"theta_0 is {}\".format(round(t0,2)))\n",
    "print(\"theta_1 is {}\".format(round(t1,2)))"
   ]
  },
  {
   "cell_type": "code",
   "execution_count": 50,
   "metadata": {},
   "outputs": [
    {
     "name": "stdout",
     "output_type": "stream",
     "text": [
      "Initial learning rate, alpha: 0.5\n",
      "number of iterations 100\n"
     ]
    }
   ],
   "source": [
    "alpha = 0.5\n",
    "iterations = 100\n",
    "print(\"Initial learning rate, alpha: {}\".format(alpha))\n",
    "print(\"number of iterations {}\".format(iterations))"
   ]
  },
  {
   "cell_type": "code",
   "execution_count": 51,
   "metadata": {},
   "outputs": [
    {
     "name": "stdout",
     "output_type": "stream",
     "text": [
      "t0 goes to: [0.17424843]\n",
      "t1 goes to: [0.92585827]\n"
     ]
    }
   ],
   "source": [
    "for i in range(iterations):\n",
    "    sum_t0=sum_t1=0\n",
    "    for j in range(m):\n",
    "        sum_t0 = sum_t0 + ((t0 + t1 * x[j]) - y[j])\n",
    "        sum_t1 = sum_t1 + ((t0 + t1 * x[j]) - y[j]) * x[j]\n",
    "        sum_t0 = sum_t0 / m\n",
    "        sum_t1 = sum_t1 / m\n",
    "    #updating parametersd with gradient Descent update formula\n",
    "    t0 = t0 - alpha * sum_t0\n",
    "    t1 = t1 - alpha * sum_t1\n",
    "print(\"t0 goes to: {}\".format(t0))\n",
    "print(\"t1 goes to: {}\".format(t1))"
   ]
  },
  {
   "cell_type": "code",
   "execution_count": 53,
   "metadata": {
    "scrolled": true
   },
   "outputs": [
    {
     "data": {
      "text/plain": [
       "[<matplotlib.lines.Line2D at 0x7faba705f450>]"
      ]
     },
     "execution_count": 53,
     "metadata": {},
     "output_type": "execute_result"
    },
    {
     "data": {
      "image/png": "[encoded data removed]",
      "text/plain": [
       "<Figure size 432x288 with 1 Axes>"
      ]
     },
     "metadata": {
      "needs_background": "light"
     },
     "output_type": "display_data"
    }
   ],
   "source": [
    "\n",
    "for i in range(m):\n",
    "    h[i] = t0 + t1 * x[i]\n",
    "plt.scatter(x, y, color='red')\n",
    "plt.plot(h,y,color='blue',linewidth=3)"
   ]
  },
  {
   "cell_type": "code",
   "execution_count": 55,
   "metadata": {},
   "outputs": [
    {
     "data": {
      "text/plain": [
       "[<matplotlib.lines.Line2D at 0x7faba6f7b910>]"
      ]
     },
     "execution_count": 55,
     "metadata": {},
     "output_type": "execute_result"
    },
    {
     "data": {
      "image/png": "[encoded data removed]",
      "text/plain": [
       "<Figure size 432x288 with 1 Axes>"
      ]
     },
     "metadata": {
      "needs_background": "light"
     },
     "output_type": "display_data"
    }
   ],
   "source": [
    "plt.scatter(x,y, color='black')\n",
    "h = np.array([[1.0],[1.0],[1.0]])\n",
    "plt.plot(h,y,color='blue',linewidth=3)"
   ]
  },
  {
   "cell_type": "code",
   "execution_count": 57,
   "metadata": {},
   "outputs": [
    {
     "name": "stdout",
     "output_type": "stream",
     "text": [
      "[0.83333333]\n"
     ]
    }
   ],
   "source": [
    "loss = list()\n",
    "for i in range(m):\n",
    "    loss.append((h[i] - y[i])**2)\n",
    "loss = sum(loss)\n",
    "loss = loss / m\n",
    "loss = loss /2\n",
    "print(loss)"
   ]
  },
  {
   "cell_type": "code",
   "execution_count": null,
   "metadata": {},
   "outputs": [],
   "source": []
  }
 ],
 "metadata": {
  "kernelspec": {
   "display_name": "Python 3",
   "language": "python",
   "name": "python3"
  },
  "language_info": {
   "codemirror_mode": {
    "name": "ipython",
    "version": 3
   },
   "file_extension": ".py",
   "mimetype": "text/x-python",
   "name": "python",
   "nbconvert_exporter": "python",
   "pygments_lexer": "ipython3",
   "version": "3.7.6"
  }
 },
 "nbformat": 4,
 "nbformat_minor": 4
}
